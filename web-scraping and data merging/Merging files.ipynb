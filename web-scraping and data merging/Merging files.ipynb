{
 "cells": [
  {
   "cell_type": "code",
   "execution_count": 2,
   "metadata": {},
   "outputs": [],
   "source": [
    "import pandas as pd\n",
    "import numpy as np"
   ]
  },
  {
   "cell_type": "code",
   "execution_count": 3,
   "metadata": {},
   "outputs": [],
   "source": [
    "df1 = pd.read_csv(\"/Users/muneraalrajhi/Desktop/datasets/etabpoems.csv\")\n",
    "df2 = pd.read_csv(\"/Users/muneraalrajhi/Desktop/datasets/foraqpoems.csv\")\n",
    "df3 = pd.read_csv(\"/Users/muneraalrajhi/Desktop/datasets/HejaPoems.csv\")\n",
    "df4 = pd.read_csv(\"/Users/muneraalrajhi/Desktop/datasets/MadehPoems.csv\")\n",
    "df5 = pd.read_csv(\"/Users/muneraalrajhi/Desktop/datasets/rethapoems.csv\")\n",
    "df6 = pd.read_csv(\"/Users/muneraalrajhi/Desktop/datasets/romancedata.csv\")\n",
    "df7 = pd.read_csv(\"/Users/muneraalrajhi/Desktop/datasets/SadnessPoems.csv\")\n",
    "df8 = pd.read_csv(\"/Users/muneraalrajhi/Desktop/datasets/ShougPoems.csv\")"
   ]
  },
  {
   "cell_type": "code",
   "execution_count": 4,
   "metadata": {},
   "outputs": [
    {
     "name": "stdout",
     "output_type": "stream",
     "text": [
      "(1359, 7)\n",
      "(912, 7)\n",
      "(1087, 7)\n",
      "(1506, 7)\n",
      "(2496, 7)\n",
      "(1111, 7)\n",
      "(1395, 7)\n",
      "(1325, 7)\n"
     ]
    }
   ],
   "source": [
    "print(df1.shape)\n",
    "print(df2.shape)\n",
    "print(df3.shape)\n",
    "print(df4.shape)\n",
    "print(df5.shape)\n",
    "print(df6.shape)\n",
    "print(df7.shape)\n",
    "print(df8.shape)"
   ]
  },
  {
   "cell_type": "code",
   "execution_count": 5,
   "metadata": {},
   "outputs": [],
   "source": [
    "df = pd.concat([df1, df2,df3,df4,df5,df6,df7,df8])"
   ]
  },
  {
   "cell_type": "code",
   "execution_count": 6,
   "metadata": {},
   "outputs": [
    {
     "data": {
      "text/plain": [
       "(11191, 7)"
      ]
     },
     "execution_count": 6,
     "metadata": {},
     "output_type": "execute_result"
    }
   ],
   "source": [
    "df.shape"
   ]
  },
  {
   "cell_type": "code",
   "execution_count": 10,
   "metadata": {},
   "outputs": [
    {
     "data": {
      "text/html": [
       "<div>\n",
       "<style scoped>\n",
       "    .dataframe tbody tr th:only-of-type {\n",
       "        vertical-align: middle;\n",
       "    }\n",
       "\n",
       "    .dataframe tbody tr th {\n",
       "        vertical-align: top;\n",
       "    }\n",
       "\n",
       "    .dataframe thead th {\n",
       "        text-align: right;\n",
       "    }\n",
       "</style>\n",
       "<table border=\"1\" class=\"dataframe\">\n",
       "  <thead>\n",
       "    <tr style=\"text-align: right;\">\n",
       "      <th></th>\n",
       "      <th>Poem</th>\n",
       "      <th>Number of Versus</th>\n",
       "      <th>Poet</th>\n",
       "      <th>Century</th>\n",
       "      <th>Label</th>\n",
       "      <th>Type</th>\n",
       "      <th>Metre</th>\n",
       "    </tr>\n",
       "  </thead>\n",
       "  <tbody>\n",
       "    <tr>\n",
       "      <th>0</th>\n",
       "      <td>أصابت سهام الحتف يا حسرة الدهرصريح قريش والخلا...</td>\n",
       "      <td>&lt;p class=\"d-inline-block px-2 mt-0 mb-1 poem-c...</td>\n",
       "      <td>أبو المحاسن الكربلائي</td>\n",
       "      <td>العراق</td>\n",
       "      <td>قصائد عتاب</td>\n",
       "      <td>عموديه</td>\n",
       "      <td>بحر الطويل</td>\n",
       "    </tr>\n",
       "    <tr>\n",
       "      <th>1</th>\n",
       "      <td>جئت يا دهر بالرزية بكراًغادرت مهجة الهدى وهي ح...</td>\n",
       "      <td>&lt;p class=\"d-inline-block px-2 mt-0 mb-1 poem-c...</td>\n",
       "      <td>أبو المحاسن الكربلائي</td>\n",
       "      <td>العراق</td>\n",
       "      <td>قصائد عتاب</td>\n",
       "      <td>عموديه</td>\n",
       "      <td>بحر الخفيف</td>\n",
       "    </tr>\n",
       "    <tr>\n",
       "      <th>2</th>\n",
       "      <td>وشادن أورثني حبهكالائتلافيين حزناً طويلعز علي ...</td>\n",
       "      <td>&lt;p class=\"d-inline-block px-2 mt-0 mb-1 poem-c...</td>\n",
       "      <td>أبو المحاسن الكربلائي</td>\n",
       "      <td>العراق</td>\n",
       "      <td>قصائد عتاب</td>\n",
       "      <td>عموديه</td>\n",
       "      <td>بحر السريع</td>\n",
       "    </tr>\n",
       "    <tr>\n",
       "      <th>3</th>\n",
       "      <td>قد كانت الآمال معقودةفيك وللأمال تضليلواليوم ل...</td>\n",
       "      <td>&lt;p class=\"d-inline-block px-2 mt-0 mb-1 poem-c...</td>\n",
       "      <td>أبو المحاسن الكربلائي</td>\n",
       "      <td>العراق</td>\n",
       "      <td>قصائد عتاب</td>\n",
       "      <td>عموديه</td>\n",
       "      <td>بحر السريع</td>\n",
       "    </tr>\n",
       "    <tr>\n",
       "      <th>4</th>\n",
       "      <td>سواي على الضيم يبقى رهيناوغيري يرى ضارعاً مستك...</td>\n",
       "      <td>&lt;p class=\"d-inline-block px-2 mt-0 mb-1 poem-c...</td>\n",
       "      <td>أبو المحاسن الكربلائي</td>\n",
       "      <td>العراق</td>\n",
       "      <td>قصائد عتاب</td>\n",
       "      <td>عموديه</td>\n",
       "      <td>بحر المتقارب</td>\n",
       "    </tr>\n",
       "  </tbody>\n",
       "</table>\n",
       "</div>"
      ],
      "text/plain": [
       "                                                Poem  \\\n",
       "0  أصابت سهام الحتف يا حسرة الدهرصريح قريش والخلا...   \n",
       "1  جئت يا دهر بالرزية بكراًغادرت مهجة الهدى وهي ح...   \n",
       "2  وشادن أورثني حبهكالائتلافيين حزناً طويلعز علي ...   \n",
       "3  قد كانت الآمال معقودةفيك وللأمال تضليلواليوم ل...   \n",
       "4  سواي على الضيم يبقى رهيناوغيري يرى ضارعاً مستك...   \n",
       "\n",
       "                                    Number of Versus                   Poet  \\\n",
       "0  <p class=\"d-inline-block px-2 mt-0 mb-1 poem-c...  أبو المحاسن الكربلائي   \n",
       "1  <p class=\"d-inline-block px-2 mt-0 mb-1 poem-c...  أبو المحاسن الكربلائي   \n",
       "2  <p class=\"d-inline-block px-2 mt-0 mb-1 poem-c...  أبو المحاسن الكربلائي   \n",
       "3  <p class=\"d-inline-block px-2 mt-0 mb-1 poem-c...  أبو المحاسن الكربلائي   \n",
       "4  <p class=\"d-inline-block px-2 mt-0 mb-1 poem-c...  أبو المحاسن الكربلائي   \n",
       "\n",
       "  Century       Label    Type         Metre  \n",
       "0  العراق  قصائد عتاب  عموديه    بحر الطويل  \n",
       "1  العراق  قصائد عتاب  عموديه    بحر الخفيف  \n",
       "2  العراق  قصائد عتاب  عموديه    بحر السريع  \n",
       "3  العراق  قصائد عتاب  عموديه    بحر السريع  \n",
       "4  العراق  قصائد عتاب  عموديه  بحر المتقارب  "
      ]
     },
     "execution_count": 10,
     "metadata": {},
     "output_type": "execute_result"
    }
   ],
   "source": [
    "df.head()"
   ]
  },
  {
   "cell_type": "code",
   "execution_count": 11,
   "metadata": {},
   "outputs": [],
   "source": [
    "df.to_excel('Poems.xlsx',index=False)"
   ]
  }
 ],
 "metadata": {
  "interpreter": {
   "hash": "b636e954a0b6bc7f3d44ba0ea3984fa6b30a3ebf3ff15973f9d3fe28f5ed9b30"
  },
  "kernelspec": {
   "display_name": "Python 3.8.12 ('base')",
   "language": "python",
   "name": "python3"
  },
  "language_info": {
   "codemirror_mode": {
    "name": "ipython",
    "version": 3
   },
   "file_extension": ".py",
   "mimetype": "text/x-python",
   "name": "python",
   "nbconvert_exporter": "python",
   "pygments_lexer": "ipython3",
   "version": "3.8.12"
  },
  "orig_nbformat": 4
 },
 "nbformat": 4,
 "nbformat_minor": 2
}
