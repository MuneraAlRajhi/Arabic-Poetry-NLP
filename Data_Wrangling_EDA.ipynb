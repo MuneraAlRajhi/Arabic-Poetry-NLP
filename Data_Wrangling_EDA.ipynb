{
 "cells": [
  {
   "cell_type": "markdown",
   "metadata": {},
   "source": [
    "# Data Wrangling and EDA"
   ]
  },
  {
   "cell_type": "code",
   "execution_count": 1,
   "metadata": {},
   "outputs": [],
   "source": [
    "# libraries\n",
    "import pandas as pd\n",
    "import numpy as np\n",
    "import missingno as msno\n",
    "import matplotlib.pyplot as plt\n",
    "import seaborn as sns\n",
    "%matplotlib inline\n",
    "\n",
    "import nltk\n",
    "from nltk.corpus import stopwords\n",
    "from nltk.tokenize import word_tokenize\n",
    "from nltk.tokenize import sent_tokenize\n",
    "from nltk.stem.isri import ISRIStemmer"
   ]
  },
  {
   "cell_type": "code",
   "execution_count": 2,
   "metadata": {},
   "outputs": [],
   "source": [
    "df = pd.read_excel(\"/Users/muneraalrajhi/Desktop/Capstone Project/CapstoneProject/data/Poems.xlsx\")"
   ]
  },
  {
   "cell_type": "code",
   "execution_count": 3,
   "metadata": {},
   "outputs": [
    {
     "data": {
      "text/html": [
       "<div>\n",
       "<style scoped>\n",
       "    .dataframe tbody tr th:only-of-type {\n",
       "        vertical-align: middle;\n",
       "    }\n",
       "\n",
       "    .dataframe tbody tr th {\n",
       "        vertical-align: top;\n",
       "    }\n",
       "\n",
       "    .dataframe thead th {\n",
       "        text-align: right;\n",
       "    }\n",
       "</style>\n",
       "<table border=\"1\" class=\"dataframe\">\n",
       "  <thead>\n",
       "    <tr style=\"text-align: right;\">\n",
       "      <th></th>\n",
       "      <th>Poem</th>\n",
       "      <th>Number of Versus</th>\n",
       "      <th>Poet</th>\n",
       "      <th>Century</th>\n",
       "      <th>Label</th>\n",
       "      <th>Type</th>\n",
       "      <th>Metre</th>\n",
       "    </tr>\n",
       "  </thead>\n",
       "  <tbody>\n",
       "    <tr>\n",
       "      <th>0</th>\n",
       "      <td>أصابت سهام الحتف يا حسرة الدهرصريح قريش والخلا...</td>\n",
       "      <td>46.0</td>\n",
       "      <td>أبو المحاسن الكربلائي</td>\n",
       "      <td>العراق</td>\n",
       "      <td>قصائد عتاب</td>\n",
       "      <td>عموديه</td>\n",
       "      <td>بحر الطويل</td>\n",
       "    </tr>\n",
       "    <tr>\n",
       "      <th>1</th>\n",
       "      <td>جئت يا دهر بالرزية بكراغادرت مهجة الهدى وهي حر...</td>\n",
       "      <td>37.0</td>\n",
       "      <td>أبو المحاسن الكربلائي</td>\n",
       "      <td>العراق</td>\n",
       "      <td>قصائد عتاب</td>\n",
       "      <td>عموديه</td>\n",
       "      <td>بحر الخفيف</td>\n",
       "    </tr>\n",
       "    <tr>\n",
       "      <th>2</th>\n",
       "      <td>وشادن أورثني حبهكالائتلافيين حزنا طويلعز علي ا...</td>\n",
       "      <td>14.0</td>\n",
       "      <td>أبو المحاسن الكربلائي</td>\n",
       "      <td>العراق</td>\n",
       "      <td>قصائد عتاب</td>\n",
       "      <td>عموديه</td>\n",
       "      <td>بحر السريع</td>\n",
       "    </tr>\n",
       "    <tr>\n",
       "      <th>3</th>\n",
       "      <td>قد كانت الآمال معقودةفيك وللأمال تضليلواليوم ل...</td>\n",
       "      <td>11.0</td>\n",
       "      <td>أبو المحاسن الكربلائي</td>\n",
       "      <td>العراق</td>\n",
       "      <td>قصائد عتاب</td>\n",
       "      <td>عموديه</td>\n",
       "      <td>بحر السريع</td>\n",
       "    </tr>\n",
       "    <tr>\n",
       "      <th>4</th>\n",
       "      <td>سواي على الضيم يبقى رهيناوغيري يرى ضارعا مستكي...</td>\n",
       "      <td>87.0</td>\n",
       "      <td>أبو المحاسن الكربلائي</td>\n",
       "      <td>العراق</td>\n",
       "      <td>قصائد عتاب</td>\n",
       "      <td>عموديه</td>\n",
       "      <td>بحر المتقارب</td>\n",
       "    </tr>\n",
       "  </tbody>\n",
       "</table>\n",
       "</div>"
      ],
      "text/plain": [
       "                                                Poem  Number of Versus  \\\n",
       "0  أصابت سهام الحتف يا حسرة الدهرصريح قريش والخلا...              46.0   \n",
       "1  جئت يا دهر بالرزية بكراغادرت مهجة الهدى وهي حر...              37.0   \n",
       "2  وشادن أورثني حبهكالائتلافيين حزنا طويلعز علي ا...              14.0   \n",
       "3  قد كانت الآمال معقودةفيك وللأمال تضليلواليوم ل...              11.0   \n",
       "4  سواي على الضيم يبقى رهيناوغيري يرى ضارعا مستكي...              87.0   \n",
       "\n",
       "                    Poet Century       Label    Type         Metre  \n",
       "0  أبو المحاسن الكربلائي  العراق  قصائد عتاب  عموديه    بحر الطويل  \n",
       "1  أبو المحاسن الكربلائي  العراق  قصائد عتاب  عموديه    بحر الخفيف  \n",
       "2  أبو المحاسن الكربلائي  العراق  قصائد عتاب  عموديه    بحر السريع  \n",
       "3  أبو المحاسن الكربلائي  العراق  قصائد عتاب  عموديه    بحر السريع  \n",
       "4  أبو المحاسن الكربلائي  العراق  قصائد عتاب  عموديه  بحر المتقارب  "
      ]
     },
     "execution_count": 3,
     "metadata": {},
     "output_type": "execute_result"
    }
   ],
   "source": [
    "df.head()"
   ]
  },
  {
   "cell_type": "code",
   "execution_count": 4,
   "metadata": {},
   "outputs": [
    {
     "data": {
      "text/plain": [
       "(11191, 7)"
      ]
     },
     "execution_count": 4,
     "metadata": {},
     "output_type": "execute_result"
    }
   ],
   "source": [
    "df.shape"
   ]
  },
  {
   "cell_type": "code",
   "execution_count": 5,
   "metadata": {},
   "outputs": [
    {
     "name": "stdout",
     "output_type": "stream",
     "text": [
      "<class 'pandas.core.frame.DataFrame'>\n",
      "RangeIndex: 11191 entries, 0 to 11190\n",
      "Data columns (total 7 columns):\n",
      " #   Column            Non-Null Count  Dtype  \n",
      "---  ------            --------------  -----  \n",
      " 0   Poem              11189 non-null  object \n",
      " 1   Number of Versus  10997 non-null  float64\n",
      " 2   Poet              11191 non-null  object \n",
      " 3   Century           11190 non-null  object \n",
      " 4   Label             11191 non-null  object \n",
      " 5   Type              11191 non-null  object \n",
      " 6   Metre             11191 non-null  object \n",
      "dtypes: float64(1), object(6)\n",
      "memory usage: 612.1+ KB\n"
     ]
    }
   ],
   "source": [
    "df.info()"
   ]
  },
  {
   "cell_type": "markdown",
   "metadata": {},
   "source": [
    "#### handle missing values and duplicates:"
   ]
  },
  {
   "cell_type": "code",
   "execution_count": 6,
   "metadata": {},
   "outputs": [
    {
     "data": {
      "text/plain": [
       "Poem                  2\n",
       "Number of Versus    194\n",
       "Poet                  0\n",
       "Century               1\n",
       "Label                 0\n",
       "Type                  0\n",
       "Metre                 0\n",
       "dtype: int64"
      ]
     },
     "execution_count": 6,
     "metadata": {},
     "output_type": "execute_result"
    }
   ],
   "source": [
    "df.isnull().sum()"
   ]
  },
  {
   "cell_type": "code",
   "execution_count": 7,
   "metadata": {},
   "outputs": [
    {
     "data": {
      "text/plain": [
       "<AxesSubplot:>"
      ]
     },
     "execution_count": 7,
     "metadata": {},
     "output_type": "execute_result"
    },
    {
     "data": {
      "image/png": "[encoded data removed]",
      "text/plain": [
       "<Figure size 1800x720 with 2 Axes>"
      ]
     },
     "metadata": {
      "needs_background": "light"
     },
     "output_type": "display_data"
    }
   ],
   "source": [
    "#plot missing values\n",
    "msno.matrix(df)"
   ]
  },
  {
   "cell_type": "code",
   "execution_count": 8,
   "metadata": {},
   "outputs": [],
   "source": [
    "#drop missing values\n",
    "df = df.dropna()"
   ]
  },
  {
   "cell_type": "code",
   "execution_count": 9,
   "metadata": {},
   "outputs": [
    {
     "data": {
      "text/plain": [
       "4"
      ]
     },
     "execution_count": 9,
     "metadata": {},
     "output_type": "execute_result"
    }
   ],
   "source": [
    "# check for duplicates\n",
    "df.duplicated().sum()"
   ]
  },
  {
   "cell_type": "code",
   "execution_count": 10,
   "metadata": {},
   "outputs": [],
   "source": [
    "# drop duplicates \n",
    "df = df.drop_duplicates()"
   ]
  },
  {
   "cell_type": "code",
   "execution_count": 11,
   "metadata": {},
   "outputs": [
    {
     "data": {
      "text/plain": [
       "Poem                10966\n",
       "Number of Versus      152\n",
       "Poet                  425\n",
       "Century                23\n",
       "Label                   8\n",
       "Type                    1\n",
       "Metre                  65\n",
       "dtype: int64"
      ]
     },
     "execution_count": 11,
     "metadata": {},
     "output_type": "execute_result"
    }
   ],
   "source": [
    "df.nunique()"
   ]
  },
  {
   "cell_type": "code",
   "execution_count": 12,
   "metadata": {},
   "outputs": [
    {
     "data": {
      "text/plain": [
       "قصائد رثاء       2451\n",
       "قصائد مدح        1454\n",
       "قصائد حزينه      1363\n",
       "قصائد عتاب       1359\n",
       "قصائد شوق        1295\n",
       "قصائد رومنسيه    1111\n",
       "قصائد هجاء       1047\n",
       "قصائد فراق        910\n",
       "Name: Label, dtype: int64"
      ]
     },
     "execution_count": 12,
     "metadata": {},
     "output_type": "execute_result"
    }
   ],
   "source": [
    "df[\"Label\"].value_counts()"
   ]
  },
  {
   "cell_type": "markdown",
   "metadata": {},
   "source": [
    "## Data Cleaning"
   ]
  },
  {
   "cell_type": "code",
   "execution_count": 13,
   "metadata": {},
   "outputs": [],
   "source": [
    "# Convert Number of Versus type to object and remove the decimal\n",
    "df['Number of Versus'] = df['Number of Versus'].astype(str).replace('\\.0', '', regex=True)\n",
    "\n",
    "# Remove \\n from the content \n",
    "df['Poem'] = df['Poem'].replace(\"\\xa0\",\" \", regex=True)\n",
    "df['Poem'] = df['Poem'].replace('\\n',' ', regex=True)\n",
    "df['Poem'] = df['Poem'].replace(\"\\t\",\" \", regex=True)\n",
    "df['Poem'] = df['Poem'].replace(\"ًٌٍَُِّْ\",\" \", regex=True)\n",
    "\n",
    "# Replac non relative Metre to NaN\n",
    "df.loc[df['Metre'].str.contains('قافية',na=False), 'Metre'] = np.nan\n",
    "\n",
    "# Rename the labels \n",
    "df[\"Label\"] = df[\"Label\"].replace(['قصائد رثاء'],'رثاء')\n",
    "df[\"Label\"] = df[\"Label\"].replace(['قصائد مدح'],'مدح')\n",
    "df[\"Label\"] = df[\"Label\"].replace(['قصائد حزينه'],'حزن')\n",
    "df[\"Label\"] = df[\"Label\"].replace(['قصائد عتاب'],'عتاب')\n",
    "df[\"Label\"] = df[\"Label\"].replace(['قصائد شوق'],'شوق')\n",
    "df[\"Label\"] = df[\"Label\"].replace(['قصائد رومنسيه'],'رومنسيه')\n",
    "df[\"Label\"] = df[\"Label\"].replace(['قصائد هجاء'],'هجاء')\n",
    "df[\"Label\"] = df[\"Label\"].replace(['قصائد فراق'],'فراق')\n",
    "\n"
   ]
  },
  {
   "cell_type": "code",
   "execution_count": 14,
   "metadata": {},
   "outputs": [
    {
     "data": {
      "text/html": [
       "<div>\n",
       "<style scoped>\n",
       "    .dataframe tbody tr th:only-of-type {\n",
       "        vertical-align: middle;\n",
       "    }\n",
       "\n",
       "    .dataframe tbody tr th {\n",
       "        vertical-align: top;\n",
       "    }\n",
       "\n",
       "    .dataframe thead th {\n",
       "        text-align: right;\n",
       "    }\n",
       "</style>\n",
       "<table border=\"1\" class=\"dataframe\">\n",
       "  <thead>\n",
       "    <tr style=\"text-align: right;\">\n",
       "      <th></th>\n",
       "      <th>Poem</th>\n",
       "      <th>Number of Versus</th>\n",
       "      <th>Poet</th>\n",
       "      <th>Century</th>\n",
       "      <th>Label</th>\n",
       "      <th>Type</th>\n",
       "      <th>Metre</th>\n",
       "    </tr>\n",
       "  </thead>\n",
       "  <tbody>\n",
       "    <tr>\n",
       "      <th>9064</th>\n",
       "      <td>إنما الطيف الملم فرح يتلوه هم قلما يحمد أمر لي...</td>\n",
       "      <td>2</td>\n",
       "      <td>الوزير المهلبي</td>\n",
       "      <td>العصر العباسي</td>\n",
       "      <td>حزن</td>\n",
       "      <td>عموديه</td>\n",
       "      <td>بحر مجزوء الرمل</td>\n",
       "    </tr>\n",
       "    <tr>\n",
       "      <th>7553</th>\n",
       "      <td>ثلاث تقود الصعب وهي حميدة فلا حيلة من بعدها لل...</td>\n",
       "      <td>2</td>\n",
       "      <td>المعولي العماني</td>\n",
       "      <td>عمان</td>\n",
       "      <td>رومنسيه</td>\n",
       "      <td>عموديه</td>\n",
       "      <td>بحر الطويل</td>\n",
       "    </tr>\n",
       "    <tr>\n",
       "      <th>6176</th>\n",
       "      <td>يا ذا الذي لا أهجره وعلى القلى لا أعذره ماذا ي...</td>\n",
       "      <td>24</td>\n",
       "      <td>ابن الزيات</td>\n",
       "      <td>العصر العباسي</td>\n",
       "      <td>رثاء</td>\n",
       "      <td>عموديه</td>\n",
       "      <td>بحر مجزوء الكامل</td>\n",
       "    </tr>\n",
       "    <tr>\n",
       "      <th>7306</th>\n",
       "      <td>أتعرف أطلالا بميسرة اللوى إلى أرعب قد حالفتك ب...</td>\n",
       "      <td>8</td>\n",
       "      <td>وضاح اليمن</td>\n",
       "      <td>العصر الاموي</td>\n",
       "      <td>رثاء</td>\n",
       "      <td>عموديه</td>\n",
       "      <td>بحر الطويل</td>\n",
       "    </tr>\n",
       "    <tr>\n",
       "      <th>9318</th>\n",
       "      <td>لعل الخيال العامري إذا سرى يدل عيون الهاشمي عل...</td>\n",
       "      <td>4</td>\n",
       "      <td>ابن الهبارية</td>\n",
       "      <td>العصر العباسي</td>\n",
       "      <td>حزن</td>\n",
       "      <td>عموديه</td>\n",
       "      <td>NaN</td>\n",
       "    </tr>\n",
       "    <tr>\n",
       "      <th>7625</th>\n",
       "      <td>سفرت فهيجنا الصباح الثاني وبدت لنا فتثلث القمر...</td>\n",
       "      <td>36</td>\n",
       "      <td>عبد الرحمن السويدي</td>\n",
       "      <td>العراق</td>\n",
       "      <td>رومنسيه</td>\n",
       "      <td>عموديه</td>\n",
       "      <td>بحر الكامل</td>\n",
       "    </tr>\n",
       "    <tr>\n",
       "      <th>7983</th>\n",
       "      <td>حلو الشمائل ذو المحاسن وجهه نور الجمال عليه أب...</td>\n",
       "      <td>2</td>\n",
       "      <td>المفتي عبداللطيف فتح الله</td>\n",
       "      <td>لبنان</td>\n",
       "      <td>رومنسيه</td>\n",
       "      <td>عموديه</td>\n",
       "      <td>بحر الكامل</td>\n",
       "    </tr>\n",
       "    <tr>\n",
       "      <th>7613</th>\n",
       "      <td>مضى المحبون من قبلي على سنن وفي الهوى عملوا با...</td>\n",
       "      <td>22</td>\n",
       "      <td>صالح مجدي بك</td>\n",
       "      <td>مصر</td>\n",
       "      <td>رومنسيه</td>\n",
       "      <td>عموديه</td>\n",
       "      <td>بحر البسيط</td>\n",
       "    </tr>\n",
       "    <tr>\n",
       "      <th>8382</th>\n",
       "      <td>في بحرك ما المراد غير الغرق في عشقك ما طاب كرى...</td>\n",
       "      <td>2</td>\n",
       "      <td>نظام الدين الأصفهاني</td>\n",
       "      <td>العصر المملوكي</td>\n",
       "      <td>رومنسيه</td>\n",
       "      <td>عموديه</td>\n",
       "      <td>بحر الدوبيت</td>\n",
       "    </tr>\n",
       "    <tr>\n",
       "      <th>8933</th>\n",
       "      <td>يا غرير الدموع أين الدموع كم تريد البكا وما تس...</td>\n",
       "      <td>13</td>\n",
       "      <td>عباس محمود العقاد</td>\n",
       "      <td>مصر</td>\n",
       "      <td>حزن</td>\n",
       "      <td>عموديه</td>\n",
       "      <td>بحر الخفيف</td>\n",
       "    </tr>\n",
       "  </tbody>\n",
       "</table>\n",
       "</div>"
      ],
      "text/plain": [
       "                                                   Poem Number of Versus  \\\n",
       "9064  إنما الطيف الملم فرح يتلوه هم قلما يحمد أمر لي...                2   \n",
       "7553  ثلاث تقود الصعب وهي حميدة فلا حيلة من بعدها لل...                2   \n",
       "6176  يا ذا الذي لا أهجره وعلى القلى لا أعذره ماذا ي...               24   \n",
       "7306  أتعرف أطلالا بميسرة اللوى إلى أرعب قد حالفتك ب...                8   \n",
       "9318  لعل الخيال العامري إذا سرى يدل عيون الهاشمي عل...                4   \n",
       "7625  سفرت فهيجنا الصباح الثاني وبدت لنا فتثلث القمر...               36   \n",
       "7983  حلو الشمائل ذو المحاسن وجهه نور الجمال عليه أب...                2   \n",
       "7613  مضى المحبون من قبلي على سنن وفي الهوى عملوا با...               22   \n",
       "8382  في بحرك ما المراد غير الغرق في عشقك ما طاب كرى...                2   \n",
       "8933  يا غرير الدموع أين الدموع كم تريد البكا وما تس...               13   \n",
       "\n",
       "                           Poet         Century    Label    Type  \\\n",
       "9064             الوزير المهلبي   العصر العباسي      حزن  عموديه   \n",
       "7553            المعولي العماني            عمان  رومنسيه  عموديه   \n",
       "6176                 ابن الزيات   العصر العباسي     رثاء  عموديه   \n",
       "7306                 وضاح اليمن    العصر الاموي     رثاء  عموديه   \n",
       "9318               ابن الهبارية   العصر العباسي      حزن  عموديه   \n",
       "7625         عبد الرحمن السويدي          العراق  رومنسيه  عموديه   \n",
       "7983  المفتي عبداللطيف فتح الله           لبنان  رومنسيه  عموديه   \n",
       "7613               صالح مجدي بك             مصر  رومنسيه  عموديه   \n",
       "8382       نظام الدين الأصفهاني  العصر المملوكي  رومنسيه  عموديه   \n",
       "8933          عباس محمود العقاد             مصر      حزن  عموديه   \n",
       "\n",
       "                 Metre  \n",
       "9064   بحر مجزوء الرمل  \n",
       "7553        بحر الطويل  \n",
       "6176  بحر مجزوء الكامل  \n",
       "7306        بحر الطويل  \n",
       "9318               NaN  \n",
       "7625        بحر الكامل  \n",
       "7983        بحر الكامل  \n",
       "7613        بحر البسيط  \n",
       "8382       بحر الدوبيت  \n",
       "8933        بحر الخفيف  "
      ]
     },
     "execution_count": 14,
     "metadata": {},
     "output_type": "execute_result"
    }
   ],
   "source": [
    "df.sample(10)"
   ]
  },
  {
   "cell_type": "markdown",
   "metadata": {},
   "source": [
    "### Data visualization"
   ]
  },
  {
   "cell_type": "code",
   "execution_count": 15,
   "metadata": {},
   "outputs": [
    {
     "data": {
      "text/plain": [
       "Label\n",
       "حزن        1363\n",
       "رثاء       2451\n",
       "رومنسيه    1111\n",
       "شوق        1295\n",
       "عتاب       1359\n",
       "فراق        910\n",
       "مدح        1454\n",
       "هجاء       1047\n",
       "dtype: int64"
      ]
     },
     "execution_count": 15,
     "metadata": {},
     "output_type": "execute_result"
    }
   ],
   "source": [
    "poemsperlabel = df.groupby('Label').size()\n",
    "poemsperlabel"
   ]
  },
  {
   "cell_type": "code",
   "execution_count": 16,
   "metadata": {},
   "outputs": [
    {
     "data": {
      "image/png": "[encoded data removed]",
      "text/plain": [
       "<Figure size 720x720 with 1 Axes>"
      ]
     },
     "metadata": {
      "needs_background": "light"
     },
     "output_type": "display_data"
    }
   ],
   "source": [
    "# Number of poems per label\n",
    "poemsperlabel.sort_values(ascending=False).plot(kind='bar',figsize=(10,10), color='g')\n",
    "plt.title(('Number of poems per label'))\n",
    "plt.xlabel(\"Labels\");\n"
   ]
  },
  {
   "cell_type": "code",
   "execution_count": 17,
   "metadata": {},
   "outputs": [
    {
     "data": {
      "text/plain": [
       "Metre\n",
       "بحر أحذ الكامل          93\n",
       "بحر البسيط            1542\n",
       "بحر الخفيف             846\n",
       "بحر الدوبيت            393\n",
       "بحر الرجز              257\n",
       "بحر الرمل              226\n",
       "بحر السريع             473\n",
       "بحر السلسلة              3\n",
       "بحر الطويل            2690\n",
       "بحر القوما               1\n",
       "بحر الكامل            1533\n",
       "بحر المتدارك            15\n",
       "بحر المتقارب           427\n",
       "بحر المجتث             132\n",
       "بحر المديد              66\n",
       "بحر المضارع              1\n",
       "بحر المقتضب              2\n",
       "بحر المنسرح            213\n",
       "بحر المواليا            13\n",
       "بحر الهزج               42\n",
       "بحر الوافر             879\n",
       "بحر مجزوء البسيط        12\n",
       "بحر مجزوء الخفيف        51\n",
       "بحر مجزوء الدوبيت        1\n",
       "بحر مجزوء الرجز         88\n",
       "بحر مجزوء الرمل        159\n",
       "بحر مجزوء السريع         1\n",
       "بحر مجزوء الطويل         1\n",
       "بحر مجزوء الكامل       275\n",
       "بحر مجزوء المتقارب       8\n",
       "بحر مجزوء المجتث         2\n",
       "بحر مجزوء المديد         1\n",
       "بحر مجزوء الوافر        57\n",
       "بحر مجزوء موشح           2\n",
       "بحر مخلع البسيط        150\n",
       "بحر مخلع الكامل          1\n",
       "بحر مشطور الرجز          5\n",
       "بحر منهوك المنسرح        1\n",
       "بحر موشح                72\n",
       "dtype: int64"
      ]
     },
     "execution_count": 17,
     "metadata": {},
     "output_type": "execute_result"
    }
   ],
   "source": [
    "poemsperpoet = df.groupby('Metre').size()\n",
    "poemsperpoet"
   ]
  },
  {
   "cell_type": "code",
   "execution_count": 18,
   "metadata": {},
   "outputs": [
    {
     "data": {
      "image/png": "[encoded data removed]",
      "text/plain": [
       "<Figure size 720x720 with 1 Axes>"
      ]
     },
     "metadata": {
      "needs_background": "light"
     },
     "output_type": "display_data"
    }
   ],
   "source": [
    "# Number of poems per label\n",
    "poemsperpoet.sort_values().plot(kind='barh',figsize=(10,10))\n",
    "plt.title(('Number of poems per label'))\n",
    "plt.xlabel(\"Labels\");"
   ]
  },
  {
   "cell_type": "code",
   "execution_count": 19,
   "metadata": {},
   "outputs": [
    {
     "data": {
      "text/plain": [
       "Century\n",
       "الأردن               6\n",
       "الجزائر              7\n",
       "السعودية             5\n",
       "العراق             411\n",
       "العصر الأندلسي     671\n",
       "العصر الاسلامي       8\n",
       "العصر الاموي       772\n",
       "العصر الايوبي      602\n",
       "العصر الجاهلي       77\n",
       "العصر العباسي     3029\n",
       "العصر العثماني     833\n",
       "العصر المملوكي    1594\n",
       "المخضرمون          268\n",
       "المغرب              28\n",
       "اليمن               50\n",
       "تونس               101\n",
       "سوريا              194\n",
       "عمان               151\n",
       "فلسطين              13\n",
       "لبنان              922\n",
       "ليبيا               26\n",
       "مصر               1219\n",
       "موريتانيا            3\n",
       "dtype: int64"
      ]
     },
     "execution_count": 19,
     "metadata": {},
     "output_type": "execute_result"
    }
   ],
   "source": [
    "poemsperCentury = df.groupby('Century').size()\n",
    "poemsperCentury"
   ]
  },
  {
   "cell_type": "code",
   "execution_count": 20,
   "metadata": {},
   "outputs": [
    {
     "data": {
      "image/png": "[encoded data removed]",
      "text/plain": [
       "<Figure size 720x720 with 1 Axes>"
      ]
     },
     "metadata": {
      "needs_background": "light"
     },
     "output_type": "display_data"
    }
   ],
   "source": [
    "# Number of poems per label\n",
    "poemsperCentury.sort_values().plot(kind='bar',figsize=(10,10))\n",
    "plt.title(('Number of poems per label'))\n",
    "plt.xlabel(\"Labels\");"
   ]
  },
  {
   "cell_type": "markdown",
   "metadata": {},
   "source": [
    "### Text Data Processing"
   ]
  },
  {
   "cell_type": "code",
   "execution_count": 21,
   "metadata": {},
   "outputs": [
    {
     "name": "stderr",
     "output_type": "stream",
     "text": [
      "[nltk_data] Downloading package stopwords to\n",
      "[nltk_data]     /Users/muneraalrajhi/nltk_data...\n",
      "[nltk_data]   Package stopwords is already up-to-date!\n"
     ]
    }
   ],
   "source": [
    "nltk.download(\"stopwords\")\n",
    "arabic_stopwords = set(nltk.corpus.stopwords.words(\"arabic\"))"
   ]
  },
  {
   "cell_type": "code",
   "execution_count": 22,
   "metadata": {},
   "outputs": [
    {
     "name": "stdout",
     "output_type": "stream",
     "text": [
      "['،', 'ء', 'ءَ', 'آ', 'آب', 'آذار', 'آض', 'آل', 'آمينَ', 'آناء', 'آنفا', 'آه', 'آهاً', 'آهٍ', 'آهِ', 'أ', 'أبدا', 'أبريل', 'أبو', 'أبٌ', 'أجل', 'أجمع', 'أحد', 'أخبر', 'أخذ', 'أخو', 'أخٌ', 'أربع', 'أربعاء', 'أربعة', 'أربعمئة', 'أربعمائة', 'أرى', 'أسكن', 'أصبح', 'أصلا', 'أضحى', 'أطعم', 'أعطى', 'أعلم', 'أغسطس', 'أفريل', 'أفعل به', 'أفٍّ', 'أقبل', 'أكتوبر', 'أل', 'ألا', 'ألف', 'ألفى', 'أم', 'أما', 'أمام', 'أمامك', 'أمامكَ', 'أمد', 'أمس', 'أمسى', 'أمّا', 'أن', 'أنا', 'أنبأ', 'أنت', 'أنتم', 'أنتما', 'أنتن', 'أنتِ', 'أنشأ', 'أنه', 'أنًّ', 'أنّى', 'أهلا', 'أو', 'أوت', 'أوشك', 'أول', 'أولئك', 'أولاء', 'أولالك', 'أوّهْ', 'أى', 'أي', 'أيا', 'أيار', 'أيضا', 'أيلول', 'أين', 'أيّ', 'أيّان', 'أُفٍّ', 'ؤ', 'إحدى', 'إذ', 'إذا', 'إذاً', 'إذما', 'إذن', 'إزاء', 'إلى', 'إلي', 'إليكم', 'إليكما', 'إليكنّ', 'إليكَ', 'إلَيْكَ', 'إلّا', 'إمّا', 'إن', 'إنَّ', 'إى', 'إياك', 'إياكم', 'إياكما', 'إياكن', 'إيانا', 'إياه', 'إياها', 'إياهم', 'إياهما', 'إياهن', 'إياي', 'إيهٍ', 'ئ', 'ا', 'ا?', 'ا?ى', 'االا', 'االتى', 'ابتدأ', 'ابين', 'اتخذ', 'اثر', 'اثنا', 'اثنان', 'اثني', 'اثنين', 'اجل', 'احد', 'اخرى', 'اخلولق', 'اذا', 'اربعة', 'اربعون', 'اربعين', 'ارتدّ', 'استحال', 'اصبح', 'اضحى', 'اطار', 'اعادة', 'اعلنت', 'اف', 'اكثر', 'اكد', 'الآن', 'الألاء', 'الألى', 'الا', 'الاخيرة', 'الان', 'الاول', 'الاولى', 'التى', 'التي', 'الثاني', 'الثانية', 'الحالي', 'الذاتي', 'الذى', 'الذي', 'الذين', 'السابق', 'الف', 'اللاتي', 'اللتان', 'اللتيا', 'اللتين', 'اللذان', 'اللذين', 'اللواتي', 'الماضي', 'المقبل', 'الوقت', 'الى', 'الي', 'اليه', 'اليها', 'اليوم', 'اما', 'امام', 'امس', 'امسى', 'ان', 'انبرى', 'انقلب', 'انه', 'انها', 'او', 'اول', 'اي', 'ايار', 'ايام', 'ايضا', 'ب', 'بؤسا', 'بإن', 'بئس', 'باء', 'بات', 'باسم', 'بان', 'بخٍ', 'بد', 'بدلا', 'برس', 'بسبب', 'بسّ', 'بشكل', 'بضع', 'بطآن', 'بعد', 'بعدا', 'بعض', 'بغتة', 'بل', 'بلى', 'بن', 'به', 'بها', 'بهذا', 'بيد', 'بين', 'بَسْ', 'بَلْهَ', 'ة', 'ت', 'تاء', 'تارة', 'تاسع', 'تانِ', 'تانِك', 'تبدّل', 'تجاه', 'تحت', 'تحوّل', 'تخذ', 'ترك', 'تسع', 'تسعة', 'تسعمئة', 'تسعمائة', 'تسعون', 'تسعين', 'تشرين', 'تعسا', 'تعلَّم', 'تفعلان', 'تفعلون', 'تفعلين', 'تكون', 'تلقاء', 'تلك', 'تم', 'تموز', 'تينك', 'تَيْنِ', 'تِه', 'تِي', 'ث', 'ثاء', 'ثالث', 'ثامن', 'ثان', 'ثاني', 'ثلاث', 'ثلاثاء', 'ثلاثة', 'ثلاثمئة', 'ثلاثمائة', 'ثلاثون', 'ثلاثين', 'ثم', 'ثمان', 'ثمانمئة', 'ثمانون', 'ثماني', 'ثمانية', 'ثمانين', 'ثمنمئة', 'ثمَّ', 'ثمّ', 'ثمّة', 'ج', 'جانفي', 'جدا', 'جعل', 'جلل', 'جمعة', 'جميع', 'جنيه', 'جوان', 'جويلية', 'جير', 'جيم', 'ح', 'حاء', 'حادي', 'حار', 'حاشا', 'حاليا', 'حاي', 'حبذا', 'حبيب', 'حتى', 'حجا', 'حدَث', 'حرى', 'حزيران', 'حسب', 'حقا', 'حمدا', 'حمو', 'حمٌ', 'حوالى', 'حول', 'حيث', 'حيثما', 'حين', 'حيَّ', 'حَذارِ', 'خ', 'خاء', 'خاصة', 'خال', 'خامس', 'خبَّر', 'خلا', 'خلافا', 'خلال', 'خلف', 'خمس', 'خمسة', 'خمسمئة', 'خمسمائة', 'خمسون', 'خمسين', 'خميس', 'د', 'دال', 'درهم', 'درى', 'دواليك', 'دولار', 'دون', 'دونك', 'ديسمبر', 'دينار', 'ذ', 'ذا', 'ذات', 'ذاك', 'ذال', 'ذانك', 'ذانِ', 'ذلك', 'ذهب', 'ذو', 'ذيت', 'ذينك', 'ذَيْنِ', 'ذِه', 'ذِي', 'ر', 'رأى', 'راء', 'رابع', 'راح', 'رجع', 'رزق', 'رويدك', 'ريال', 'ريث', 'رُبَّ', 'ز', 'زاي', 'زعم', 'زود', 'زيارة', 'س', 'ساء', 'سابع', 'سادس', 'سبت', 'سبتمبر', 'سبحان', 'سبع', 'سبعة', 'سبعمئة', 'سبعمائة', 'سبعون', 'سبعين', 'ست', 'ستة', 'ستكون', 'ستمئة', 'ستمائة', 'ستون', 'ستين', 'سحقا', 'سرا', 'سرعان', 'سقى', 'سمعا', 'سنة', 'سنتيم', 'سنوات', 'سوف', 'سوى', 'سين', 'ش', 'شباط', 'شبه', 'شتانَ', 'شخصا', 'شرع', 'شمال', 'شيكل', 'شين', 'شَتَّانَ', 'ص', 'صاد', 'صار', 'صباح', 'صبر', 'صبرا', 'صدقا', 'صراحة', 'صفر', 'صهٍ', 'صهْ', 'ض', 'ضاد', 'ضحوة', 'ضد', 'ضمن', 'ط', 'طاء', 'طاق', 'طالما', 'طرا', 'طفق', 'طَق', 'ظ', 'ظاء', 'ظل', 'ظلّ', 'ظنَّ', 'ع', 'عاد', 'عاشر', 'عام', 'عاما', 'عامة', 'عجبا', 'عدا', 'عدة', 'عدد', 'عدم', 'عدَّ', 'عسى', 'عشر', 'عشرة', 'عشرون', 'عشرين', 'عل', 'علق', 'علم', 'على', 'علي', 'عليك', 'عليه', 'عليها', 'علًّ', 'عن', 'عند', 'عندما', 'عنه', 'عنها', 'عوض', 'عيانا', 'عين', 'عَدَسْ', 'غ', 'غادر', 'غالبا', 'غدا', 'غداة', 'غير', 'غين', 'ـ', 'ف', 'فإن', 'فاء', 'فان', 'فانه', 'فبراير', 'فرادى', 'فضلا', 'فقد', 'فقط', 'فكان', 'فلان', 'فلس', 'فهو', 'فو', 'فوق', 'فى', 'في', 'فيفري', 'فيه', 'فيها', 'ق', 'قاطبة', 'قاف', 'قال', 'قام', 'قبل', 'قد', 'قرش', 'قطّ', 'قلما', 'قوة', 'ك', 'كأن', 'كأنّ', 'كأيّ', 'كأيّن', 'كاد', 'كاف', 'كان', 'كانت', 'كانون', 'كثيرا', 'كذا', 'كذلك', 'كرب', 'كسا', 'كل', 'كلتا', 'كلم', 'كلَّا', 'كلّما', 'كم', 'كما', 'كن', 'كى', 'كيت', 'كيف', 'كيفما', 'كِخ', 'ل', 'لأن', 'لا', 'لا سيما', 'لات', 'لازال', 'لاسيما', 'لام', 'لايزال', 'لبيك', 'لدن', 'لدى', 'لدي', 'لذلك', 'لعل', 'لعلَّ', 'لعمر', 'لقاء', 'لكن', 'لكنه', 'لكنَّ', 'للامم', 'لم', 'لما', 'لمّا', 'لن', 'له', 'لها', 'لهذا', 'لهم', 'لو', 'لوكالة', 'لولا', 'لوما', 'ليت', 'ليرة', 'ليس', 'ليسب', 'م', 'مئة', 'مئتان', 'ما', 'ما أفعله', 'ما انفك', 'ما برح', 'مائة', 'ماانفك', 'مابرح', 'مادام', 'ماذا', 'مارس', 'مازال', 'مافتئ', 'ماي', 'مايزال', 'مايو', 'متى', 'مثل', 'مذ', 'مرّة', 'مساء', 'مع', 'معاذ', 'معه', 'معها', 'مقابل', 'مكانكم', 'مكانكما', 'مكانكنّ', 'مكانَك', 'مليار', 'مليم', 'مليون', 'مما', 'من', 'منذ', 'منه', 'منها', 'مه', 'مهما', 'ميم', 'ن', 'نا', 'نبَّا', 'نحن', 'نحو', 'نعم', 'نفس', 'نفسه', 'نهاية', 'نوفمبر', 'نون', 'نيسان', 'نيف', 'نَخْ', 'نَّ', 'ه', 'هؤلاء', 'ها', 'هاء', 'هاكَ', 'هبّ', 'هذا', 'هذه', 'هل', 'هللة', 'هلم', 'هلّا', 'هم', 'هما', 'همزة', 'هن', 'هنا', 'هناك', 'هنالك', 'هو', 'هي', 'هيا', 'هيهات', 'هيّا', 'هَؤلاء', 'هَاتانِ', 'هَاتَيْنِ', 'هَاتِه', 'هَاتِي', 'هَجْ', 'هَذا', 'هَذانِ', 'هَذَيْنِ', 'هَذِه', 'هَذِي', 'هَيْهات', 'و', 'و6', 'وأبو', 'وأن', 'وا', 'واحد', 'واضاف', 'واضافت', 'واكد', 'والتي', 'والذي', 'وان', 'واهاً', 'واو', 'واوضح', 'وبين', 'وثي', 'وجد', 'وراءَك', 'ورد', 'وعلى', 'وفي', 'وقال', 'وقالت', 'وقد', 'وقف', 'وكان', 'وكانت', 'ولا', 'ولايزال', 'ولكن', 'ولم', 'وله', 'وليس', 'ومع', 'ومن', 'وهب', 'وهذا', 'وهو', 'وهي', 'وَيْ', 'وُشْكَانَ', 'ى', 'ي', 'ياء', 'يفعلان', 'يفعلون', 'يكون', 'يلي', 'يمكن', 'يمين', 'ين', 'يناير', 'يوان', 'يورو', 'يوليو', 'يوم', 'يونيو', 'ّأيّان', 'ان', 'انا', 'انت', 'هم', 'هل', 'ابن', 'ابنه', 'بنت', 'ابناء', 'اذ', 'اذا', 'نحن', 'الله', 'اله', 'الاله', 'اللهي', 'له', 'فما', 'فكن', 'كان', 'عبد', 'ال', 'الل', 'يا']\n"
     ]
    }
   ],
   "source": [
    "# Expande Arabic StopWords\n",
    "data = []\n",
    "with open('/Users/muneraalrajhi/Desktop/Capstone Project/CapstoneProject/data/arabic_stop_words.txt','r') as myfile:\n",
    "    for line in myfile:\n",
    "        data.extend(map(str, line.rstrip('\\n').split(',')))\n",
    "print(data)\n",
    "arabic_stopwords.update(data)"
   ]
  },
  {
   "cell_type": "code",
   "execution_count": 23,
   "metadata": {},
   "outputs": [
    {
     "data": {
      "text/plain": [
       "873"
      ]
     },
     "execution_count": 23,
     "metadata": {},
     "output_type": "execute_result"
    }
   ],
   "source": [
    "len(arabic_stopwords)"
   ]
  },
  {
   "cell_type": "markdown",
   "metadata": {},
   "source": [
    "df['Poem'].dropna(inplace=True)\n",
    "df['Poem_token'] = df['Poem'].apply(word_tokenize)"
   ]
  },
  {
   "cell_type": "code",
   "execution_count": 30,
   "metadata": {},
   "outputs": [],
   "source": [
    "df['Poem_token'] = df['Poem'].map(word_tokenize)"
   ]
  },
  {
   "cell_type": "code",
   "execution_count": 31,
   "metadata": {},
   "outputs": [],
   "source": [
    "from nltk.stem.isri import ISRIStemmer\n",
    "st = ISRIStemmer()\n",
    "\n",
    "df['Poem_stem'] = df['Poem_token'].apply(lambda x: [st.stem(y) for y in x])"
   ]
  },
  {
   "cell_type": "code",
   "execution_count": 32,
   "metadata": {},
   "outputs": [],
   "source": [
    "# Remove stop words\n",
    "df['filtered_poems']= df['Poem_stem'].apply(lambda x: [item for item in x if item not in arabic_stopwords])"
   ]
  },
  {
   "cell_type": "code",
   "execution_count": 41,
   "metadata": {},
   "outputs": [],
   "source": [
    "from nltk.tokenize.treebank import TreebankWordDetokenizer as Detok\n",
    "detokenizer = Detok()\n",
    "df['Detokenize'] = df[\"filtered_poems\"].apply(detokenizer.detokenize)"
   ]
  },
  {
   "cell_type": "code",
   "execution_count": 44,
   "metadata": {},
   "outputs": [],
   "source": [
    "from nltk.probability import FreqDist\n",
    "\n",
    "fdist1 = FreqDist(sum(df['Detokenize'].map(word_tokenize), []))"
   ]
  },
  {
   "cell_type": "code",
   "execution_count": 45,
   "metadata": {},
   "outputs": [
    {
     "data": {
      "text/plain": [
       "[('قلب', 5523),\n",
       " ('دهر', 3394),\n",
       " ('كرم', 3260),\n",
       " ('دمع', 3114),\n",
       " ('حسن', 3090),\n",
       " ('ليل', 3074),\n",
       " ('سلم', 2853),\n",
       " ('فضل', 2791),\n",
       " ('ذكر', 2650),\n",
       " ('امر', 2552),\n",
       " ('فرق', 2501),\n",
       " ('جمع', 2429),\n",
       " ('حمد', 2367),\n",
       " ('سعد', 2343),\n",
       " ('زمن', 2263),\n",
       " ('هوى', 2219),\n",
       " ('خلق', 2195),\n",
       " ('بدر', 2182),\n",
       " ('عرف', 2145),\n",
       " ('نظر', 2135),\n",
       " ('كنت', 2133),\n",
       " ('قوم', 2044),\n",
       " ('ناس', 2024),\n",
       " ('وصل', 2020),\n",
       " ('لقد', 1963),\n",
       " ('ارض', 1942),\n",
       " ('خير', 1927),\n",
       " ('ملك', 1899),\n",
       " ('عمر', 1876),\n",
       " ('مجد', 1874),\n",
       " ('شمس', 1853),\n",
       " ('عهد', 1827),\n",
       " ('صبح', 1826),\n",
       " ('اهل', 1793),\n",
       " ('وجه', 1788),\n",
       " ('حكم', 1776),\n",
       " ('شعر', 1770),\n",
       " ('قرب', 1755),\n",
       " ('بحر', 1717),\n",
       " ('عرض', 1668),\n",
       " ('جمل', 1665),\n",
       " ('ظلم', 1638),\n",
       " ('قدر', 1625),\n",
       " ('شوق', 1615),\n",
       " ('سمع', 1612),\n",
       " ('غرب', 1598),\n",
       " ('نزل', 1590),\n",
       " ('حدث', 1573),\n",
       " ('حمل', 1566),\n",
       " ('ايم', 1563)]"
      ]
     },
     "execution_count": 45,
     "metadata": {},
     "output_type": "execute_result"
    }
   ],
   "source": [
    "fdist1.most_common(50)"
   ]
  },
  {
   "cell_type": "code",
   "execution_count": 47,
   "metadata": {},
   "outputs": [
    {
     "data": {
      "image/png": "[encoded data removed]",
      "text/plain": [
       "<Figure size 1080x1080 with 1 Axes>"
      ]
     },
     "metadata": {
      "needs_background": "light"
     },
     "output_type": "display_data"
    }
   ],
   "source": [
    "\n",
    "## Creating FreqDist for whole BoW, keeping the 50 most common tokens\n",
    "all_fdist = fdist1.most_common(50)\n",
    "\n",
    "all_fdist = pd.Series(dict(all_fdist))\n",
    "fig, ax = plt.subplots(figsize=(15,15))\n",
    "\n",
    "all_plot = sns.barplot(x=all_fdist.index, y=all_fdist.values, ax=ax)\n",
    "plt.xticks(rotation=30);"
   ]
  }
 ],
 "metadata": {
  "interpreter": {
   "hash": "b636e954a0b6bc7f3d44ba0ea3984fa6b30a3ebf3ff15973f9d3fe28f5ed9b30"
  },
  "kernelspec": {
   "display_name": "Python 3.8.12 ('base')",
   "language": "python",
   "name": "python3"
  },
  "language_info": {
   "codemirror_mode": {
    "name": "ipython",
    "version": 3
   },
   "file_extension": ".py",
   "mimetype": "text/x-python",
   "name": "python",
   "nbconvert_exporter": "python",
   "pygments_lexer": "ipython3",
   "version": "3.8.12"
  },
  "orig_nbformat": 4
 },
 "nbformat": 4,
 "nbformat_minor": 2
}
