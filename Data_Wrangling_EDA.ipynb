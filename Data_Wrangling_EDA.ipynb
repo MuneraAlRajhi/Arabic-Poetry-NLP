{
 "cells": [
  {
   "cell_type": "markdown",
   "metadata": {},
   "source": [
    "# Data Wrangling and EDA"
   ]
  },
  {
   "cell_type": "code",
   "execution_count": 416,
   "metadata": {},
   "outputs": [],
   "source": [
    "# libraries\n",
    "import pandas as pd\n",
    "import numpy as np\n",
    "import missingno as msno\n",
    "import matplotlib.pyplot as plt\n",
    "import seaborn as sns\n",
    "%matplotlib inline\n",
    "\n",
    "import nltk\n",
    "from nltk.corpus import stopwords\n",
    "from nltk.tokenize import word_tokenize\n",
    "from nltk.tokenize import sent_tokenize\n",
    "from nltk.stem.isri import ISRIStemmer"
   ]
  },
  {
   "cell_type": "code",
   "execution_count": 417,
   "metadata": {},
   "outputs": [],
   "source": [
    "df = pd.read_excel(\"/Users/muneraalrajhi/Desktop/datasets/data/Poems.xlsx\")"
   ]
  },
  {
   "cell_type": "code",
   "execution_count": 418,
   "metadata": {},
   "outputs": [
    {
     "data": {
      "text/html": [
       "<div>\n",
       "<style scoped>\n",
       "    .dataframe tbody tr th:only-of-type {\n",
       "        vertical-align: middle;\n",
       "    }\n",
       "\n",
       "    .dataframe tbody tr th {\n",
       "        vertical-align: top;\n",
       "    }\n",
       "\n",
       "    .dataframe thead th {\n",
       "        text-align: right;\n",
       "    }\n",
       "</style>\n",
       "<table border=\"1\" class=\"dataframe\">\n",
       "  <thead>\n",
       "    <tr style=\"text-align: right;\">\n",
       "      <th></th>\n",
       "      <th>Poem</th>\n",
       "      <th>Number of Versus</th>\n",
       "      <th>Poet</th>\n",
       "      <th>Century</th>\n",
       "      <th>Label</th>\n",
       "      <th>Type</th>\n",
       "      <th>Metre</th>\n",
       "    </tr>\n",
       "  </thead>\n",
       "  <tbody>\n",
       "    <tr>\n",
       "      <th>0</th>\n",
       "      <td>أصابت سهام الحتف يا حسرة الدهرصريح قريش والخلا...</td>\n",
       "      <td>46.0</td>\n",
       "      <td>أبو المحاسن الكربلائي</td>\n",
       "      <td>العراق</td>\n",
       "      <td>قصائد عتاب</td>\n",
       "      <td>عموديه</td>\n",
       "      <td>بحر الطويل</td>\n",
       "    </tr>\n",
       "    <tr>\n",
       "      <th>1</th>\n",
       "      <td>جئت يا دهر بالرزية بكراغادرت مهجة الهدى وهي حر...</td>\n",
       "      <td>37.0</td>\n",
       "      <td>أبو المحاسن الكربلائي</td>\n",
       "      <td>العراق</td>\n",
       "      <td>قصائد عتاب</td>\n",
       "      <td>عموديه</td>\n",
       "      <td>بحر الخفيف</td>\n",
       "    </tr>\n",
       "    <tr>\n",
       "      <th>2</th>\n",
       "      <td>وشادن أورثني حبهكالائتلافيين حزنا طويلعز علي ا...</td>\n",
       "      <td>14.0</td>\n",
       "      <td>أبو المحاسن الكربلائي</td>\n",
       "      <td>العراق</td>\n",
       "      <td>قصائد عتاب</td>\n",
       "      <td>عموديه</td>\n",
       "      <td>بحر السريع</td>\n",
       "    </tr>\n",
       "    <tr>\n",
       "      <th>3</th>\n",
       "      <td>قد كانت الآمال معقودةفيك وللأمال تضليلواليوم ل...</td>\n",
       "      <td>11.0</td>\n",
       "      <td>أبو المحاسن الكربلائي</td>\n",
       "      <td>العراق</td>\n",
       "      <td>قصائد عتاب</td>\n",
       "      <td>عموديه</td>\n",
       "      <td>بحر السريع</td>\n",
       "    </tr>\n",
       "    <tr>\n",
       "      <th>4</th>\n",
       "      <td>سواي على الضيم يبقى رهيناوغيري يرى ضارعا مستكي...</td>\n",
       "      <td>87.0</td>\n",
       "      <td>أبو المحاسن الكربلائي</td>\n",
       "      <td>العراق</td>\n",
       "      <td>قصائد عتاب</td>\n",
       "      <td>عموديه</td>\n",
       "      <td>بحر المتقارب</td>\n",
       "    </tr>\n",
       "  </tbody>\n",
       "</table>\n",
       "</div>"
      ],
      "text/plain": [
       "                                                Poem  Number of Versus  \\\n",
       "0  أصابت سهام الحتف يا حسرة الدهرصريح قريش والخلا...              46.0   \n",
       "1  جئت يا دهر بالرزية بكراغادرت مهجة الهدى وهي حر...              37.0   \n",
       "2  وشادن أورثني حبهكالائتلافيين حزنا طويلعز علي ا...              14.0   \n",
       "3  قد كانت الآمال معقودةفيك وللأمال تضليلواليوم ل...              11.0   \n",
       "4  سواي على الضيم يبقى رهيناوغيري يرى ضارعا مستكي...              87.0   \n",
       "\n",
       "                    Poet Century       Label    Type         Metre  \n",
       "0  أبو المحاسن الكربلائي  العراق  قصائد عتاب  عموديه    بحر الطويل  \n",
       "1  أبو المحاسن الكربلائي  العراق  قصائد عتاب  عموديه    بحر الخفيف  \n",
       "2  أبو المحاسن الكربلائي  العراق  قصائد عتاب  عموديه    بحر السريع  \n",
       "3  أبو المحاسن الكربلائي  العراق  قصائد عتاب  عموديه    بحر السريع  \n",
       "4  أبو المحاسن الكربلائي  العراق  قصائد عتاب  عموديه  بحر المتقارب  "
      ]
     },
     "execution_count": 418,
     "metadata": {},
     "output_type": "execute_result"
    }
   ],
   "source": [
    "df.head()"
   ]
  },
  {
   "cell_type": "code",
   "execution_count": 419,
   "metadata": {},
   "outputs": [
    {
     "data": {
      "text/plain": [
       "(11191, 7)"
      ]
     },
     "execution_count": 419,
     "metadata": {},
     "output_type": "execute_result"
    }
   ],
   "source": [
    "df.shape"
   ]
  },
  {
   "cell_type": "code",
   "execution_count": 420,
   "metadata": {},
   "outputs": [
    {
     "name": "stdout",
     "output_type": "stream",
     "text": [
      "<class 'pandas.core.frame.DataFrame'>\n",
      "RangeIndex: 11191 entries, 0 to 11190\n",
      "Data columns (total 7 columns):\n",
      " #   Column            Non-Null Count  Dtype  \n",
      "---  ------            --------------  -----  \n",
      " 0   Poem              11189 non-null  object \n",
      " 1   Number of Versus  10997 non-null  float64\n",
      " 2   Poet              11191 non-null  object \n",
      " 3   Century           11190 non-null  object \n",
      " 4   Label             11191 non-null  object \n",
      " 5   Type              11191 non-null  object \n",
      " 6   Metre             11191 non-null  object \n",
      "dtypes: float64(1), object(6)\n",
      "memory usage: 612.1+ KB\n"
     ]
    }
   ],
   "source": [
    "df.info()"
   ]
  },
  {
   "cell_type": "markdown",
   "metadata": {},
   "source": [
    "#### handle missing values and duplicates:"
   ]
  },
  {
   "cell_type": "code",
   "execution_count": 421,
   "metadata": {},
   "outputs": [
    {
     "data": {
      "text/plain": [
       "Poem                  2\n",
       "Number of Versus    194\n",
       "Poet                  0\n",
       "Century               1\n",
       "Label                 0\n",
       "Type                  0\n",
       "Metre                 0\n",
       "dtype: int64"
      ]
     },
     "execution_count": 421,
     "metadata": {},
     "output_type": "execute_result"
    }
   ],
   "source": [
    "df.isnull().sum()"
   ]
  },
  {
   "cell_type": "code",
   "execution_count": 422,
   "metadata": {},
   "outputs": [
    {
     "data": {
      "text/plain": [
       "<AxesSubplot:>"
      ]
     },
     "execution_count": 422,
     "metadata": {},
     "output_type": "execute_result"
    },
    {
     "data": {
      "image/png": "[encoded data removed]",
      "text/plain": [
       "<Figure size 1800x720 with 2 Axes>"
      ]
     },
     "metadata": {
      "needs_background": "light"
     },
     "output_type": "display_data"
    }
   ],
   "source": [
    "#plot missing values\n",
    "msno.matrix(df)"
   ]
  },
  {
   "cell_type": "code",
   "execution_count": 423,
   "metadata": {},
   "outputs": [],
   "source": [
    "#drop missing values\n",
    "df = df.dropna()"
   ]
  },
  {
   "cell_type": "code",
   "execution_count": 424,
   "metadata": {},
   "outputs": [
    {
     "data": {
      "text/plain": [
       "4"
      ]
     },
     "execution_count": 424,
     "metadata": {},
     "output_type": "execute_result"
    }
   ],
   "source": [
    "# check for duplicates\n",
    "df.duplicated().sum()"
   ]
  },
  {
   "cell_type": "code",
   "execution_count": 425,
   "metadata": {},
   "outputs": [],
   "source": [
    "# drop duplicates \n",
    "df = df.drop_duplicates()"
   ]
  },
  {
   "cell_type": "code",
   "execution_count": 426,
   "metadata": {},
   "outputs": [
    {
     "data": {
      "text/plain": [
       "Poem                10966\n",
       "Number of Versus      152\n",
       "Poet                  425\n",
       "Century                23\n",
       "Label                   8\n",
       "Type                    1\n",
       "Metre                  65\n",
       "dtype: int64"
      ]
     },
     "execution_count": 426,
     "metadata": {},
     "output_type": "execute_result"
    }
   ],
   "source": [
    "df.nunique()"
   ]
  },
  {
   "cell_type": "code",
   "execution_count": 427,
   "metadata": {},
   "outputs": [
    {
     "data": {
      "text/plain": [
       "قصائد رثاء       2451\n",
       "قصائد مدح        1454\n",
       "قصائد حزينه      1363\n",
       "قصائد عتاب       1359\n",
       "قصائد شوق        1295\n",
       "قصائد رومنسيه    1111\n",
       "قصائد هجاء       1047\n",
       "قصائد فراق        910\n",
       "Name: Label, dtype: int64"
      ]
     },
     "execution_count": 427,
     "metadata": {},
     "output_type": "execute_result"
    }
   ],
   "source": [
    "df[\"Label\"].value_counts()"
   ]
  },
  {
   "cell_type": "markdown",
   "metadata": {},
   "source": [
    "## Data Cleaning"
   ]
  },
  {
   "cell_type": "code",
   "execution_count": 428,
   "metadata": {},
   "outputs": [],
   "source": [
    "# Convert Number of Versus type to object and remove the decimal\n",
    "df['Number of Versus'] = df['Number of Versus'].astype(str).replace('\\.0', '', regex=True)\n",
    "\n",
    "# Remove \\n from the content \n",
    "df['Poem'] = df['Poem'].replace(\"\\xa0\",\" \", regex=True)\n",
    "df['Poem'] = df['Poem'].replace('\\n',' ', regex=True)\n",
    "df['Poem'] = df['Poem'].replace(\"\\t\",\" \", regex=True)\n",
    "df['Poem'] = df['Poem'].replace(\"ًٌٍَُِّْ\",\" \", regex=True)\n",
    "\n",
    "# Replac non relative Metre to NaN\n",
    "df.loc[df['Metre'].str.contains('قافية',na=False), 'Metre'] = np.nan\n",
    "\n",
    "# Rename the labels \n",
    "df[\"Label\"] = df[\"Label\"].replace(['قصائد رثاء'],'رثاء')\n",
    "df[\"Label\"] = df[\"Label\"].replace(['قصائد مدح'],'مدح')\n",
    "df[\"Label\"] = df[\"Label\"].replace(['قصائد حزينه'],'حزن')\n",
    "df[\"Label\"] = df[\"Label\"].replace(['قصائد عتاب'],'عتاب')\n",
    "df[\"Label\"] = df[\"Label\"].replace(['قصائد شوق'],'شوق')\n",
    "df[\"Label\"] = df[\"Label\"].replace(['قصائد رومنسيه'],'رومنسيه')\n",
    "df[\"Label\"] = df[\"Label\"].replace(['قصائد هجاء'],'هجاء')\n",
    "df[\"Label\"] = df[\"Label\"].replace(['قصائد فراق'],'فراق')\n",
    "\n"
   ]
  },
  {
   "cell_type": "code",
   "execution_count": 429,
   "metadata": {},
   "outputs": [
    {
     "data": {
      "text/html": [
       "<div>\n",
       "<style scoped>\n",
       "    .dataframe tbody tr th:only-of-type {\n",
       "        vertical-align: middle;\n",
       "    }\n",
       "\n",
       "    .dataframe tbody tr th {\n",
       "        vertical-align: top;\n",
       "    }\n",
       "\n",
       "    .dataframe thead th {\n",
       "        text-align: right;\n",
       "    }\n",
       "</style>\n",
       "<table border=\"1\" class=\"dataframe\">\n",
       "  <thead>\n",
       "    <tr style=\"text-align: right;\">\n",
       "      <th></th>\n",
       "      <th>Poem</th>\n",
       "      <th>Number of Versus</th>\n",
       "      <th>Poet</th>\n",
       "      <th>Century</th>\n",
       "      <th>Label</th>\n",
       "      <th>Type</th>\n",
       "      <th>Metre</th>\n",
       "    </tr>\n",
       "  </thead>\n",
       "  <tbody>\n",
       "    <tr>\n",
       "      <th>3122</th>\n",
       "      <td>أي خير يرجو بنو الدهر في الده ر ومازال قاتلا ل...</td>\n",
       "      <td>2</td>\n",
       "      <td>ابن وهيب الحميري</td>\n",
       "      <td>العصر العباسي</td>\n",
       "      <td>هجاء</td>\n",
       "      <td>عموديه</td>\n",
       "      <td>بحر الخفيف</td>\n",
       "    </tr>\n",
       "    <tr>\n",
       "      <th>1754</th>\n",
       "      <td>لجت عتيبة في هجري فقلت لها تبارك الله ما أجفاك...</td>\n",
       "      <td>3</td>\n",
       "      <td>ابو العتاهية</td>\n",
       "      <td>العصر العباسي</td>\n",
       "      <td>فراق</td>\n",
       "      <td>عموديه</td>\n",
       "      <td>بحر البسيط</td>\n",
       "    </tr>\n",
       "    <tr>\n",
       "      <th>4614</th>\n",
       "      <td>رفاهية الشهم اقتحام العظائم طلابا لعز أو غلابا...</td>\n",
       "      <td>81</td>\n",
       "      <td>عبد المنعم الجلياني</td>\n",
       "      <td>العصر الايوبي</td>\n",
       "      <td>مدح</td>\n",
       "      <td>عموديه</td>\n",
       "      <td>بحر الطويل</td>\n",
       "    </tr>\n",
       "    <tr>\n",
       "      <th>2736</th>\n",
       "      <td>ألم تر دوسرا منعت أخاها وقد حشدت لتقتله تميم ر...</td>\n",
       "      <td>3</td>\n",
       "      <td>أعشى همدان</td>\n",
       "      <td>العصر الاموي</td>\n",
       "      <td>هجاء</td>\n",
       "      <td>عموديه</td>\n",
       "      <td>بحر الوافر</td>\n",
       "    </tr>\n",
       "    <tr>\n",
       "      <th>5672</th>\n",
       "      <td>فإن يكن عق فيك فال فالله يجزيه بالعقوق قضى لك ...</td>\n",
       "      <td>14</td>\n",
       "      <td>علي الحصري القيرواني</td>\n",
       "      <td>العصر المملوكي</td>\n",
       "      <td>رثاء</td>\n",
       "      <td>عموديه</td>\n",
       "      <td>بحر مخلع البسيط</td>\n",
       "    </tr>\n",
       "    <tr>\n",
       "      <th>4171</th>\n",
       "      <td>أفديك يا أيها المسكي في مهج طيبتني بشذاك الفائ...</td>\n",
       "      <td>2</td>\n",
       "      <td>المفتي عبداللطيف فتح الله</td>\n",
       "      <td>لبنان</td>\n",
       "      <td>مدح</td>\n",
       "      <td>عموديه</td>\n",
       "      <td>بحر البسيط</td>\n",
       "    </tr>\n",
       "    <tr>\n",
       "      <th>10406</th>\n",
       "      <td>سقيا لجيرون وللبريص إذ عيشنا صاف من التنغيص نف...</td>\n",
       "      <td>35</td>\n",
       "      <td>الصنوبري</td>\n",
       "      <td>العصر العباسي</td>\n",
       "      <td>شوق</td>\n",
       "      <td>عموديه</td>\n",
       "      <td>بحر الرجز</td>\n",
       "    </tr>\n",
       "    <tr>\n",
       "      <th>8276</th>\n",
       "      <td>إن أبطأ في زيارتي أو راثا أو أشكل أمر وده والت...</td>\n",
       "      <td>2</td>\n",
       "      <td>نظام الدين الأصفهاني</td>\n",
       "      <td>العصر المملوكي</td>\n",
       "      <td>رومنسيه</td>\n",
       "      <td>عموديه</td>\n",
       "      <td>بحر الدوبيت</td>\n",
       "    </tr>\n",
       "    <tr>\n",
       "      <th>1547</th>\n",
       "      <td>يا من أضاع رسالة أهديتها ترك الرسالة مثل ترك ا...</td>\n",
       "      <td>9</td>\n",
       "      <td>عائشة التيمورية</td>\n",
       "      <td>مصر</td>\n",
       "      <td>فراق</td>\n",
       "      <td>عموديه</td>\n",
       "      <td>بحر الكامل</td>\n",
       "    </tr>\n",
       "    <tr>\n",
       "      <th>10626</th>\n",
       "      <td>نفرها عن وردها بحاجر شوق يعوق الماء في الحناجر...</td>\n",
       "      <td>68</td>\n",
       "      <td>مهيار الديلمي</td>\n",
       "      <td>العصر العباسي</td>\n",
       "      <td>شوق</td>\n",
       "      <td>عموديه</td>\n",
       "      <td>بحر الرجز</td>\n",
       "    </tr>\n",
       "  </tbody>\n",
       "</table>\n",
       "</div>"
      ],
      "text/plain": [
       "                                                    Poem Number of Versus  \\\n",
       "3122   أي خير يرجو بنو الدهر في الده ر ومازال قاتلا ل...                2   \n",
       "1754   لجت عتيبة في هجري فقلت لها تبارك الله ما أجفاك...                3   \n",
       "4614   رفاهية الشهم اقتحام العظائم طلابا لعز أو غلابا...               81   \n",
       "2736   ألم تر دوسرا منعت أخاها وقد حشدت لتقتله تميم ر...                3   \n",
       "5672   فإن يكن عق فيك فال فالله يجزيه بالعقوق قضى لك ...               14   \n",
       "4171   أفديك يا أيها المسكي في مهج طيبتني بشذاك الفائ...                2   \n",
       "10406  سقيا لجيرون وللبريص إذ عيشنا صاف من التنغيص نف...               35   \n",
       "8276   إن أبطأ في زيارتي أو راثا أو أشكل أمر وده والت...                2   \n",
       "1547   يا من أضاع رسالة أهديتها ترك الرسالة مثل ترك ا...                9   \n",
       "10626  نفرها عن وردها بحاجر شوق يعوق الماء في الحناجر...               68   \n",
       "\n",
       "                            Poet         Century    Label    Type  \\\n",
       "3122            ابن وهيب الحميري   العصر العباسي     هجاء  عموديه   \n",
       "1754                ابو العتاهية   العصر العباسي     فراق  عموديه   \n",
       "4614         عبد المنعم الجلياني   العصر الايوبي      مدح  عموديه   \n",
       "2736                  أعشى همدان    العصر الاموي     هجاء  عموديه   \n",
       "5672        علي الحصري القيرواني  العصر المملوكي     رثاء  عموديه   \n",
       "4171   المفتي عبداللطيف فتح الله           لبنان      مدح  عموديه   \n",
       "10406                   الصنوبري   العصر العباسي      شوق  عموديه   \n",
       "8276        نظام الدين الأصفهاني  العصر المملوكي  رومنسيه  عموديه   \n",
       "1547             عائشة التيمورية             مصر     فراق  عموديه   \n",
       "10626              مهيار الديلمي   العصر العباسي      شوق  عموديه   \n",
       "\n",
       "                 Metre  \n",
       "3122        بحر الخفيف  \n",
       "1754        بحر البسيط  \n",
       "4614        بحر الطويل  \n",
       "2736        بحر الوافر  \n",
       "5672   بحر مخلع البسيط  \n",
       "4171        بحر البسيط  \n",
       "10406        بحر الرجز  \n",
       "8276       بحر الدوبيت  \n",
       "1547        بحر الكامل  \n",
       "10626        بحر الرجز  "
      ]
     },
     "execution_count": 429,
     "metadata": {},
     "output_type": "execute_result"
    }
   ],
   "source": [
    "df.sample(10)"
   ]
  },
  {
   "cell_type": "markdown",
   "metadata": {},
   "source": [
    "### Data visualization"
   ]
  },
  {
   "cell_type": "code",
   "execution_count": 430,
   "metadata": {},
   "outputs": [
    {
     "data": {
      "text/plain": [
       "Label\n",
       "حزن        1363\n",
       "رثاء       2451\n",
       "رومنسيه    1111\n",
       "شوق        1295\n",
       "عتاب       1359\n",
       "فراق        910\n",
       "مدح        1454\n",
       "هجاء       1047\n",
       "dtype: int64"
      ]
     },
     "execution_count": 430,
     "metadata": {},
     "output_type": "execute_result"
    }
   ],
   "source": [
    "poemsperlabel = df.groupby('Label').size()\n",
    "poemsperlabel"
   ]
  },
  {
   "cell_type": "code",
   "execution_count": 431,
   "metadata": {},
   "outputs": [
    {
     "data": {
      "image/png": "[encoded data removed]",
      "text/plain": [
       "<Figure size 720x720 with 1 Axes>"
      ]
     },
     "metadata": {
      "needs_background": "light"
     },
     "output_type": "display_data"
    }
   ],
   "source": [
    "# Number of poems per label\n",
    "poemsperlabel.sort_values(ascending=False).plot(kind='bar',figsize=(10,10), color='g')\n",
    "plt.title(('Number of poems per label'))\n",
    "plt.xlabel(\"Labels\");"
   ]
  },
  {
   "cell_type": "code",
   "execution_count": 432,
   "metadata": {},
   "outputs": [
    {
     "data": {
      "text/plain": [
       "Metre\n",
       "بحر أحذ الكامل          93\n",
       "بحر البسيط            1542\n",
       "بحر الخفيف             846\n",
       "بحر الدوبيت            393\n",
       "بحر الرجز              257\n",
       "بحر الرمل              226\n",
       "بحر السريع             473\n",
       "بحر السلسلة              3\n",
       "بحر الطويل            2690\n",
       "بحر القوما               1\n",
       "بحر الكامل            1533\n",
       "بحر المتدارك            15\n",
       "بحر المتقارب           427\n",
       "بحر المجتث             132\n",
       "بحر المديد              66\n",
       "بحر المضارع              1\n",
       "بحر المقتضب              2\n",
       "بحر المنسرح            213\n",
       "بحر المواليا            13\n",
       "بحر الهزج               42\n",
       "بحر الوافر             879\n",
       "بحر مجزوء البسيط        12\n",
       "بحر مجزوء الخفيف        51\n",
       "بحر مجزوء الدوبيت        1\n",
       "بحر مجزوء الرجز         88\n",
       "بحر مجزوء الرمل        159\n",
       "بحر مجزوء السريع         1\n",
       "بحر مجزوء الطويل         1\n",
       "بحر مجزوء الكامل       275\n",
       "بحر مجزوء المتقارب       8\n",
       "بحر مجزوء المجتث         2\n",
       "بحر مجزوء المديد         1\n",
       "بحر مجزوء الوافر        57\n",
       "بحر مجزوء موشح           2\n",
       "بحر مخلع البسيط        150\n",
       "بحر مخلع الكامل          1\n",
       "بحر مشطور الرجز          5\n",
       "بحر منهوك المنسرح        1\n",
       "بحر موشح                72\n",
       "dtype: int64"
      ]
     },
     "execution_count": 432,
     "metadata": {},
     "output_type": "execute_result"
    }
   ],
   "source": [
    "poemsperpoet = df.groupby('Metre').size()\n",
    "poemsperpoet"
   ]
  },
  {
   "cell_type": "code",
   "execution_count": 433,
   "metadata": {},
   "outputs": [
    {
     "data": {
      "image/png": "[encoded data removed]",
      "text/plain": [
       "<Figure size 720x720 with 1 Axes>"
      ]
     },
     "metadata": {
      "needs_background": "light"
     },
     "output_type": "display_data"
    }
   ],
   "source": [
    "# Number of poems per label\n",
    "poemsperpoet.sort_values().plot(kind='barh',figsize=(10,10))\n",
    "plt.title(('Number of poems per label'))\n",
    "plt.xlabel(\"Labels\");"
   ]
  },
  {
   "cell_type": "code",
   "execution_count": 434,
   "metadata": {},
   "outputs": [
    {
     "data": {
      "text/plain": [
       "Century\n",
       "الأردن               6\n",
       "الجزائر              7\n",
       "السعودية             5\n",
       "العراق             411\n",
       "العصر الأندلسي     671\n",
       "العصر الاسلامي       8\n",
       "العصر الاموي       772\n",
       "العصر الايوبي      602\n",
       "العصر الجاهلي       77\n",
       "العصر العباسي     3029\n",
       "العصر العثماني     833\n",
       "العصر المملوكي    1594\n",
       "المخضرمون          268\n",
       "المغرب              28\n",
       "اليمن               50\n",
       "تونس               101\n",
       "سوريا              194\n",
       "عمان               151\n",
       "فلسطين              13\n",
       "لبنان              922\n",
       "ليبيا               26\n",
       "مصر               1219\n",
       "موريتانيا            3\n",
       "dtype: int64"
      ]
     },
     "execution_count": 434,
     "metadata": {},
     "output_type": "execute_result"
    }
   ],
   "source": [
    "poemsperCentury = df.groupby('Century').size()\n",
    "poemsperCentury"
   ]
  },
  {
   "cell_type": "code",
   "execution_count": 435,
   "metadata": {},
   "outputs": [
    {
     "data": {
      "image/png": "[encoded data removed]",
      "text/plain": [
       "<Figure size 720x720 with 1 Axes>"
      ]
     },
     "metadata": {
      "needs_background": "light"
     },
     "output_type": "display_data"
    }
   ],
   "source": [
    "# Number of poems per label\n",
    "poemsperCentury.sort_values().plot(kind='bar',figsize=(10,10))\n",
    "plt.title(('Number of poems per label'))\n",
    "plt.xlabel(\"Labels\");"
   ]
  },
  {
   "cell_type": "markdown",
   "metadata": {},
   "source": [
    "### Tokenization"
   ]
  },
  {
   "cell_type": "code",
   "execution_count": 473,
   "metadata": {},
   "outputs": [
    {
     "name": "stderr",
     "output_type": "stream",
     "text": [
      "[nltk_data] Downloading package stopwords to\n",
      "[nltk_data]     /Users/muneraalrajhi/nltk_data...\n",
      "[nltk_data]   Package stopwords is already up-to-date!\n"
     ]
    }
   ],
   "source": [
    "nltk.download(\"stopwords\")\n",
    "arabic_stopwords = set(nltk.corpus.stopwords.words(\"arabic\"))"
   ]
  },
  {
   "cell_type": "code",
   "execution_count": 474,
   "metadata": {},
   "outputs": [
    {
     "name": "stdout",
     "output_type": "stream",
     "text": [
      "['،', 'ء', 'ءَ', 'آ', 'آب', 'آذار', 'آض', 'آل', 'آمينَ', 'آناء', 'آنفا', 'آه', 'آهاً', 'آهٍ', 'آهِ', 'أ', 'أبدا', 'أبريل', 'أبو', 'أبٌ', 'أجل', 'أجمع', 'أحد', 'أخبر', 'أخذ', 'أخو', 'أخٌ', 'أربع', 'أربعاء', 'أربعة', 'أربعمئة', 'أربعمائة', 'أرى', 'أسكن', 'أصبح', 'أصلا', 'أضحى', 'أطعم', 'أعطى', 'أعلم', 'أغسطس', 'أفريل', 'أفعل به', 'أفٍّ', 'أقبل', 'أكتوبر', 'أل', 'ألا', 'ألف', 'ألفى', 'أم', 'أما', 'أمام', 'أمامك', 'أمامكَ', 'أمد', 'أمس', 'أمسى', 'أمّا', 'أن', 'أنا', 'أنبأ', 'أنت', 'أنتم', 'أنتما', 'أنتن', 'أنتِ', 'أنشأ', 'أنه', 'أنًّ', 'أنّى', 'أهلا', 'أو', 'أوت', 'أوشك', 'أول', 'أولئك', 'أولاء', 'أولالك', 'أوّهْ', 'أى', 'أي', 'أيا', 'أيار', 'أيضا', 'أيلول', 'أين', 'أيّ', 'أيّان', 'أُفٍّ', 'ؤ', 'إحدى', 'إذ', 'إذا', 'إذاً', 'إذما', 'إذن', 'إزاء', 'إلى', 'إلي', 'إليكم', 'إليكما', 'إليكنّ', 'إليكَ', 'إلَيْكَ', 'إلّا', 'إمّا', 'إن', 'إنَّ', 'إى', 'إياك', 'إياكم', 'إياكما', 'إياكن', 'إيانا', 'إياه', 'إياها', 'إياهم', 'إياهما', 'إياهن', 'إياي', 'إيهٍ', 'ئ', 'ا', 'ا?', 'ا?ى', 'االا', 'االتى', 'ابتدأ', 'ابين', 'اتخذ', 'اثر', 'اثنا', 'اثنان', 'اثني', 'اثنين', 'اجل', 'احد', 'اخرى', 'اخلولق', 'اذا', 'اربعة', 'اربعون', 'اربعين', 'ارتدّ', 'استحال', 'اصبح', 'اضحى', 'اطار', 'اعادة', 'اعلنت', 'اف', 'اكثر', 'اكد', 'الآن', 'الألاء', 'الألى', 'الا', 'الاخيرة', 'الان', 'الاول', 'الاولى', 'التى', 'التي', 'الثاني', 'الثانية', 'الحالي', 'الذاتي', 'الذى', 'الذي', 'الذين', 'السابق', 'الف', 'اللاتي', 'اللتان', 'اللتيا', 'اللتين', 'اللذان', 'اللذين', 'اللواتي', 'الماضي', 'المقبل', 'الوقت', 'الى', 'الي', 'اليه', 'اليها', 'اليوم', 'اما', 'امام', 'امس', 'امسى', 'ان', 'انبرى', 'انقلب', 'انه', 'انها', 'او', 'اول', 'اي', 'ايار', 'ايام', 'ايضا', 'ب', 'بؤسا', 'بإن', 'بئس', 'باء', 'بات', 'باسم', 'بان', 'بخٍ', 'بد', 'بدلا', 'برس', 'بسبب', 'بسّ', 'بشكل', 'بضع', 'بطآن', 'بعد', 'بعدا', 'بعض', 'بغتة', 'بل', 'بلى', 'بن', 'به', 'بها', 'بهذا', 'بيد', 'بين', 'بَسْ', 'بَلْهَ', 'ة', 'ت', 'تاء', 'تارة', 'تاسع', 'تانِ', 'تانِك', 'تبدّل', 'تجاه', 'تحت', 'تحوّل', 'تخذ', 'ترك', 'تسع', 'تسعة', 'تسعمئة', 'تسعمائة', 'تسعون', 'تسعين', 'تشرين', 'تعسا', 'تعلَّم', 'تفعلان', 'تفعلون', 'تفعلين', 'تكون', 'تلقاء', 'تلك', 'تم', 'تموز', 'تينك', 'تَيْنِ', 'تِه', 'تِي', 'ث', 'ثاء', 'ثالث', 'ثامن', 'ثان', 'ثاني', 'ثلاث', 'ثلاثاء', 'ثلاثة', 'ثلاثمئة', 'ثلاثمائة', 'ثلاثون', 'ثلاثين', 'ثم', 'ثمان', 'ثمانمئة', 'ثمانون', 'ثماني', 'ثمانية', 'ثمانين', 'ثمنمئة', 'ثمَّ', 'ثمّ', 'ثمّة', 'ج', 'جانفي', 'جدا', 'جعل', 'جلل', 'جمعة', 'جميع', 'جنيه', 'جوان', 'جويلية', 'جير', 'جيم', 'ح', 'حاء', 'حادي', 'حار', 'حاشا', 'حاليا', 'حاي', 'حبذا', 'حبيب', 'حتى', 'حجا', 'حدَث', 'حرى', 'حزيران', 'حسب', 'حقا', 'حمدا', 'حمو', 'حمٌ', 'حوالى', 'حول', 'حيث', 'حيثما', 'حين', 'حيَّ', 'حَذارِ', 'خ', 'خاء', 'خاصة', 'خال', 'خامس', 'خبَّر', 'خلا', 'خلافا', 'خلال', 'خلف', 'خمس', 'خمسة', 'خمسمئة', 'خمسمائة', 'خمسون', 'خمسين', 'خميس', 'د', 'دال', 'درهم', 'درى', 'دواليك', 'دولار', 'دون', 'دونك', 'ديسمبر', 'دينار', 'ذ', 'ذا', 'ذات', 'ذاك', 'ذال', 'ذانك', 'ذانِ', 'ذلك', 'ذهب', 'ذو', 'ذيت', 'ذينك', 'ذَيْنِ', 'ذِه', 'ذِي', 'ر', 'رأى', 'راء', 'رابع', 'راح', 'رجع', 'رزق', 'رويدك', 'ريال', 'ريث', 'رُبَّ', 'ز', 'زاي', 'زعم', 'زود', 'زيارة', 'س', 'ساء', 'سابع', 'سادس', 'سبت', 'سبتمبر', 'سبحان', 'سبع', 'سبعة', 'سبعمئة', 'سبعمائة', 'سبعون', 'سبعين', 'ست', 'ستة', 'ستكون', 'ستمئة', 'ستمائة', 'ستون', 'ستين', 'سحقا', 'سرا', 'سرعان', 'سقى', 'سمعا', 'سنة', 'سنتيم', 'سنوات', 'سوف', 'سوى', 'سين', 'ش', 'شباط', 'شبه', 'شتانَ', 'شخصا', 'شرع', 'شمال', 'شيكل', 'شين', 'شَتَّانَ', 'ص', 'صاد', 'صار', 'صباح', 'صبر', 'صبرا', 'صدقا', 'صراحة', 'صفر', 'صهٍ', 'صهْ', 'ض', 'ضاد', 'ضحوة', 'ضد', 'ضمن', 'ط', 'طاء', 'طاق', 'طالما', 'طرا', 'طفق', 'طَق', 'ظ', 'ظاء', 'ظل', 'ظلّ', 'ظنَّ', 'ع', 'عاد', 'عاشر', 'عام', 'عاما', 'عامة', 'عجبا', 'عدا', 'عدة', 'عدد', 'عدم', 'عدَّ', 'عسى', 'عشر', 'عشرة', 'عشرون', 'عشرين', 'عل', 'علق', 'علم', 'على', 'علي', 'عليك', 'عليه', 'عليها', 'علًّ', 'عن', 'عند', 'عندما', 'عنه', 'عنها', 'عوض', 'عيانا', 'عين', 'عَدَسْ', 'غ', 'غادر', 'غالبا', 'غدا', 'غداة', 'غير', 'غين', 'ـ', 'ف', 'فإن', 'فاء', 'فان', 'فانه', 'فبراير', 'فرادى', 'فضلا', 'فقد', 'فقط', 'فكان', 'فلان', 'فلس', 'فهو', 'فو', 'فوق', 'فى', 'في', 'فيفري', 'فيه', 'فيها', 'ق', 'قاطبة', 'قاف', 'قال', 'قام', 'قبل', 'قد', 'قرش', 'قطّ', 'قلما', 'قوة', 'ك', 'كأن', 'كأنّ', 'كأيّ', 'كأيّن', 'كاد', 'كاف', 'كان', 'كانت', 'كانون', 'كثيرا', 'كذا', 'كذلك', 'كرب', 'كسا', 'كل', 'كلتا', 'كلم', 'كلَّا', 'كلّما', 'كم', 'كما', 'كن', 'كى', 'كيت', 'كيف', 'كيفما', 'كِخ', 'ل', 'لأن', 'لا', 'لا سيما', 'لات', 'لازال', 'لاسيما', 'لام', 'لايزال', 'لبيك', 'لدن', 'لدى', 'لدي', 'لذلك', 'لعل', 'لعلَّ', 'لعمر', 'لقاء', 'لكن', 'لكنه', 'لكنَّ', 'للامم', 'لم', 'لما', 'لمّا', 'لن', 'له', 'لها', 'لهذا', 'لهم', 'لو', 'لوكالة', 'لولا', 'لوما', 'ليت', 'ليرة', 'ليس', 'ليسب', 'م', 'مئة', 'مئتان', 'ما', 'ما أفعله', 'ما انفك', 'ما برح', 'مائة', 'ماانفك', 'مابرح', 'مادام', 'ماذا', 'مارس', 'مازال', 'مافتئ', 'ماي', 'مايزال', 'مايو', 'متى', 'مثل', 'مذ', 'مرّة', 'مساء', 'مع', 'معاذ', 'معه', 'معها', 'مقابل', 'مكانكم', 'مكانكما', 'مكانكنّ', 'مكانَك', 'مليار', 'مليم', 'مليون', 'مما', 'من', 'منذ', 'منه', 'منها', 'مه', 'مهما', 'ميم', 'ن', 'نا', 'نبَّا', 'نحن', 'نحو', 'نعم', 'نفس', 'نفسه', 'نهاية', 'نوفمبر', 'نون', 'نيسان', 'نيف', 'نَخْ', 'نَّ', 'ه', 'هؤلاء', 'ها', 'هاء', 'هاكَ', 'هبّ', 'هذا', 'هذه', 'هل', 'هللة', 'هلم', 'هلّا', 'هم', 'هما', 'همزة', 'هن', 'هنا', 'هناك', 'هنالك', 'هو', 'هي', 'هيا', 'هيهات', 'هيّا', 'هَؤلاء', 'هَاتانِ', 'هَاتَيْنِ', 'هَاتِه', 'هَاتِي', 'هَجْ', 'هَذا', 'هَذانِ', 'هَذَيْنِ', 'هَذِه', 'هَذِي', 'هَيْهات', 'و', 'و6', 'وأبو', 'وأن', 'وا', 'واحد', 'واضاف', 'واضافت', 'واكد', 'والتي', 'والذي', 'وان', 'واهاً', 'واو', 'واوضح', 'وبين', 'وثي', 'وجد', 'وراءَك', 'ورد', 'وعلى', 'وفي', 'وقال', 'وقالت', 'وقد', 'وقف', 'وكان', 'وكانت', 'ولا', 'ولايزال', 'ولكن', 'ولم', 'وله', 'وليس', 'ومع', 'ومن', 'وهب', 'وهذا', 'وهو', 'وهي', 'وَيْ', 'وُشْكَانَ', 'ى', 'ي', 'ياء', 'يفعلان', 'يفعلون', 'يكون', 'يلي', 'يمكن', 'يمين', 'ين', 'يناير', 'يوان', 'يورو', 'يوليو', 'يوم', 'يونيو', 'ّأيّان', 'ان', 'انا', 'انت', 'هم', 'هل', 'ابن', 'ابنه', 'بنت', 'ابناء', 'اذ', 'اذا', 'نحن', 'الله', 'اله', 'الاله', 'اللهي', 'له', 'فما', 'فكن', 'كان', 'عبد', 'ال', 'الل', 'يا']\n"
     ]
    }
   ],
   "source": [
    "# Expande Arabic StopWords\n",
    "data = []\n",
    "with open('/Users/muneraalrajhi/Desktop/datasets/data/arabic_stop_words.txt','r') as myfile:\n",
    "    for line in myfile:\n",
    "        data.extend(map(str, line.rstrip('\\n').split(',')))\n",
    "print(data)\n",
    "arabic_stopwords.update(data)"
   ]
  },
  {
   "cell_type": "code",
   "execution_count": 475,
   "metadata": {},
   "outputs": [
    {
     "data": {
      "text/plain": [
       "873"
      ]
     },
     "execution_count": 475,
     "metadata": {},
     "output_type": "execute_result"
    }
   ],
   "source": [
    "len(arabic_stopwords)"
   ]
  },
  {
   "cell_type": "code",
   "execution_count": 476,
   "metadata": {},
   "outputs": [],
   "source": [
    "df['Poem'].dropna(inplace=True)\n",
    "df['Poem_token'] = df['Poem'].apply(word_tokenize)"
   ]
  },
  {
   "cell_type": "code",
   "execution_count": 477,
   "metadata": {},
   "outputs": [
    {
     "data": {
      "text/plain": [
       "0        [اصابت, سهام, الحتف, يا, حسره, الدهرصريح, قريش...\n",
       "1        [جئت, يا, دهر, بالرزيه, بكراغادرت, مهجه, الهدي...\n",
       "2        [وشادن, اورثني, حبهكالائتلافيين, حزنا, طويلعز,...\n",
       "3        [قد, كانت, الامال, معقودهفيك, وللامال, تضليلوا...\n",
       "4        [سواي, علي, الضيم, يبقي, رهيناوغيري, يري, ضارع...\n",
       "                               ...                        \n",
       "11186    [الي, وعدها, اصبو, وهل, ينجز, الوعد, وما, سئمت...\n",
       "11187    [انت, يا, شغل, خاطري, نصب, عيني, حيثما, شئت, ا...\n",
       "11188    [مهلا, امامه, كم, تطول, نواك, والقلب, قد, هجر,...\n",
       "11189    [ابين, واشتياق, وارتياع, لقد, حملت, ما, لا, يس...\n",
       "11190    [لله, عهد, للرصافه, سالف, يصف, الشبيبه, وهي, ف...\n",
       "Name: Poem_token, Length: 10990, dtype: object"
      ]
     },
     "execution_count": 477,
     "metadata": {},
     "output_type": "execute_result"
    }
   ],
   "source": [
    "df['Poem_token']"
   ]
  },
  {
   "cell_type": "code",
   "execution_count": 478,
   "metadata": {},
   "outputs": [],
   "source": [
    "from nltk.stem.isri import ISRIStemmer\n",
    "st = ISRIStemmer()\n",
    "\n",
    "df['Poem_stem'] = df['Poem_token'].apply(lambda x: [st.stem(y) for y in x])"
   ]
  },
  {
   "cell_type": "code",
   "execution_count": 479,
   "metadata": {},
   "outputs": [],
   "source": [
    "# Remove stop words\n",
    "df['filtered_poems']= df['Poem_stem'].apply(lambda x: [item for item in x if item not in arabic_stopwords])"
   ]
  },
  {
   "cell_type": "code",
   "execution_count": 480,
   "metadata": {},
   "outputs": [
    {
     "data": {
      "text/html": [
       "<div>\n",
       "<style scoped>\n",
       "    .dataframe tbody tr th:only-of-type {\n",
       "        vertical-align: middle;\n",
       "    }\n",
       "\n",
       "    .dataframe tbody tr th {\n",
       "        vertical-align: top;\n",
       "    }\n",
       "\n",
       "    .dataframe thead th {\n",
       "        text-align: right;\n",
       "    }\n",
       "</style>\n",
       "<table border=\"1\" class=\"dataframe\">\n",
       "  <thead>\n",
       "    <tr style=\"text-align: right;\">\n",
       "      <th></th>\n",
       "      <th>Poem</th>\n",
       "      <th>Number of Versus</th>\n",
       "      <th>Poet</th>\n",
       "      <th>Century</th>\n",
       "      <th>Label</th>\n",
       "      <th>Type</th>\n",
       "      <th>Metre</th>\n",
       "      <th>Poem_token</th>\n",
       "      <th>Poem_stem</th>\n",
       "      <th>filtered_poems</th>\n",
       "      <th>Detokenize</th>\n",
       "    </tr>\n",
       "  </thead>\n",
       "  <tbody>\n",
       "    <tr>\n",
       "      <th>0</th>\n",
       "      <td>اصابت سهام الحتف يا حسره الدهرصريح قريش والخلا...</td>\n",
       "      <td>46</td>\n",
       "      <td>أبو المحاسن الكربلائي</td>\n",
       "      <td>العراق</td>\n",
       "      <td>عتاب</td>\n",
       "      <td>عموديه</td>\n",
       "      <td>بحر الطويل</td>\n",
       "      <td>[اصابت, سهام, الحتف, يا, حسره, الدهرصريح, قريش...</td>\n",
       "      <td>[صبت, سهم, حتف, يا, حسر, دهرصريح, قرش, خلص, من...</td>\n",
       "      <td>[صبت, سهم, حتف, حسر, دهرصريح, خلص, هرلقد, نثل,...</td>\n",
       "      <td>صبت سهم حتف حسر دهرصريح خلص هرلقد نثل دهر كنن ...</td>\n",
       "    </tr>\n",
       "    <tr>\n",
       "      <th>1</th>\n",
       "      <td>جئت يا دهر بالرزيه بكراغادرت مهجه الهدي وهي حر...</td>\n",
       "      <td>37</td>\n",
       "      <td>أبو المحاسن الكربلائي</td>\n",
       "      <td>العراق</td>\n",
       "      <td>عتاب</td>\n",
       "      <td>عموديه</td>\n",
       "      <td>بحر الخفيف</td>\n",
       "      <td>[جئت, يا, دهر, بالرزيه, بكراغادرت, مهجه, الهدي...</td>\n",
       "      <td>[جئت, يا, دهر, رزه, بكراغادرت, هجه, هدي, وهي, ...</td>\n",
       "      <td>[جئت, دهر, رزه, بكراغادرت, هجه, هدي, حري, قصد,...</td>\n",
       "      <td>جئت دهر رزه بكراغادرت هجه هدي حري قصد سهم نفسا...</td>\n",
       "    </tr>\n",
       "    <tr>\n",
       "      <th>2</th>\n",
       "      <td>وشادن اورثني حبهكالائتلافيين حزنا طويلعز علي ا...</td>\n",
       "      <td>14</td>\n",
       "      <td>أبو المحاسن الكربلائي</td>\n",
       "      <td>العراق</td>\n",
       "      <td>عتاب</td>\n",
       "      <td>عموديه</td>\n",
       "      <td>بحر السريع</td>\n",
       "      <td>[وشادن, اورثني, حبهكالائتلافيين, حزنا, طويلعز,...</td>\n",
       "      <td>[وشد, ورث, حبهكالائتلافي, حزن, طويلعز, علي, وص...</td>\n",
       "      <td>[وشد, ورث, حبهكالائتلافي, حزن, طويلعز, وصل, كم...</td>\n",
       "      <td>وشد ورث حبهكالائتلافي حزن طويلعز وصل كمعز دردن...</td>\n",
       "    </tr>\n",
       "    <tr>\n",
       "      <th>3</th>\n",
       "      <td>قد كانت الامال معقودهفيك وللامال تضليلواليوم ل...</td>\n",
       "      <td>11</td>\n",
       "      <td>أبو المحاسن الكربلائي</td>\n",
       "      <td>العراق</td>\n",
       "      <td>عتاب</td>\n",
       "      <td>عموديه</td>\n",
       "      <td>بحر السريع</td>\n",
       "      <td>[قد, كانت, الامال, معقودهفيك, وللامال, تضليلوا...</td>\n",
       "      <td>[قد, كانت, امل, معقودهفيك, امل, تضليلواليوم, ل...</td>\n",
       "      <td>[امل, معقودهفيك, امل, تضليلواليوم, رجء, هاسلو,...</td>\n",
       "      <td>امل معقودهفيك امل تضليلواليوم رجء هاسلو تنويلا...</td>\n",
       "    </tr>\n",
       "    <tr>\n",
       "      <th>4</th>\n",
       "      <td>سواي علي الضيم يبقي رهيناوغيري يري ضارعا مستكي...</td>\n",
       "      <td>87</td>\n",
       "      <td>أبو المحاسن الكربلائي</td>\n",
       "      <td>العراق</td>\n",
       "      <td>عتاب</td>\n",
       "      <td>عموديه</td>\n",
       "      <td>بحر المتقارب</td>\n",
       "      <td>[سواي, علي, الضيم, يبقي, رهيناوغيري, يري, ضارع...</td>\n",
       "      <td>[سوي, علي, ضيم, يبق, رهيناوغيري, يري, ضرع, مست...</td>\n",
       "      <td>[سوي, ضيم, يبق, رهيناوغيري, يري, ضرع, مستكيناو...</td>\n",
       "      <td>سوي ضيم يبق رهيناوغيري يري ضرع مستكيناو جنب عز...</td>\n",
       "    </tr>\n",
       "  </tbody>\n",
       "</table>\n",
       "</div>"
      ],
      "text/plain": [
       "                                                Poem Number of Versus  \\\n",
       "0  اصابت سهام الحتف يا حسره الدهرصريح قريش والخلا...               46   \n",
       "1  جئت يا دهر بالرزيه بكراغادرت مهجه الهدي وهي حر...               37   \n",
       "2  وشادن اورثني حبهكالائتلافيين حزنا طويلعز علي ا...               14   \n",
       "3  قد كانت الامال معقودهفيك وللامال تضليلواليوم ل...               11   \n",
       "4  سواي علي الضيم يبقي رهيناوغيري يري ضارعا مستكي...               87   \n",
       "\n",
       "                    Poet Century Label    Type         Metre  \\\n",
       "0  أبو المحاسن الكربلائي  العراق  عتاب  عموديه    بحر الطويل   \n",
       "1  أبو المحاسن الكربلائي  العراق  عتاب  عموديه    بحر الخفيف   \n",
       "2  أبو المحاسن الكربلائي  العراق  عتاب  عموديه    بحر السريع   \n",
       "3  أبو المحاسن الكربلائي  العراق  عتاب  عموديه    بحر السريع   \n",
       "4  أبو المحاسن الكربلائي  العراق  عتاب  عموديه  بحر المتقارب   \n",
       "\n",
       "                                          Poem_token  \\\n",
       "0  [اصابت, سهام, الحتف, يا, حسره, الدهرصريح, قريش...   \n",
       "1  [جئت, يا, دهر, بالرزيه, بكراغادرت, مهجه, الهدي...   \n",
       "2  [وشادن, اورثني, حبهكالائتلافيين, حزنا, طويلعز,...   \n",
       "3  [قد, كانت, الامال, معقودهفيك, وللامال, تضليلوا...   \n",
       "4  [سواي, علي, الضيم, يبقي, رهيناوغيري, يري, ضارع...   \n",
       "\n",
       "                                           Poem_stem  \\\n",
       "0  [صبت, سهم, حتف, يا, حسر, دهرصريح, قرش, خلص, من...   \n",
       "1  [جئت, يا, دهر, رزه, بكراغادرت, هجه, هدي, وهي, ...   \n",
       "2  [وشد, ورث, حبهكالائتلافي, حزن, طويلعز, علي, وص...   \n",
       "3  [قد, كانت, امل, معقودهفيك, امل, تضليلواليوم, ل...   \n",
       "4  [سوي, علي, ضيم, يبق, رهيناوغيري, يري, ضرع, مست...   \n",
       "\n",
       "                                      filtered_poems  \\\n",
       "0  [صبت, سهم, حتف, حسر, دهرصريح, خلص, هرلقد, نثل,...   \n",
       "1  [جئت, دهر, رزه, بكراغادرت, هجه, هدي, حري, قصد,...   \n",
       "2  [وشد, ورث, حبهكالائتلافي, حزن, طويلعز, وصل, كم...   \n",
       "3  [امل, معقودهفيك, امل, تضليلواليوم, رجء, هاسلو,...   \n",
       "4  [سوي, ضيم, يبق, رهيناوغيري, يري, ضرع, مستكيناو...   \n",
       "\n",
       "                                          Detokenize  \n",
       "0  صبت سهم حتف حسر دهرصريح خلص هرلقد نثل دهر كنن ...  \n",
       "1  جئت دهر رزه بكراغادرت هجه هدي حري قصد سهم نفسا...  \n",
       "2  وشد ورث حبهكالائتلافي حزن طويلعز وصل كمعز دردن...  \n",
       "3  امل معقودهفيك امل تضليلواليوم رجء هاسلو تنويلا...  \n",
       "4  سوي ضيم يبق رهيناوغيري يري ضرع مستكيناو جنب عز...  "
      ]
     },
     "execution_count": 480,
     "metadata": {},
     "output_type": "execute_result"
    }
   ],
   "source": [
    "df.head()"
   ]
  },
  {
   "cell_type": "markdown",
   "metadata": {},
   "source": [
    "#### Most common words "
   ]
  },
  {
   "cell_type": "code",
   "execution_count": 481,
   "metadata": {},
   "outputs": [],
   "source": [
    "from nltk.tokenize.treebank import TreebankWordDetokenizer as Detok\n",
    "df['Detokenize'] = df[\"filtered_poems\"].apply(detokenizer.detokenize)"
   ]
  },
  {
   "cell_type": "code",
   "execution_count": 482,
   "metadata": {},
   "outputs": [
    {
     "data": {
      "text/html": [
       "<div>\n",
       "<style scoped>\n",
       "    .dataframe tbody tr th:only-of-type {\n",
       "        vertical-align: middle;\n",
       "    }\n",
       "\n",
       "    .dataframe tbody tr th {\n",
       "        vertical-align: top;\n",
       "    }\n",
       "\n",
       "    .dataframe thead th {\n",
       "        text-align: right;\n",
       "    }\n",
       "</style>\n",
       "<table border=\"1\" class=\"dataframe\">\n",
       "  <thead>\n",
       "    <tr style=\"text-align: right;\">\n",
       "      <th></th>\n",
       "      <th>words</th>\n",
       "      <th>frequency</th>\n",
       "    </tr>\n",
       "  </thead>\n",
       "  <tbody>\n",
       "    <tr>\n",
       "      <th>49</th>\n",
       "      <td>وري</td>\n",
       "      <td>1619</td>\n",
       "    </tr>\n",
       "    <tr>\n",
       "      <th>48</th>\n",
       "      <td>قدر</td>\n",
       "      <td>1638</td>\n",
       "    </tr>\n",
       "    <tr>\n",
       "      <th>47</th>\n",
       "      <td>شوق</td>\n",
       "      <td>1648</td>\n",
       "    </tr>\n",
       "    <tr>\n",
       "      <th>46</th>\n",
       "      <td>سمع</td>\n",
       "      <td>1661</td>\n",
       "    </tr>\n",
       "    <tr>\n",
       "      <th>45</th>\n",
       "      <td>ظلم</td>\n",
       "      <td>1680</td>\n",
       "    </tr>\n",
       "    <tr>\n",
       "      <th>44</th>\n",
       "      <td>جمل</td>\n",
       "      <td>1693</td>\n",
       "    </tr>\n",
       "    <tr>\n",
       "      <th>43</th>\n",
       "      <td>ولي</td>\n",
       "      <td>1697</td>\n",
       "    </tr>\n",
       "    <tr>\n",
       "      <th>42</th>\n",
       "      <td>بحر</td>\n",
       "      <td>1724</td>\n",
       "    </tr>\n",
       "    <tr>\n",
       "      <th>41</th>\n",
       "      <td>ايم</td>\n",
       "      <td>1729</td>\n",
       "    </tr>\n",
       "    <tr>\n",
       "      <th>40</th>\n",
       "      <td>عرض</td>\n",
       "      <td>1736</td>\n",
       "    </tr>\n",
       "    <tr>\n",
       "      <th>39</th>\n",
       "      <td>مني</td>\n",
       "      <td>1771</td>\n",
       "    </tr>\n",
       "    <tr>\n",
       "      <th>38</th>\n",
       "      <td>وجه</td>\n",
       "      <td>1791</td>\n",
       "    </tr>\n",
       "    <tr>\n",
       "      <th>37</th>\n",
       "      <td>حكم</td>\n",
       "      <td>1816</td>\n",
       "    </tr>\n",
       "    <tr>\n",
       "      <th>36</th>\n",
       "      <td>اهل</td>\n",
       "      <td>1828</td>\n",
       "    </tr>\n",
       "    <tr>\n",
       "      <th>35</th>\n",
       "      <td>شعر</td>\n",
       "      <td>1833</td>\n",
       "    </tr>\n",
       "    <tr>\n",
       "      <th>34</th>\n",
       "      <td>عهد</td>\n",
       "      <td>1838</td>\n",
       "    </tr>\n",
       "    <tr>\n",
       "      <th>33</th>\n",
       "      <td>قرب</td>\n",
       "      <td>1847</td>\n",
       "    </tr>\n",
       "    <tr>\n",
       "      <th>32</th>\n",
       "      <td>شمس</td>\n",
       "      <td>1853</td>\n",
       "    </tr>\n",
       "    <tr>\n",
       "      <th>31</th>\n",
       "      <td>مجد</td>\n",
       "      <td>1880</td>\n",
       "    </tr>\n",
       "    <tr>\n",
       "      <th>30</th>\n",
       "      <td>عمر</td>\n",
       "      <td>1894</td>\n",
       "    </tr>\n",
       "    <tr>\n",
       "      <th>29</th>\n",
       "      <td>ملك</td>\n",
       "      <td>1900</td>\n",
       "    </tr>\n",
       "    <tr>\n",
       "      <th>28</th>\n",
       "      <td>خير</td>\n",
       "      <td>1930</td>\n",
       "    </tr>\n",
       "    <tr>\n",
       "      <th>27</th>\n",
       "      <td>لقد</td>\n",
       "      <td>1964</td>\n",
       "    </tr>\n",
       "    <tr>\n",
       "      <th>26</th>\n",
       "      <td>ناس</td>\n",
       "      <td>2025</td>\n",
       "    </tr>\n",
       "    <tr>\n",
       "      <th>25</th>\n",
       "      <td>ارض</td>\n",
       "      <td>2037</td>\n",
       "    </tr>\n",
       "    <tr>\n",
       "      <th>24</th>\n",
       "      <td>قوم</td>\n",
       "      <td>2063</td>\n",
       "    </tr>\n",
       "    <tr>\n",
       "      <th>23</th>\n",
       "      <td>وصل</td>\n",
       "      <td>2094</td>\n",
       "    </tr>\n",
       "    <tr>\n",
       "      <th>22</th>\n",
       "      <td>كنت</td>\n",
       "      <td>2133</td>\n",
       "    </tr>\n",
       "    <tr>\n",
       "      <th>21</th>\n",
       "      <td>نظر</td>\n",
       "      <td>2156</td>\n",
       "    </tr>\n",
       "    <tr>\n",
       "      <th>20</th>\n",
       "      <td>عرف</td>\n",
       "      <td>2162</td>\n",
       "    </tr>\n",
       "    <tr>\n",
       "      <th>19</th>\n",
       "      <td>بدر</td>\n",
       "      <td>2188</td>\n",
       "    </tr>\n",
       "    <tr>\n",
       "      <th>18</th>\n",
       "      <td>خلق</td>\n",
       "      <td>2251</td>\n",
       "    </tr>\n",
       "    <tr>\n",
       "      <th>17</th>\n",
       "      <td>زمن</td>\n",
       "      <td>2264</td>\n",
       "    </tr>\n",
       "    <tr>\n",
       "      <th>16</th>\n",
       "      <td>هوي</td>\n",
       "      <td>2308</td>\n",
       "    </tr>\n",
       "    <tr>\n",
       "      <th>15</th>\n",
       "      <td>صبح</td>\n",
       "      <td>2318</td>\n",
       "    </tr>\n",
       "    <tr>\n",
       "      <th>14</th>\n",
       "      <td>حمد</td>\n",
       "      <td>2434</td>\n",
       "    </tr>\n",
       "    <tr>\n",
       "      <th>13</th>\n",
       "      <td>جمع</td>\n",
       "      <td>2460</td>\n",
       "    </tr>\n",
       "    <tr>\n",
       "      <th>12</th>\n",
       "      <td>سعد</td>\n",
       "      <td>2463</td>\n",
       "    </tr>\n",
       "    <tr>\n",
       "      <th>11</th>\n",
       "      <td>فرق</td>\n",
       "      <td>2522</td>\n",
       "    </tr>\n",
       "    <tr>\n",
       "      <th>10</th>\n",
       "      <td>امر</td>\n",
       "      <td>2685</td>\n",
       "    </tr>\n",
       "    <tr>\n",
       "      <th>9</th>\n",
       "      <td>فضل</td>\n",
       "      <td>2842</td>\n",
       "    </tr>\n",
       "    <tr>\n",
       "      <th>8</th>\n",
       "      <td>ذكر</td>\n",
       "      <td>2853</td>\n",
       "    </tr>\n",
       "    <tr>\n",
       "      <th>7</th>\n",
       "      <td>سلم</td>\n",
       "      <td>3041</td>\n",
       "    </tr>\n",
       "    <tr>\n",
       "      <th>6</th>\n",
       "      <td>حسن</td>\n",
       "      <td>3165</td>\n",
       "    </tr>\n",
       "    <tr>\n",
       "      <th>5</th>\n",
       "      <td>دمع</td>\n",
       "      <td>3181</td>\n",
       "    </tr>\n",
       "    <tr>\n",
       "      <th>4</th>\n",
       "      <td>ليل</td>\n",
       "      <td>3252</td>\n",
       "    </tr>\n",
       "    <tr>\n",
       "      <th>3</th>\n",
       "      <td>حتي</td>\n",
       "      <td>3360</td>\n",
       "    </tr>\n",
       "    <tr>\n",
       "      <th>2</th>\n",
       "      <td>كرم</td>\n",
       "      <td>3398</td>\n",
       "    </tr>\n",
       "    <tr>\n",
       "      <th>1</th>\n",
       "      <td>دهر</td>\n",
       "      <td>3400</td>\n",
       "    </tr>\n",
       "    <tr>\n",
       "      <th>0</th>\n",
       "      <td>قلب</td>\n",
       "      <td>5538</td>\n",
       "    </tr>\n",
       "  </tbody>\n",
       "</table>\n",
       "</div>"
      ],
      "text/plain": [
       "   words  frequency\n",
       "49   وري       1619\n",
       "48   قدر       1638\n",
       "47   شوق       1648\n",
       "46   سمع       1661\n",
       "45   ظلم       1680\n",
       "44   جمل       1693\n",
       "43   ولي       1697\n",
       "42   بحر       1724\n",
       "41   ايم       1729\n",
       "40   عرض       1736\n",
       "39   مني       1771\n",
       "38   وجه       1791\n",
       "37   حكم       1816\n",
       "36   اهل       1828\n",
       "35   شعر       1833\n",
       "34   عهد       1838\n",
       "33   قرب       1847\n",
       "32   شمس       1853\n",
       "31   مجد       1880\n",
       "30   عمر       1894\n",
       "29   ملك       1900\n",
       "28   خير       1930\n",
       "27   لقد       1964\n",
       "26   ناس       2025\n",
       "25   ارض       2037\n",
       "24   قوم       2063\n",
       "23   وصل       2094\n",
       "22   كنت       2133\n",
       "21   نظر       2156\n",
       "20   عرف       2162\n",
       "19   بدر       2188\n",
       "18   خلق       2251\n",
       "17   زمن       2264\n",
       "16   هوي       2308\n",
       "15   صبح       2318\n",
       "14   حمد       2434\n",
       "13   جمع       2460\n",
       "12   سعد       2463\n",
       "11   فرق       2522\n",
       "10   امر       2685\n",
       "9    فضل       2842\n",
       "8    ذكر       2853\n",
       "7    سلم       3041\n",
       "6    حسن       3165\n",
       "5    دمع       3181\n",
       "4    ليل       3252\n",
       "3    حتي       3360\n",
       "2    كرم       3398\n",
       "1    دهر       3400\n",
       "0    قلب       5538"
      ]
     },
     "execution_count": 482,
     "metadata": {},
     "output_type": "execute_result"
    }
   ],
   "source": [
    "from collections import Counter\n",
    "#top 10 words after stemming \n",
    "Top_words = Counter(\" \".join(df[\"Detokenize\"]).split()).most_common(50)\n",
    "words = [t for t,n in Top_words]\n",
    "frequency = [n for t,n in Top_words]\n",
    "Top_words_df = pd.DataFrame({'words': words,'frequency': frequency})\n",
    "Top_words_df.sort_values(by=[\"frequency\"])"
   ]
  },
  {
   "cell_type": "code",
   "execution_count": 483,
   "metadata": {},
   "outputs": [
    {
     "data": {
      "text/plain": [
       "{'Detokenize': [(338, 'يول عزل يتم يتم'),\n",
       "  (4355,\n",
       "   'يوف روه ترن جمل شعراء موس جلس ونت بدء صلح دنا بقت مكر ذكر سلم فجر ادح جدد ذكر انع خلق صان عرب اعج ختر وبن وكل ملك ؤيد حمي الق سلح جيش غلب اقم يحص مغن حق هرج امن عدي يبت منع جلو بشر ملا قطب وتج لبك ملك لوك دعو شفت سمع ورق توس يعط ختر نبي ثوب اعظ حر شوق اري مصل مسل بقع ثرب صبح ساؤ حطم زمز يعل ضجج حجج شكر تول سعد لئك سما حبذ وفد شام مقد وفد حضر حجز مقو كنت شهد جلي اضح فؤد محو تطرب حفف روح شوق ثري تنس اهد نضر عيش كنت جاز مخي حتي نشر بخر لءه افق ئتم حمم قشع وكس نبت قفر خمل غنء صطحب غزل ضيغ جهر نجي شعر لبس ثوب فتح معل هدك سير ولي حمك نهي نمي قسم يسل سبل وضح سهل يسل سبل مبه يضم جمع لوء وحد تقم وحد يهم تحك وذا لكت قلب رقب ملك طيع مرغ ادب عاص طال سجن عفو كرم وعل حزم غلب قهر وري يول رفق ضعف مجر عثم سلم دمت حيا مته زال روح فؤد حبكم حتي مجس بلق سبب سلك ظبي اسه شهد جيش ظفر ضرب عقب جيش شرد محج هلل طلع يمن جلو ميد نقع مظل'),\n",
       "  (8070,\n",
       "   'يهي سوك تهو فهل سفه اشد راي ضلل حزم سيف نزل بحد شك غلل نزه هوك خلص خلص نزه راس كلل'),\n",
       "  (6390,\n",
       "   'يهي ذؤب خضر نقض نجم دجن ثقب شعب تهي كمثل بنن لكف فناولنيه دلل شمس ام بدر قرب صبح شهر جمل شهر حسن خدن لحه صحب'),\n",
       "  (1158, 'يهي بقء مد بقء ودر مني ابق بقء شغل يري صرف بلي'),\n",
       "  (6286,\n",
       "   'يهو دنا شيئ يعن سوي لرب جلا يثق منا بمفارقته لذي دنا وجه جمل فعش حله خار دنا وقت رحل'),\n",
       "  (4501,\n",
       "   'يهن طرس كف حمد وكف لثم ترب قدم فذا شمم مسك ونم سرر كشف لثم فقل سلم صطف ببن ختم غوث يمه شوق الك راهيم قعد شيب سقم فلذ قدم نبت عرب حسن قلم ينه شيق فؤد لخص تطع كتب شرح غرم يرم منك رضي روح ماء زون مزج دام دمت علك ودم سر طرق كاس رحق ونت مسك ختم'),\n",
       "  (1170,\n",
       "   'يهن جزر منك حسم لذب سلم بجد سلم منك وغي سلك جود قدم خلق كنا سوك لقد سيب غمم بطش ضرغام غدو قود نظر قله وسن خطي وحد حسم ورك سيد امم احق قيد فكس خلع ولي حله جلت سوم سوم وحم ثغر قصي ودن شيع صلب ترم رام ولج اسن ظبا حتي فرج زحم غدو سهم نحر ثغر امر قوس امم رمي وشن سيل عرص نار ريح ضرم ذمر حنك يد وغي فري راي كهل سن غلم يلق اسن حسر يرد تهلل صفح صمصام عود تنم كمت حتي وسد هام هام جدل قرن نقل قدم قدم زمن عدو ظلم كله ليل ليل دجي ولل قتم قوت عدت كمه اغد اسد غاب ومل اعن قلب رعب يقظ حلم لرم الق الك قيد قاء سلم سلم وتق فنء يعم صرف سلم درع ثوب فرر ذله فسل اقص درب شام حكم جلد ظبا جرت حكم ردد موت مرد رغم عقب دمي سطو ذفنش سطه وثق امر وحد قيم شنه عجب ظهر راي حكم حكم افن دجن سهر تبرع ذبه اعن نوم شرك بره وظف بره زيه ذبل حسم تبق لقع نهب رمل حنو يام صناديد شهد شيم علا وشج رحم خفا صوت صرخ جهل ولد ردي حلم وهم صعب وغي وهم بنو عوم جدل جلد بلس بيض امن فحم ونك تدع عرف غيه نكر لله لقد خصص بفط تغن فرس فهم لقد نهج قتف طرق سنه قوم طلت عهد سلم فعد ايم سرت ركب عنك نفح ترم افق ختم عمل سيف جهد جهد فرق روح جسم ليم باب علج فلل ذعر منك كثر وهم رئس لف ذعر رسه طول خمط عرم فمت رحل اشم رحل ومت اقم اقم شر طغه طمح بصر اهل صنم فسم ايم طاع لمم كفر اثم عجب ظهر عاص محل سطم سطم قاد صلب جهل نصر نصر سلم فنج وكف نجه قئد جحفل تمطر طمر لجم وتر اسر ردي جند جحم شدد حجم فتح شهد سعد نقض برم لقد نهج سعد سيف هدي لحل حرم عبر تبس حله شان عبر بسم ومل ايد عفي روض روض غب غمم قسم دهر ليل نهر سرو صيم غرس جيد صنع تثن علك بلس قلم نظم سلك فخر نقب حرت فطن نظم نثن علك بحل حال نطق بغر شتك خوف وعد قذت كفك خوف ؤمل قسم ظفر غدر لبر قسم اخا حيا وبن حيا وبا حيا وكذ كرم نجل كرم اري ملي وهن ظواميء بحر برك وهن ظمي ونل ننا بدت شكر عجز قيد تمم لحر جام ودع بصر بطن ظهر جام زلت تصل رئس ساع طعه خلق امم'),\n",
       "  (8929,\n",
       "   'يهم قصد انظموشعري دمي ضرمال اخت لاجئينالي اخت دعو دمل سكن كهوفوفوق ربي اسي خيمواالي شدو شعر حياهوم برح ساستلهمالي حطم خطوبوارهق حدث مؤلموجار زمن عتيوانهك ناب ميسمال شدو شعر حياهساشدو شدو واستلهمفيصحو شعر سادرونويستيقظ نفر نوم'),\n",
       "  (1576,\n",
       "   'يهل شيب ليل قلب خوف فرق وجب اشب درك ليل غبق غبق حبب غبق عظم سنا بري برق تون ارب اشب تبي جيش بحد يقس ايا خطب لبز سبح فتي شكي سلح نجب يذد جند هرمز يذد كلب تلب يك غصن ذاو وغص ماء شبب رطب فني حنت ظهر خطب تبع فمش ضعف رجل دبب عظم رجف بلي دوء ركب طبب صحب ربع تري اري شخص شخص قرب عجب مرء غني تتر ايم حرب وكن تري ناس بشش شنه قار نجب خبر شيب يعق تعق فرق تحب دخل دهر قبر حوب يقم علك قلت ترع ترح رعي مذع عشي خبب'),\n",
       "  (11025,\n",
       "   'يهذ نزل درس سلم وسق صوب بكر تغم زال مسن ربك سقي عزل برق عرض رزم كنت هيج صحب هوي ذكر ميه سقم هوي كدت فرط سنن جمن نظم ومذ يهج شوق رسم دمن عفت حمر سهم ارب مطر حتي كتب زبر مهاريق عجم وكل نؤج نبر جنب بتس ذيل فرد تئم اضر روح ذبل درج متي عصف ريح رسم لمه زرق ليا عرف جرثوم اري تخم قوس ثلم سيل جدر عضد خبط هدم فلم ريت دار غشت عمت شابيب دمع لبس تلثم خفه تنم دمع سرر ضمر كتم احب قفر انن اتغ بسم عجم يبق ذكر نهض حشء فؤد تيم نال نظر هيض قلب كانهياض تعب تمم تغر ام وشي ناس اقل سدي لحم يك وصل سمع وصل حاديث ناس صرم صرم الك امر ؤمن عسف ولد جدل شدقم نشط يبر حذه ارض تعم نحس خزم ابض خطم كنه جني نسج قز خذم عسر اخش شبن شكل صدد دم وكن تخط نقت فزه الك حوض ماء سدم بعط قرد هزل ندر صيصاء هبد حطم سمع وطء ركب نغش حشش لحم دم جشم الك خصم جرر جرم شئت قصر نهر طفل هضم حشا برق تبسم ياب ماء زنه صهباء برق شرب قدم قرع فاه قوارير قرع يمج خلص لون كالدم ترح هجم رتع مها رتق قيظ جرم عسء دهناو ترب طيب نسم روح نسم تحن دهن بخف نقت وني هوي صوت ترنم ابل زرق اوط اهل يحل علياء مهاريس هضب تنم فحل لسر ذود رهط قرضم شته جسد صبغ ورس عندم يثر غزل صرم طرد خطط ثري دلو رزم بلا ذمه قوم وغر صدر مهر قوم خطر عهد بلد لقم هجت عطر نشم نجب هور ديه كسب اثم عطء رحل حجب ردق خضرم كرم نثا رحب فنء توج بتج بهء ملك تعمم تبر سهل فضء تتق تمم عرمرم حدب سعد ربب ورء طرف اعج سوم شاء دعي اتت بمل شهب عمرو وكل شوهاء صلدم ثوب دعي خندف فيا داع معز كرم تدع قيس قيس عيل يات بنو حرب سعل عظم كثر حصي عال لمن ظهر ملك فنخ ناس قرم شبح ذرع تتق حرب شعشاع ابض دغم رسل رعي رعت هبه ياس موت'),\n",
       "  (1658,\n",
       "   'يهذ عزز سنا لضر وعن هجر منو جد نزر رقد طرف فجر ماء معي طاف قرطق عقد الز ار خصر عقر تنف همم ستخ رج شوق فؤد دفي غاص ماء زاج فبد ؤلؤ كنو جلت فصر حدق تري جفو يسع فخل طلع الش مس ليل بدر لقد راع قوم بع فصح صله غفل'),\n",
       "  (1307,\n",
       "   'يهذ سئل يزد لؤم فعل تعل عمر يهم صرف عني قول دهر حكت قوف تنب رذل رفع امر صبح اهل روء ساه كحر يدر هدي وجه ضلل يلق رشد هاد تري لب سفل تلع وكل جهل راي علو روب كذي جيف غرق ننت وجت بطن ماء علو طوف'),\n",
       "  (7421, 'يهد علماء فاس شئت يشع سرر قلب جري نثو سرر كتم'),\n",
       "  (10357,\n",
       "   'يهج شوق طلل ام فرط شيخ غزل ام قطن اصب قله خنو حمل وري ظعن قفه علو خرم سير رمل قنا عهن حمل وعل رهو كلل غزل صرم خدر يظل ظلل تمت فؤد فرق ظبه عطل شنف رشا ربب بذت حاذ عزل ضحت رقب يله دغل فسق نزل وحل قرد ربب لصت زجل ابد حسن نظر عشء هلب خضل تحلب تهي جنب تكد عدل جفل وضع صنع ضحي فوه سيب وحط عجل فسق امر قيس عمر كرم ذكر نبل طعن طئش جرح خلل فطع ضرب ثني اخر نزل نزل يهب خاض غرب زبد فحل عان بقل خاض صفت وعم ربع نفل وذا جزء حان شرب صيف وسر نهل رشف ذنب جمجم لحض سمل'),\n",
       "  (2945, 'يهج سرت جرب بكف عد عظم جنب لئم لذك حتي كفت صفح لئم'),\n",
       "  (10882,\n",
       "   'يهج ذكر عشق ولع ردف شوق اتا نقل شكر حدث روه صفح لخد بسم قرب قرب ضم نهد نهد شرح عذر سطر اطر يقت كتب بذي ند رام لمي رقق خطب راق انس بلا صد رام ضم عطف شكر يمس كخط خصر لقد وكل مرء لحب قلب مرء حجر صلد'),\n",
       "  (5286, 'يهت دهر ستر سره وكم دبر وكل رمت خلص قعد عئق باب دار'),\n",
       "  (3533,\n",
       "   'ينو حسن ملك لكا عزز اطل دهر فرق اضح عدل دول جنه ناس اضح نزل بشر تبغ عنهم جاء ارخ يبغ'),\n",
       "  (10486,\n",
       "   'ينه حبك مشتاقوالي حمك تهز شواققد حبك هينفاذ غصن طاقخذ وصف حلت قلبهفهو كئب سكن خفاقوجدا دمع فسحابههتانه جدت اماقوكفاك حال تيم لعب هجر لوع وفراقيخفي غرم جلد فيذيعهقهرا دمع مهراقحاشاك نقض عهد ود بينناواليك نسب حسن اخلاقاحسن حسن ضيف راحلوالناس خيل تساقولكل صب حله سلوهولكل بدر اضء محاقهل فؤد حبك كنو طيف كري طرق ولك قلب مغرمصب قرب دائ اشتاقطورا اري تجلد متصبرافتضيق قطر افاقوادير قدح فكر تارهفيصير هول احداقواذوب خوف لصد لول هبي وبن هوي ميثاقعندي شاء غرم صيانهف لحب قصر اعناقولي عفف سجه وطبيعهوبمثل عشاقونصيب حبي منك لذه ظرل اقل برك خلق جدل دهر خؤن وعد قرب دير وطب مذاقلاسامحن دهر اخلافهفيك مني سمح سباقولاغفرن ذنب دهر كلهاواقول زمن شقاقوعلي حال ملجاال خطب عنقط بشر طهر طهر ذيهو قلب سقم رياقسر قطب دئر شهد مجد رفع نطاقازكي وري وجل وطء ثريوسر كرم برق لجئ اضم وغث كفك هطل حل وضق خناقحاشي اضم وغث كفك هاطلابدا دائ دفق منك رضا اذو انث صحب ومل رفاقصل علك هبت صبانجد ومض لمع برق'),\n",
       "  (8503,\n",
       "   'ينم نوم سوا نفق حيه شجا سهد تطب كري ابد مات سر كيس فنع ايه الن عي تري عرب مات عاش ذلل عزز مات عاش ضعف قوا نكب حلت فهد مبا ركن رسا رعت نطق حتي تدع دمع عصا لبن لقي عبر جري مصر سور صفا دمع قلت يلق سخا جري يلق سخا سر كيس نجل لبن ملا شرق فنع شرق ثكل ام لغت كا فتا لبر جرء وفا خلد فخر هرق سيا ره نضح وضا غرر يمت يبق قي للو مات دئم ذكر حيا ربب صفا صيف صفا شيق يند فرش قاع ؤلؤ وته سحث بشر فجء نعا حال صفو كدرار ومس غصص شرب ظلل صفصاف هجر بع دك ربرب يتف وحش خيم بدي لند مان عزل حما بلل ريض هجر كنر صدح عيا دهر حتي صبا ارز صبح ريا ادب قضي حيه شرا طاو سحه ادم طيا عنو حظ ادب امر وطن عشت حرا شرق حر تطع حيه شقا فخو يحا فقر وخو جهل يحا غنا صحب دنا وفا فلم خفت خسف عرض ابا نصب دهي جرئ يلق جرا نم حبب قبر تخش حظا يشق دهر عتا نم مثو امن تعا عني عيش شيا نم ودع ابك علك تع تبك علا'),\n",
       "  (2908, 'ينم لئم رام شرا خبي كمء عرض وسط طرق يري لمع وسط غيهب'),\n",
       "  (7402,\n",
       "   'ينل قلب رمه يهو ارم رامهابرز هيفافاقام قيامهكل ياس يهزالتيه لدل قوامهثغره در نضيدابدع حسن نظامهوالذي سمي ريقاهو شهد ومدامهانحل جسم جفننحل لصب سقامهفاتق حتف طرف سل حسم'),\n",
       "  (3332, 'ينل ذكي نصب عكف يدب نفع مرء غبي درس نفع اعم بكل جرب'),\n",
       "  (6257,\n",
       "   'ينع قتل قضي شهد ايب شهد لحق شهد يرث يرث يغه وعد وغد وعد ندب ندب راي ناه بحب فرض ؤكد يعي ففي افض وعه هدي فاه شدو بدي دري وزر عمد جرم عقل حكم غرو جرم سدي لقد زل عقل زئل وبء فجل شك فند محا عرف لحق زلت بدت امر ازل صحو عقل وصم غفل ثقف غب صحو تود جلا جلي جلء وبض شهد سود ارب صدع صد صده نهي فيا حكم تاه هدي لقد فاه اوف تفئ تقي تعد قطر دمع دما لظي اسي ابخ نار قصص خمد وعد حمد عود سدم راي عود عوذ بلل حمد غزا جحد قرر غزه فتك وشن غره هدي رعه روع حمم رعي برع ريع شبب جدي حال لقل سوي يهب موت رهب ردي يبغ حيه طول وغر يهي يعش خلد وقل طرق بغي عذب قتل ام تعش رغد اجب منا بلل غيه مني اره ايم اشه رغد غال شص وعد رهب هدد هدد هاب اهب خشي هتز هز ريد هند فتي مزق جلد جلد جلد لان بهر جلد جلد سحق عذب جسم قطر روح نره صعد راي عذب عذب يكن ينف نال قسه عدي فيا نهي ؤلم قذي خاش شبا بيض مدي لمع برق رعد قلب ابي خوف برق ردي رعد لين عهن منع كري كبد ضرا قاس فت كبد ايد نهه ومس قلب تيد تلع سيف جيد بره حق ايم قلد فطق عقد كري نظم جمن دم فاق مهي زبرجد كسه غرر سيف ثوب صبغ غده ردي اسن ردء ردي يك ثوب حله وسف عقب صبغ ردا رهم ند سمه قدم سحق فدي فذل لله قرب عاز وذا فرق صبح بدا وذك فده كبش رتد سال يفد شيء فتد حاز دنا شقء عجل حاز اخر نعي خلد حرق يلم وهج سقت يد رحق برد تره لقي صعد ونه لفي جبل بكر فاق صعد ايه كبر دم ثري مها اوج سمء مجد شرف رحم بلا قبر اتر عجز ويد فكم ايد حرك سكن وكم يدي يدا حزت يدا وكم اكف كف برء شله طلق اسر قيد وكم ضني ابر ثره دنف ربق عجز حل قعد فطب رهم صرت وري ثلا نئب قدي وطب ابء ونت ولد حضن خطر مدي وطب سلف محا دهر ذكر اعد ذكر جدد وطب بنء كنس نهم سلم ركن شرف وطد وطب شرف جنس بست برد فخر مجد وحي رسم قدس عفا وشد تقي بنء مرد وشن شنا شان شنك غتد صفح دهر عزا ؤيد زان منك ذنب محص كشفع حسن زان خدا وبن ضوء شهد جهر فشم سني صبح توقد شرب كاس سيح عمد صبغ تعمد ودس بحب عصر ردي وحد تشر وحد لذك حقي جلس مجد يمي وسم سده مجد قعد سعد لان شقي تري سعد اتت حشر رهب قضه سعف شفع رفد ايا خير حب مات لحب شهد ارخ حبا قضي شهد'),\n",
       "  (7616,\n",
       "   'ينع حسن وصل وني دهر وغر هجر وني كفي جفا حتي رمي خلد عمد سهم ليل فصم ذنب حرض لفي سوي حبي كتم الك دهر عني جلد ندق عظم وهد حصر سقم حصن جسم ثلم سور ونث راب بني وكن عهد تمن فلم صدق نكر عرف عذل مر كعد راي خيل فقل اهل الح فعل يد هوي شجي عني نصح الغ رشد حرص سلو ام نال رجو صرع فاظ فرط شوق وشج سمع اني ورث بثا وعن وري جسم فني فعد فور عقب كتف روي حقق وتب ونب ناس اني مت اسف رشا حسن ثني هفهف زدر شمس طلع خجل بدر طرف رني اغد لحظ خفر يحم شقق وعق هيه رغب ذلي لعز ثنا حسن نظم ديو امر صنت نصب سيس زان بتق راس قطر دئر عظم ستي يمن وحس ويد لحق فضل حكم ودر وبر وفز سبق ضمر طقه حتي تمز قس سحب فكم دبر ؤسس ذكء صاف وكم ضءت ديج شكل فكر علا راي رجح وكم قلم حزم سجد بيض سمر وفا لنر فكف يثن عنا دئح نشر عطر شذا وري ثني ناس جمع مصر قطب بنه خير انس وهذ سجي حبر تنز غلا نقص اهد رجئ كرم هجر لان تحل نقب جوهر عقد شنه شني زال اوط متط متن علا صحب وخد غرد نضر روض سجع شوق فها اغص قلت شكو هوي بدء دحت ينع حسن وصل وني'),\n",
       "  (10867,\n",
       "   'ينس ودت قلب يسل رخء قول واش كشح عدو دار نيت قرب لدك اصب حبا قرب حب توب تئب يتب ابد ذنب اذل هوي وني رام صعب عذل هوي تعق يصر قلب كلف صب عمن يتي رحه ولك لب يضء حجر طفل عمه تصب حلم صبو قطف حور ونس ضحي متي تمش قيس باع بهر ترب ولس بنس قلت ربع غر كله ترب شعر صدد اخر ام عتب'),\n",
       "  (10526,\n",
       "   'ينس طين حتي يحض طين ارد ريح نسر عقد هوي نبض عطف حتي عقد خلق تكو شيئ ضمر غيب وحد اوح ينا معا: كون! نحل شوق عمر سسي: نبض (ثلث) حشء ()! لحب احلام/\\u200fملائكه بتت كبد اوهاما/\\u200fشياطي! صفت قهي صدق عاشقين، وفت (حري) فلم نزل يمم وعد نعد .. كحل منا ماقينا؟! نعد فته لاه برح غيه طوف سعي سفح روح قهت ظر، عذب فنج مواعيد رتب هوء تقي جزا قفي قدح نجا قدح شعل غيب حلم ريد شكو اسي تعز قصد قصد اشج عزي ارض ران رعب عدن فرح يثخ افق حسس ضرن صقل شغفا؟! فلم تزل صقل سكن سكي! زنز عمر ضقت اغن .. اغا وسع زنز! سمو ذوق ذوق سلط تحل كفي سلط شيء كذب ايم ملؤ صدق كاذيب غني جئن شوك .. يرث قست .. ضمد وهم دوي برد قدم نفد يلق عنو نمش بطل ارض طرق طرق نسي اضي خوف دخل غيهب نفي نفي خلد سرق فعه فرح سرق منا فعي! تبت يد خوف! بتن دئن نكد هرب حتي سمي نكد غدر عني برح شفه تلو عني نكد –والنظرات/\\u200fالشك لدغ نري يرب ثعب دئن فرط ودع جفت، وجف لوح ايد مري شجر عري منح مني طرز فني دور لحب يهد بطل جسد بطل قرب! لحب شد يرق رفق جتح يدي امن ترب حنجر مواويل طفل وسم كسو لمح لمح لحب غدو بست قومي، مشط حسس رصف عبر ثرا جني نحا فرس عشق حمت شوق .. شوق (حطي)! –والحب برح يطر طرن عصافير طرن بلي!'),\n",
       "  (10192,\n",
       "   'ينس سرر حزن وكف ينس وجه حسن منك قلب جسد كلي بكل شغل ومر وحد حسن منك كلف بحب حزن نور ولد شمس قمر حتي كمل روح بدن'),\n",
       "  (6963,\n",
       "   'يند دار نطق خرس عنك نطق خرس جذم ذوي فند طرق دوم طرق حتي عيا فلق اني عنت وحد قول اذن بهد شكو برح رمن صدر قرطق كثر شغل سجد لغر شمس شرق يزج خمر ماء جام تبر خمر فهق نطق صور سمع دعي نطق بني ببك حفر خندق خمر كتب لجه غرق لنع نعت دار خلت يهم طلل حمق')]}"
      ]
     },
     "execution_count": 483,
     "metadata": {},
     "output_type": "execute_result"
    }
   ],
   "source": [
    "# finding the most commen 30 woords\n",
    "Top_words = {}\n",
    "for comedian in df.Poem:\n",
    "    a = df['Detokenize'].sort_values(ascending=False).head(30)\n",
    "    Top_words['Detokenize']= list(zip(a.index, a.values))\n",
    "\n",
    "Top_words"
   ]
  }
 ],
 "metadata": {
  "interpreter": {
   "hash": "b636e954a0b6bc7f3d44ba0ea3984fa6b30a3ebf3ff15973f9d3fe28f5ed9b30"
  },
  "kernelspec": {
   "display_name": "Python 3.8.12 ('base')",
   "language": "python",
   "name": "python3"
  },
  "language_info": {
   "codemirror_mode": {
    "name": "ipython",
    "version": 3
   },
   "file_extension": ".py",
   "mimetype": "text/x-python",
   "name": "python",
   "nbconvert_exporter": "python",
   "pygments_lexer": "ipython3",
   "version": "3.8.12"
  },
  "orig_nbformat": 4
 },
 "nbformat": 4,
 "nbformat_minor": 2
}
