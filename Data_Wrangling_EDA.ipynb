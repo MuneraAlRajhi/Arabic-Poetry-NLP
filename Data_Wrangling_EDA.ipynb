{
 "cells": [
  {
   "cell_type": "markdown",
   "metadata": {},
   "source": [
    "# Data Wrangling and EDA"
   ]
  },
  {
   "cell_type": "code",
   "execution_count": 28,
   "metadata": {
    "scrolled": true
   },
   "outputs": [],
   "source": [
    "# libraries\n",
    "import pandas as pd\n",
    "import numpy as np\n",
    "import missingno as msno\n",
    "import matplotlib.pyplot as plt\n",
    "import seaborn as sns\n",
    "%matplotlib inline\n",
    "\n",
    "import nltk\n",
    "from nltk.corpus import stopwords\n",
    "from nltk.tokenize import word_tokenize\n",
    "from nltk.tokenize import sent_tokenize\n",
    "from nltk.stem.isri import ISRIStemmer\n",
    "from nltk.tokenize.treebank import TreebankWordDetokenizer\n",
    "from nltk.probability import FreqDist\n",
    "from ar_wordcloud import ArabicWordCloud"
   ]
  },
  {
   "cell_type": "markdown",
   "metadata": {},
   "source": [
    "## Data Wrangling"
   ]
  },
  {
   "cell_type": "code",
   "execution_count": 29,
   "metadata": {},
   "outputs": [
    {
     "data": {
      "text/html": [
       "<div>\n",
       "<style scoped>\n",
       "    .dataframe tbody tr th:only-of-type {\n",
       "        vertical-align: middle;\n",
       "    }\n",
       "\n",
       "    .dataframe tbody tr th {\n",
       "        vertical-align: top;\n",
       "    }\n",
       "\n",
       "    .dataframe thead th {\n",
       "        text-align: right;\n",
       "    }\n",
       "</style>\n",
       "<table border=\"1\" class=\"dataframe\">\n",
       "  <thead>\n",
       "    <tr style=\"text-align: right;\">\n",
       "      <th></th>\n",
       "      <th>Poem</th>\n",
       "      <th>Number of Versus</th>\n",
       "      <th>Poet</th>\n",
       "      <th>Century</th>\n",
       "      <th>Label</th>\n",
       "      <th>Type</th>\n",
       "      <th>Metre</th>\n",
       "    </tr>\n",
       "  </thead>\n",
       "  <tbody>\n",
       "    <tr>\n",
       "      <th>0</th>\n",
       "      <td>أصابت سهام الحتف يا حسرة الدهرصريح قريش والخلا...</td>\n",
       "      <td>46.0</td>\n",
       "      <td>أبو المحاسن الكربلائي</td>\n",
       "      <td>العراق</td>\n",
       "      <td>قصائد عتاب</td>\n",
       "      <td>عموديه</td>\n",
       "      <td>بحر الطويل</td>\n",
       "    </tr>\n",
       "    <tr>\n",
       "      <th>1</th>\n",
       "      <td>جئت يا دهر بالرزية بكراغادرت مهجة الهدى وهي حر...</td>\n",
       "      <td>37.0</td>\n",
       "      <td>أبو المحاسن الكربلائي</td>\n",
       "      <td>العراق</td>\n",
       "      <td>قصائد عتاب</td>\n",
       "      <td>عموديه</td>\n",
       "      <td>بحر الخفيف</td>\n",
       "    </tr>\n",
       "    <tr>\n",
       "      <th>2</th>\n",
       "      <td>وشادن أورثني حبهكالائتلافيين حزنا طويلعز علي ا...</td>\n",
       "      <td>14.0</td>\n",
       "      <td>أبو المحاسن الكربلائي</td>\n",
       "      <td>العراق</td>\n",
       "      <td>قصائد عتاب</td>\n",
       "      <td>عموديه</td>\n",
       "      <td>بحر السريع</td>\n",
       "    </tr>\n",
       "    <tr>\n",
       "      <th>3</th>\n",
       "      <td>قد كانت الآمال معقودةفيك وللأمال تضليلواليوم ل...</td>\n",
       "      <td>11.0</td>\n",
       "      <td>أبو المحاسن الكربلائي</td>\n",
       "      <td>العراق</td>\n",
       "      <td>قصائد عتاب</td>\n",
       "      <td>عموديه</td>\n",
       "      <td>بحر السريع</td>\n",
       "    </tr>\n",
       "    <tr>\n",
       "      <th>4</th>\n",
       "      <td>سواي على الضيم يبقى رهيناوغيري يرى ضارعا مستكي...</td>\n",
       "      <td>87.0</td>\n",
       "      <td>أبو المحاسن الكربلائي</td>\n",
       "      <td>العراق</td>\n",
       "      <td>قصائد عتاب</td>\n",
       "      <td>عموديه</td>\n",
       "      <td>بحر المتقارب</td>\n",
       "    </tr>\n",
       "  </tbody>\n",
       "</table>\n",
       "</div>"
      ],
      "text/plain": [
       "                                                Poem  Number of Versus  \\\n",
       "0  أصابت سهام الحتف يا حسرة الدهرصريح قريش والخلا...              46.0   \n",
       "1  جئت يا دهر بالرزية بكراغادرت مهجة الهدى وهي حر...              37.0   \n",
       "2  وشادن أورثني حبهكالائتلافيين حزنا طويلعز علي ا...              14.0   \n",
       "3  قد كانت الآمال معقودةفيك وللأمال تضليلواليوم ل...              11.0   \n",
       "4  سواي على الضيم يبقى رهيناوغيري يرى ضارعا مستكي...              87.0   \n",
       "\n",
       "                    Poet Century       Label    Type         Metre  \n",
       "0  أبو المحاسن الكربلائي  العراق  قصائد عتاب  عموديه    بحر الطويل  \n",
       "1  أبو المحاسن الكربلائي  العراق  قصائد عتاب  عموديه    بحر الخفيف  \n",
       "2  أبو المحاسن الكربلائي  العراق  قصائد عتاب  عموديه    بحر السريع  \n",
       "3  أبو المحاسن الكربلائي  العراق  قصائد عتاب  عموديه    بحر السريع  \n",
       "4  أبو المحاسن الكربلائي  العراق  قصائد عتاب  عموديه  بحر المتقارب  "
      ]
     },
     "execution_count": 29,
     "metadata": {},
     "output_type": "execute_result"
    }
   ],
   "source": [
    "# read dataset\n",
    "df = pd.read_excel(\"/Users/muneraalrajhi/Desktop/Capstone Project/CapstoneProject/data/Poems.xlsx\")\n",
    "df.head()"
   ]
  },
  {
   "cell_type": "code",
   "execution_count": 30,
   "metadata": {},
   "outputs": [
    {
     "data": {
      "text/plain": [
       "(12587, 7)"
      ]
     },
     "execution_count": 30,
     "metadata": {},
     "output_type": "execute_result"
    }
   ],
   "source": [
    "# dataset dimensions  \n",
    "df.shape"
   ]
  },
  {
   "cell_type": "code",
   "execution_count": 4,
   "metadata": {},
   "outputs": [
    {
     "data": {
      "text/plain": [
       "Index(['Poem', 'Number of Versus', 'Poet', 'Century', 'Label', 'Type',\n",
       "       'Metre'],\n",
       "      dtype='object')"
      ]
     },
     "execution_count": 4,
     "metadata": {},
     "output_type": "execute_result"
    }
   ],
   "source": [
    "# column names\n",
    "df.columns"
   ]
  },
  {
   "cell_type": "code",
   "execution_count": 31,
   "metadata": {},
   "outputs": [
    {
     "data": {
      "text/plain": [
       "Poem                12552\n",
       "Number of Versus      155\n",
       "Poet                  435\n",
       "Century                23\n",
       "Label                   9\n",
       "Type                    2\n",
       "Metre                  66\n",
       "dtype: int64"
      ]
     },
     "execution_count": 31,
     "metadata": {},
     "output_type": "execute_result"
    }
   ],
   "source": [
    "df.nunique()"
   ]
  },
  {
   "cell_type": "markdown",
   "metadata": {},
   "source": [
    "Data Dictionary:\n",
    "- Poem: a piece of writing in which the expression of feelings and ideas is given intensity by particular attention to diction (sometimes involving rhyme), rhythm, and imagery.\n",
    "- Number of Versus: how many line in the poem.\n",
    "- Poet: name of the poet.\n",
    "- Century: which century the poem was written.\n",
    "- Type: the way the powm was written.\n",
    "- Metre: the basic rhythmic structure of a poem."
   ]
  },
  {
   "cell_type": "code",
   "execution_count": 32,
   "metadata": {},
   "outputs": [
    {
     "name": "stdout",
     "output_type": "stream",
     "text": [
      "<class 'pandas.core.frame.DataFrame'>\n",
      "RangeIndex: 12587 entries, 0 to 12586\n",
      "Data columns (total 7 columns):\n",
      " #   Column            Non-Null Count  Dtype  \n",
      "---  ------            --------------  -----  \n",
      " 0   Poem              12585 non-null  object \n",
      " 1   Number of Versus  12356 non-null  float64\n",
      " 2   Poet              12587 non-null  object \n",
      " 3   Century           12585 non-null  object \n",
      " 4   Label             12587 non-null  object \n",
      " 5   Type              12587 non-null  object \n",
      " 6   Metre             12587 non-null  object \n",
      "dtypes: float64(1), object(6)\n",
      "memory usage: 688.5+ KB\n"
     ]
    }
   ],
   "source": [
    "# Summary about the dataframe \n",
    "df.info()"
   ]
  },
  {
   "cell_type": "code",
   "execution_count": 33,
   "metadata": {},
   "outputs": [
    {
     "data": {
      "text/plain": [
       "Poem                  2\n",
       "Number of Versus    231\n",
       "Poet                  0\n",
       "Century               2\n",
       "Label                 0\n",
       "Type                  0\n",
       "Metre                 0\n",
       "dtype: int64"
      ]
     },
     "execution_count": 33,
     "metadata": {},
     "output_type": "execute_result"
    }
   ],
   "source": [
    "# check for null values\n",
    "df.isnull().sum()"
   ]
  },
  {
   "cell_type": "code",
   "execution_count": 34,
   "metadata": {},
   "outputs": [
    {
     "data": {
      "text/plain": [
       "5"
      ]
     },
     "execution_count": 34,
     "metadata": {},
     "output_type": "execute_result"
    }
   ],
   "source": [
    "# chech for duplicates\n",
    "df.duplicated().sum()"
   ]
  },
  {
   "cell_type": "markdown",
   "metadata": {},
   "source": [
    "First Impression:\n",
    "- The dataset contains 7 columns and 12587 raws.\n",
    "- The dataset contains 6 object variables, and 1 float64 variable need to be change to object. \n",
    "- The dataset contain 235 null values.\n",
    "- The dataset have 5 duplicated values."
   ]
  },
  {
   "cell_type": "markdown",
   "metadata": {},
   "source": [
    "## handle missing values and duplicates:"
   ]
  },
  {
   "cell_type": "code",
   "execution_count": 35,
   "metadata": {},
   "outputs": [
    {
     "data": {
      "text/plain": [
       "<AxesSubplot:>"
      ]
     },
     "execution_count": 35,
     "metadata": {},
     "output_type": "execute_result"
    },
    {
     "data": {
      "image/png": "[encoded data removed]",
      "text/plain": [
       "<Figure size 1800x720 with 2 Axes>"
      ]
     },
     "metadata": {
      "needs_background": "light"
     },
     "output_type": "display_data"
    }
   ],
   "source": [
    "#plot missing values\n",
    "msno.matrix(df)"
   ]
  },
  {
   "cell_type": "code",
   "execution_count": 36,
   "metadata": {},
   "outputs": [],
   "source": [
    "#drop missing values\n",
    "df = df.dropna()"
   ]
  },
  {
   "cell_type": "code",
   "execution_count": 37,
   "metadata": {},
   "outputs": [],
   "source": [
    "# drop duplicates \n",
    "df = df.drop_duplicates()"
   ]
  },
  {
   "cell_type": "markdown",
   "metadata": {},
   "source": [
    "## Data Cleaning"
   ]
  },
  {
   "cell_type": "code",
   "execution_count": 38,
   "metadata": {},
   "outputs": [],
   "source": [
    "# Convert Number of Versus type to object and remove the decimal\n",
    "df['Number of Versus'] = df['Number of Versus'].astype(str).replace('\\.0', '', regex=True)\n",
    "\n",
    "# Remove punctuations from the content \n",
    "\n",
    "df['Poem'] = df['Poem'].replace(\"\\xa0\",\" \", regex=True)\n",
    "df['Poem'] = df['Poem'].replace('\\n',\" \", regex=True)\n",
    "df['Poem'] = df['Poem'].replace(\"\\t\",\" \", regex=True)\n",
    "df['Poem'] = df['Poem'].replace(\"ًٌٍَُِّْ\",\" \", regex=True)\n",
    "df['Poem'] = df['Poem'].replace(\"ًٌٍَُِّْ\",\" \", regex=True)\n",
    "\n",
    "# Replac non relative Metre to NaN\n",
    "df.loc[df['Metre'].str.contains('قافية',na=False), 'Metre'] = np.nan\n",
    "\n",
    "# Rename the labels \n",
    "df[\"Label\"] = df[\"Label\"].replace(['قصائد رثاء'],'رثاء')\n",
    "df[\"Label\"] = df[\"Label\"].replace(['قصائد مدح'],'مدح')\n",
    "df[\"Label\"] = df[\"Label\"].replace(['قصائد حزينه'],'حزن')\n",
    "df[\"Label\"] = df[\"Label\"].replace(['قصائد عتاب'],'عتاب')\n",
    "df[\"Label\"] = df[\"Label\"].replace(['قصائد شوق'],'شوق')\n",
    "df[\"Label\"] = df[\"Label\"].replace(['قصائد رومنسيه'],'رومنسيه')\n",
    "df[\"Label\"] = df[\"Label\"].replace(['قصائد هجاء'],'هجاء')\n",
    "df[\"Label\"] = df[\"Label\"].replace(['قصائد فراق'],'فراق')\n",
    "df[\"Label\"] = df[\"Label\"].replace(['قصائد غزل'],'غزل')\n",
    "\n"
   ]
  },
  {
   "cell_type": "code",
   "execution_count": 39,
   "metadata": {},
   "outputs": [
    {
     "data": {
      "text/html": [
       "<div>\n",
       "<style scoped>\n",
       "    .dataframe tbody tr th:only-of-type {\n",
       "        vertical-align: middle;\n",
       "    }\n",
       "\n",
       "    .dataframe tbody tr th {\n",
       "        vertical-align: top;\n",
       "    }\n",
       "\n",
       "    .dataframe thead th {\n",
       "        text-align: right;\n",
       "    }\n",
       "</style>\n",
       "<table border=\"1\" class=\"dataframe\">\n",
       "  <thead>\n",
       "    <tr style=\"text-align: right;\">\n",
       "      <th></th>\n",
       "      <th>Poem</th>\n",
       "      <th>Number of Versus</th>\n",
       "      <th>Poet</th>\n",
       "      <th>Century</th>\n",
       "      <th>Label</th>\n",
       "      <th>Type</th>\n",
       "      <th>Metre</th>\n",
       "    </tr>\n",
       "  </thead>\n",
       "  <tbody>\n",
       "    <tr>\n",
       "      <th>12226</th>\n",
       "      <td>أتلك رياض أم خدود نواعم وفيها أقاح أم ثغور بوا...</td>\n",
       "      <td>82</td>\n",
       "      <td>الأرجاني</td>\n",
       "      <td>العصر الأندلسي</td>\n",
       "      <td>غزل</td>\n",
       "      <td>عموديه</td>\n",
       "      <td>بحر الطويل</td>\n",
       "    </tr>\n",
       "    <tr>\n",
       "      <th>10107</th>\n",
       "      <td>لم يبق بينك من جمالك منسما لمن الذهاب وفي طلاب...</td>\n",
       "      <td>24</td>\n",
       "      <td>سليمان الصولة</td>\n",
       "      <td>سوريا</td>\n",
       "      <td>شوق</td>\n",
       "      <td>عموديه</td>\n",
       "      <td>بحر الكامل</td>\n",
       "    </tr>\n",
       "    <tr>\n",
       "      <th>1753</th>\n",
       "      <td>اسقني واسق يوسفا مزة الطعم قرقفا دع من العيش ك...</td>\n",
       "      <td>7</td>\n",
       "      <td>ابو نواس</td>\n",
       "      <td>العصر العباسي</td>\n",
       "      <td>فراق</td>\n",
       "      <td>عموديه</td>\n",
       "      <td>بحر مجزوء الخفيف</td>\n",
       "    </tr>\n",
       "    <tr>\n",
       "      <th>4984</th>\n",
       "      <td>جاورت ربك يا أبا العباس وتركت شبلك رحمة للناس ...</td>\n",
       "      <td>24</td>\n",
       "      <td>سليمان الصولة</td>\n",
       "      <td>سوريا</td>\n",
       "      <td>رثاء</td>\n",
       "      <td>عموديه</td>\n",
       "      <td>بحر الكامل</td>\n",
       "    </tr>\n",
       "    <tr>\n",
       "      <th>6075</th>\n",
       "      <td>سقى الله تلك الدار هامية القطر مدى الدهر ما نا...</td>\n",
       "      <td>19</td>\n",
       "      <td>العشاري</td>\n",
       "      <td>العصر العثماني</td>\n",
       "      <td>رثاء</td>\n",
       "      <td>عموديه</td>\n",
       "      <td>بحر الطويل</td>\n",
       "    </tr>\n",
       "    <tr>\n",
       "      <th>2247</th>\n",
       "      <td>إذا وهى الحب فالهجران يقتله وإن تمكن فالهجران ...</td>\n",
       "      <td>2</td>\n",
       "      <td>خليل مطران</td>\n",
       "      <td>لبنان</td>\n",
       "      <td>فراق</td>\n",
       "      <td>عموديه</td>\n",
       "      <td>بحر البسيط</td>\n",
       "    </tr>\n",
       "    <tr>\n",
       "      <th>7836</th>\n",
       "      <td>على وجهه بالكاس صرف سلافة سقاني بيمناه فطابت ب...</td>\n",
       "      <td>2</td>\n",
       "      <td>المفتي عبداللطيف فتح الله</td>\n",
       "      <td>لبنان</td>\n",
       "      <td>رومنسيه</td>\n",
       "      <td>عموديه</td>\n",
       "      <td>بحر الطويل</td>\n",
       "    </tr>\n",
       "    <tr>\n",
       "      <th>8799</th>\n",
       "      <td>أرى جسمي تحط به البلايا وما شارفت معترك المناي...</td>\n",
       "      <td>2</td>\n",
       "      <td>المحبي</td>\n",
       "      <td>العصر العثماني</td>\n",
       "      <td>حزن</td>\n",
       "      <td>عموديه</td>\n",
       "      <td>بحر الوافر</td>\n",
       "    </tr>\n",
       "    <tr>\n",
       "      <th>4190</th>\n",
       "      <td>سلام يفوق الروض فيه الأزاهر ويزري بعقد الدر في...</td>\n",
       "      <td>23</td>\n",
       "      <td>المفتي عبداللطيف فتح الله</td>\n",
       "      <td>لبنان</td>\n",
       "      <td>مدح</td>\n",
       "      <td>عموديه</td>\n",
       "      <td>بحر الطويل</td>\n",
       "    </tr>\n",
       "    <tr>\n",
       "      <th>4641</th>\n",
       "      <td>كساك الصوم أعمار الليالي وأعقبك العنيمة في الم...</td>\n",
       "      <td>8</td>\n",
       "      <td>ابن بابك</td>\n",
       "      <td>العصر العباسي</td>\n",
       "      <td>مدح</td>\n",
       "      <td>عموديه</td>\n",
       "      <td>بحر الوافر</td>\n",
       "    </tr>\n",
       "  </tbody>\n",
       "</table>\n",
       "</div>"
      ],
      "text/plain": [
       "                                                    Poem Number of Versus  \\\n",
       "12226  أتلك رياض أم خدود نواعم وفيها أقاح أم ثغور بوا...               82   \n",
       "10107  لم يبق بينك من جمالك منسما لمن الذهاب وفي طلاب...               24   \n",
       "1753   اسقني واسق يوسفا مزة الطعم قرقفا دع من العيش ك...                7   \n",
       "4984   جاورت ربك يا أبا العباس وتركت شبلك رحمة للناس ...               24   \n",
       "6075   سقى الله تلك الدار هامية القطر مدى الدهر ما نا...               19   \n",
       "2247   إذا وهى الحب فالهجران يقتله وإن تمكن فالهجران ...                2   \n",
       "7836   على وجهه بالكاس صرف سلافة سقاني بيمناه فطابت ب...                2   \n",
       "8799   أرى جسمي تحط به البلايا وما شارفت معترك المناي...                2   \n",
       "4190   سلام يفوق الروض فيه الأزاهر ويزري بعقد الدر في...               23   \n",
       "4641   كساك الصوم أعمار الليالي وأعقبك العنيمة في الم...                8   \n",
       "\n",
       "                            Poet         Century    Label    Type  \\\n",
       "12226                   الأرجاني  العصر الأندلسي      غزل  عموديه   \n",
       "10107              سليمان الصولة           سوريا      شوق  عموديه   \n",
       "1753                    ابو نواس   العصر العباسي     فراق  عموديه   \n",
       "4984               سليمان الصولة           سوريا     رثاء  عموديه   \n",
       "6075                     العشاري  العصر العثماني     رثاء  عموديه   \n",
       "2247                  خليل مطران           لبنان     فراق  عموديه   \n",
       "7836   المفتي عبداللطيف فتح الله           لبنان  رومنسيه  عموديه   \n",
       "8799                      المحبي  العصر العثماني      حزن  عموديه   \n",
       "4190   المفتي عبداللطيف فتح الله           لبنان      مدح  عموديه   \n",
       "4641                    ابن بابك   العصر العباسي      مدح  عموديه   \n",
       "\n",
       "                  Metre  \n",
       "12226        بحر الطويل  \n",
       "10107        بحر الكامل  \n",
       "1753   بحر مجزوء الخفيف  \n",
       "4984         بحر الكامل  \n",
       "6075         بحر الطويل  \n",
       "2247         بحر البسيط  \n",
       "7836         بحر الطويل  \n",
       "8799         بحر الوافر  \n",
       "4190         بحر الطويل  \n",
       "4641         بحر الوافر  "
      ]
     },
     "execution_count": 39,
     "metadata": {},
     "output_type": "execute_result"
    }
   ],
   "source": [
    "df.sample(10)"
   ]
  },
  {
   "cell_type": "code",
   "execution_count": 14,
   "metadata": {},
   "outputs": [],
   "source": [
    "#save the clean dataset\n",
    "df.to_excel('Poems_Cleaned.xlsx',index=False)"
   ]
  },
  {
   "cell_type": "markdown",
   "metadata": {},
   "source": [
    "## Data visualization"
   ]
  },
  {
   "cell_type": "code",
   "execution_count": 15,
   "metadata": {},
   "outputs": [
    {
     "data": {
      "text/plain": [
       "Label\n",
       "حزن        1363\n",
       "رثاء       2451\n",
       "رومنسيه    1111\n",
       "شوق        1295\n",
       "عتاب       1359\n",
       "غزل        1358\n",
       "فراق        910\n",
       "مدح        1454\n",
       "هجاء       1047\n",
       "dtype: int64"
      ]
     },
     "execution_count": 15,
     "metadata": {},
     "output_type": "execute_result"
    }
   ],
   "source": [
    "poemsperlabel = df.groupby('Label').size()\n",
    "poemsperlabel"
   ]
  },
  {
   "cell_type": "code",
   "execution_count": 16,
   "metadata": {},
   "outputs": [
    {
     "data": {
      "image/png": "[encoded data removed]",
      "text/plain": [
       "<Figure size 576x576 with 1 Axes>"
      ]
     },
     "metadata": {
      "needs_background": "light"
     },
     "output_type": "display_data"
    }
   ],
   "source": [
    "# Number of poems per label\n",
    "ax = df['Label'].value_counts().plot(kind='bar',figsize=(8,8),title=\"Poems per label\")\n",
    "ax.set_xlabel('Label')\n",
    "ax.set_ylabel('Count');"
   ]
  },
  {
   "cell_type": "code",
   "execution_count": 17,
   "metadata": {},
   "outputs": [
    {
     "data": {
      "text/plain": [
       "Metre\n",
       "بحر أحذ الكامل         113\n",
       "بحر البسيط            1691\n",
       "بحر الخفيف             963\n",
       "بحر الدوبيت            404\n",
       "بحر الرجز              286\n",
       "بحر الرمل              252\n",
       "بحر السريع             554\n",
       "بحر السلسلة              4\n",
       "بحر الطويل            2901\n",
       "بحر القوما               1\n",
       "بحر الكامل            1769\n",
       "بحر المتدارك            17\n",
       "بحر المتقارب           480\n",
       "بحر المجتث             148\n",
       "بحر المديد              68\n",
       "بحر المضارع              1\n",
       "بحر المقتضب              4\n",
       "بحر المنسرح            276\n",
       "بحر المواليا            15\n",
       "بحر الهزج               55\n",
       "بحر الوافر             977\n",
       "بحر مجزوء البسيط        13\n",
       "بحر مجزوء الخفيف        58\n",
       "بحر مجزوء الدوبيت        1\n",
       "بحر مجزوء الرجز        114\n",
       "بحر مجزوء الرمل        202\n",
       "بحر مجزوء السريع         1\n",
       "بحر مجزوء الطويل         1\n",
       "بحر مجزوء الكامل       339\n",
       "بحر مجزوء المتقارب       9\n",
       "بحر مجزوء المجتث         2\n",
       "بحر مجزوء المديد         1\n",
       "بحر مجزوء الوافر        59\n",
       "بحر مجزوء موشح           3\n",
       "بحر مخلع البسيط        165\n",
       "بحر مخلع الكامل          1\n",
       "بحر مشطور الرجز          5\n",
       "بحر منهوك المنسرح        2\n",
       "بحر موشح                95\n",
       "dtype: int64"
      ]
     },
     "execution_count": 17,
     "metadata": {},
     "output_type": "execute_result"
    }
   ],
   "source": [
    "poemsperpoet = df.groupby('Metre').size()\n",
    "poemsperpoet"
   ]
  },
  {
   "cell_type": "code",
   "execution_count": 18,
   "metadata": {},
   "outputs": [
    {
     "data": {
      "image/png": "[encoded data removed]",
      "text/plain": [
       "<Figure size 720x720 with 1 Axes>"
      ]
     },
     "metadata": {
      "needs_background": "light"
     },
     "output_type": "display_data"
    }
   ],
   "source": [
    "# Number of poems per label\n",
    "poemsperpoet.sort_values().plot(kind='barh',figsize=(10,10))\n",
    "plt.title(('Number of poems per label'))\n",
    "plt.xlabel(\"Labels\");"
   ]
  },
  {
   "cell_type": "code",
   "execution_count": 19,
   "metadata": {},
   "outputs": [
    {
     "data": {
      "text/plain": [
       "Century\n",
       "الأردن              23\n",
       "الجزائر             11\n",
       "السعودية             6\n",
       "العراق             453\n",
       "العصر الأندلسي     826\n",
       "العصر الاسلامي       9\n",
       "العصر الاموي       799\n",
       "العصر الايوبي      648\n",
       "العصر الجاهلي       79\n",
       "العصر العباسي     3417\n",
       "العصر العثماني     934\n",
       "العصر المملوكي    1812\n",
       "المخضرمون          273\n",
       "المغرب              49\n",
       "اليمن               55\n",
       "تونس               116\n",
       "سوريا              292\n",
       "عمان               156\n",
       "فلسطين              20\n",
       "لبنان             1010\n",
       "ليبيا               30\n",
       "مصر               1325\n",
       "موريتانيا            5\n",
       "dtype: int64"
      ]
     },
     "execution_count": 19,
     "metadata": {},
     "output_type": "execute_result"
    }
   ],
   "source": [
    "poemsperCentury = df.groupby('Century').size()\n",
    "poemsperCentury"
   ]
  },
  {
   "cell_type": "code",
   "execution_count": 20,
   "metadata": {},
   "outputs": [
    {
     "data": {
      "image/png": "[encoded data removed]",
      "text/plain": [
       "<Figure size 720x720 with 1 Axes>"
      ]
     },
     "metadata": {
      "needs_background": "light"
     },
     "output_type": "display_data"
    }
   ],
   "source": [
    "# Number of poems per label\n",
    "poemsperCentury.sort_values().plot(kind='bar',figsize=(10,10))\n",
    "plt.title(('Number of poems per label'))\n",
    "plt.xlabel(\"Labels\");"
   ]
  },
  {
   "cell_type": "markdown",
   "metadata": {},
   "source": [
    "## NLTK and Text Processing"
   ]
  },
  {
   "cell_type": "code",
   "execution_count": 21,
   "metadata": {},
   "outputs": [
    {
     "name": "stderr",
     "output_type": "stream",
     "text": [
      "[nltk_data] Downloading package stopwords to\n",
      "[nltk_data]     /Users/muneraalrajhi/nltk_data...\n",
      "[nltk_data]   Package stopwords is already up-to-date!\n"
     ]
    },
    {
     "data": {
      "text/html": [
       "<div>\n",
       "<style scoped>\n",
       "    .dataframe tbody tr th:only-of-type {\n",
       "        vertical-align: middle;\n",
       "    }\n",
       "\n",
       "    .dataframe tbody tr th {\n",
       "        vertical-align: top;\n",
       "    }\n",
       "\n",
       "    .dataframe thead th {\n",
       "        text-align: right;\n",
       "    }\n",
       "</style>\n",
       "<table border=\"1\" class=\"dataframe\">\n",
       "  <thead>\n",
       "    <tr style=\"text-align: right;\">\n",
       "      <th></th>\n",
       "      <th>Poem</th>\n",
       "      <th>Number of Versus</th>\n",
       "      <th>Poet</th>\n",
       "      <th>Century</th>\n",
       "      <th>Label</th>\n",
       "      <th>Type</th>\n",
       "      <th>Metre</th>\n",
       "      <th>filtered_poems</th>\n",
       "    </tr>\n",
       "  </thead>\n",
       "  <tbody>\n",
       "    <tr>\n",
       "      <th>1924</th>\n",
       "      <td>يا غافلا عما ألاقي من حر وجدي واشتياقي قد أحرق...</td>\n",
       "      <td>3</td>\n",
       "      <td>أحمد الكيواني</td>\n",
       "      <td>العصر العثماني</td>\n",
       "      <td>فراق</td>\n",
       "      <td>عموديه</td>\n",
       "      <td>بحر مجزوء الكامل</td>\n",
       "      <td>[غفل, لقي, حر, واشتياقي, حرق, قلب, زفر, قرح, د...</td>\n",
       "    </tr>\n",
       "    <tr>\n",
       "      <th>2628</th>\n",
       "      <td>تكلفني إذلال نفسي لعزها وهان عليها إن أهان لتك...</td>\n",
       "      <td>2</td>\n",
       "      <td>عبدالصمد العبدي</td>\n",
       "      <td>العصر العباسي</td>\n",
       "      <td>هجاء</td>\n",
       "      <td>عموديه</td>\n",
       "      <td>بحر الطويل</td>\n",
       "      <td>[كلف, ذلل, لعز, وهن, اهن, تكر, تقل, سل, عرف, ي...</td>\n",
       "    </tr>\n",
       "    <tr>\n",
       "      <th>6851</th>\n",
       "      <td>تعز أبا بكر المرتجى عن الأهل والعصبة الفارطه و...</td>\n",
       "      <td>5</td>\n",
       "      <td>كشاجم</td>\n",
       "      <td>العصر العباسي</td>\n",
       "      <td>رثاء</td>\n",
       "      <td>عموديه</td>\n",
       "      <td>بحر المتقارب</td>\n",
       "      <td>[تعز, ابا, بكر, رجى, اهل, عصب, فرط, ظلم, موت, ...</td>\n",
       "    </tr>\n",
       "    <tr>\n",
       "      <th>12189</th>\n",
       "      <td>أصدود غلا بها أم دلال يوم زمت برامة الأجمال أع...</td>\n",
       "      <td>37</td>\n",
       "      <td>البحتري</td>\n",
       "      <td>العصر العباسي</td>\n",
       "      <td>غزل</td>\n",
       "      <td>عموديه</td>\n",
       "      <td>بحر الخفيف</td>\n",
       "      <td>[صدد, غلا, دلل, زمت, برم, جمل, عرض, عطف, قضب, ...</td>\n",
       "    </tr>\n",
       "    <tr>\n",
       "      <th>6860</th>\n",
       "      <td>فداؤك نفسي من الحادثات وريب الردى وحلول الحذر ...</td>\n",
       "      <td>15</td>\n",
       "      <td>أبو الفرج الأصبهاني</td>\n",
       "      <td>العصر العباسي</td>\n",
       "      <td>رثاء</td>\n",
       "      <td>عموديه</td>\n",
       "      <td>بحر المتقارب</td>\n",
       "      <td>[فدؤ, حدث, ورب, ردى, حلل, حذر, فعل, كبر, وعد, ...</td>\n",
       "    </tr>\n",
       "    <tr>\n",
       "      <th>10448</th>\n",
       "      <td>وأجوف معشوق الأنين مخفف تحرك من إطرابنا حركاته...</td>\n",
       "      <td>9</td>\n",
       "      <td>كشاجم</td>\n",
       "      <td>العصر العباسي</td>\n",
       "      <td>شوق</td>\n",
       "      <td>عموديه</td>\n",
       "      <td>بحر الطويل</td>\n",
       "      <td>[أجف, عشق, انن, خفف, تحر, طرب, حرك, الس, ركب, ...</td>\n",
       "    </tr>\n",
       "    <tr>\n",
       "      <th>9775</th>\n",
       "      <td>أضاء بذات الأضا بارق من النور في جوها خافق وصل...</td>\n",
       "      <td>16</td>\n",
       "      <td>محيي الدين بن عربي</td>\n",
       "      <td>العصر الايوبي</td>\n",
       "      <td>حزن</td>\n",
       "      <td>عموديه</td>\n",
       "      <td>بحر المتقارب</td>\n",
       "      <td>[اضء, بذت, اضا, برق, نور, جوه, خفق, صلصل, رعد,...</td>\n",
       "    </tr>\n",
       "    <tr>\n",
       "      <th>6598</th>\n",
       "      <td>إلى الملك الوهاب ما في يمينه ولكنه بالعرض جد ب...</td>\n",
       "      <td>31</td>\n",
       "      <td>أبو بحر الخطي</td>\n",
       "      <td>العصر العثماني</td>\n",
       "      <td>رثاء</td>\n",
       "      <td>عموديه</td>\n",
       "      <td>بحر الطويل</td>\n",
       "      <td>[ملك, يمن, ولك, عرض, جد, بخل, يمت, استنسبته, ت...</td>\n",
       "    </tr>\n",
       "    <tr>\n",
       "      <th>2551</th>\n",
       "      <td>عطف القضيب على الكثيب الأعفر وجلا الظلام على ا...</td>\n",
       "      <td>10</td>\n",
       "      <td>ابن هانئ الأصغر</td>\n",
       "      <td>العصر الأندلسي</td>\n",
       "      <td>هجاء</td>\n",
       "      <td>عموديه</td>\n",
       "      <td>بحر الكامل</td>\n",
       "      <td>[عطف, قضب, كثب, عفر, وجل, ظلم, صبح, سفر, تمس, ...</td>\n",
       "    </tr>\n",
       "    <tr>\n",
       "      <th>1459</th>\n",
       "      <td>يا مصون الدموع في الآفاق واهبا جمع شمله للفراق...</td>\n",
       "      <td>41</td>\n",
       "      <td>ابن نباتة السعدي</td>\n",
       "      <td>العصر العباسي</td>\n",
       "      <td>فراق</td>\n",
       "      <td>عموديه</td>\n",
       "      <td>بحر الخفيف</td>\n",
       "      <td>[صون, دمع, افق, جمع, شمل, فرق, تسل, خبر, سوي, ...</td>\n",
       "    </tr>\n",
       "  </tbody>\n",
       "</table>\n",
       "</div>"
      ],
      "text/plain": [
       "                                                    Poem Number of Versus  \\\n",
       "1924   يا غافلا عما ألاقي من حر وجدي واشتياقي قد أحرق...                3   \n",
       "2628   تكلفني إذلال نفسي لعزها وهان عليها إن أهان لتك...                2   \n",
       "6851   تعز أبا بكر المرتجى عن الأهل والعصبة الفارطه و...                5   \n",
       "12189  أصدود غلا بها أم دلال يوم زمت برامة الأجمال أع...               37   \n",
       "6860   فداؤك نفسي من الحادثات وريب الردى وحلول الحذر ...               15   \n",
       "10448  وأجوف معشوق الأنين مخفف تحرك من إطرابنا حركاته...                9   \n",
       "9775   أضاء بذات الأضا بارق من النور في جوها خافق وصل...               16   \n",
       "6598   إلى الملك الوهاب ما في يمينه ولكنه بالعرض جد ب...               31   \n",
       "2551   عطف القضيب على الكثيب الأعفر وجلا الظلام على ا...               10   \n",
       "1459   يا مصون الدموع في الآفاق واهبا جمع شمله للفراق...               41   \n",
       "\n",
       "                      Poet         Century Label    Type             Metre  \\\n",
       "1924         أحمد الكيواني  العصر العثماني  فراق  عموديه  بحر مجزوء الكامل   \n",
       "2628       عبدالصمد العبدي   العصر العباسي  هجاء  عموديه        بحر الطويل   \n",
       "6851                 كشاجم   العصر العباسي  رثاء  عموديه      بحر المتقارب   \n",
       "12189              البحتري   العصر العباسي   غزل  عموديه        بحر الخفيف   \n",
       "6860   أبو الفرج الأصبهاني   العصر العباسي  رثاء  عموديه      بحر المتقارب   \n",
       "10448                كشاجم   العصر العباسي   شوق  عموديه        بحر الطويل   \n",
       "9775    محيي الدين بن عربي   العصر الايوبي   حزن  عموديه      بحر المتقارب   \n",
       "6598         أبو بحر الخطي  العصر العثماني  رثاء  عموديه        بحر الطويل   \n",
       "2551       ابن هانئ الأصغر  العصر الأندلسي  هجاء  عموديه        بحر الكامل   \n",
       "1459      ابن نباتة السعدي   العصر العباسي  فراق  عموديه        بحر الخفيف   \n",
       "\n",
       "                                          filtered_poems  \n",
       "1924   [غفل, لقي, حر, واشتياقي, حرق, قلب, زفر, قرح, د...  \n",
       "2628   [كلف, ذلل, لعز, وهن, اهن, تكر, تقل, سل, عرف, ي...  \n",
       "6851   [تعز, ابا, بكر, رجى, اهل, عصب, فرط, ظلم, موت, ...  \n",
       "12189  [صدد, غلا, دلل, زمت, برم, جمل, عرض, عطف, قضب, ...  \n",
       "6860   [فدؤ, حدث, ورب, ردى, حلل, حذر, فعل, كبر, وعد, ...  \n",
       "10448  [أجف, عشق, انن, خفف, تحر, طرب, حرك, الس, ركب, ...  \n",
       "9775   [اضء, بذت, اضا, برق, نور, جوه, خفق, صلصل, رعد,...  \n",
       "6598   [ملك, يمن, ولك, عرض, جد, بخل, يمت, استنسبته, ت...  \n",
       "2551   [عطف, قضب, كثب, عفر, وجل, ظلم, صبح, سفر, تمس, ...  \n",
       "1459   [صون, دمع, افق, جمع, شمل, فرق, تسل, خبر, سوي, ...  "
      ]
     },
     "execution_count": 21,
     "metadata": {},
     "output_type": "execute_result"
    }
   ],
   "source": [
    "# Stop Words\n",
    "nltk.download(\"stopwords\")\n",
    "arabic_stopwords = set(nltk.corpus.stopwords.words(\"arabic\"))\n",
    "\n",
    "# Expande Arabic StopWords\n",
    "data = []\n",
    "with open('/Users/muneraalrajhi/Desktop/Capstone Project/CapstoneProject/data/arabic_stop_words.txt','r') as myfile:\n",
    "    for line in myfile:\n",
    "        data.extend(map(str, line.rstrip('\\n').split(',')))\n",
    "arabic_stopwords.update(data)\n",
    "\n",
    "# Tokenaization\n",
    "df['filtered_poems'] = df['Poem'].map(word_tokenize)\n",
    "\n",
    "# Arabic Stemmer\n",
    "st = ISRIStemmer()\n",
    "df['filtered_poems'] = df['filtered_poems'].apply(lambda x: [st.stem(y) for y in x])\n",
    "\n",
    "# Remove Stop Words\n",
    "df['filtered_poems']= df['filtered_poems'].apply(lambda x: [item for item in x if item not in arabic_stopwords])\n",
    "\n",
    "\n",
    "df.sample(10)"
   ]
  },
  {
   "cell_type": "code",
   "execution_count": 22,
   "metadata": {},
   "outputs": [],
   "source": [
    "# calculate the most 30 common words\n",
    "fdist1 = FreqDist(sum(df['filtered_poems'], []))"
   ]
  },
  {
   "cell_type": "code",
   "execution_count": 23,
   "metadata": {},
   "outputs": [
    {
     "data": {
      "text/plain": [
       "[('قلب', 6284),\n",
       " ('حسن', 3827),\n",
       " ('دهر', 3724),\n",
       " ('كرم', 3656),\n",
       " ('ليل', 3504),\n",
       " ('دمع', 3378),\n",
       " ('فضل', 3087),\n",
       " ('سلم', 3081),\n",
       " ('ذكر', 2900),\n",
       " ('امر', 2810),\n",
       " ('فرق', 2686),\n",
       " ('بدر', 2657),\n",
       " ('جمع', 2624),\n",
       " ('حمد', 2588),\n",
       " ('هوى', 2565),\n",
       " ('سعد', 2560),\n",
       " ('نظر', 2540),\n",
       " ('زمن', 2472),\n",
       " ('خلق', 2430),\n",
       " ('عرف', 2370),\n",
       " ('كنت', 2314),\n",
       " ('وصل', 2280),\n",
       " ('قوم', 2257),\n",
       " ('شمس', 2255),\n",
       " ('ناس', 2233),\n",
       " ('لقد', 2197),\n",
       " ('خير', 2147),\n",
       " ('ملك', 2127),\n",
       " ('ارض', 2122),\n",
       " ('صبح', 2114)]"
      ]
     },
     "execution_count": 23,
     "metadata": {},
     "output_type": "execute_result"
    }
   ],
   "source": [
    "fdist1.most_common(30)"
   ]
  },
  {
   "cell_type": "code",
   "execution_count": 24,
   "metadata": {},
   "outputs": [
    {
     "data": {
      "image/png": "[encoded data removed]",
      "text/plain": [
       "<Figure size 720x720 with 1 Axes>"
      ]
     },
     "metadata": {
      "needs_background": "light"
     },
     "output_type": "display_data"
    }
   ],
   "source": [
    "#the 50 most common word viz\n",
    "all_fdist = fdist1.most_common(30)\n",
    "\n",
    "all_fdist = pd.Series(dict(all_fdist))\n",
    "fig, ax = plt.subplots(figsize=(10,10))\n",
    "\n",
    "all_plot = sns.barplot(x=all_fdist.index, y=all_fdist.values, ax=ax)\n",
    "plt.xticks(rotation=30);"
   ]
  },
  {
   "cell_type": "code",
   "execution_count": 25,
   "metadata": {},
   "outputs": [],
   "source": [
    "commonwords = str(fdist1.most_common(30))"
   ]
  },
  {
   "cell_type": "code",
   "execution_count": 26,
   "metadata": {},
   "outputs": [
    {
     "data": {
      "image/png": "[encoded data removed]",
      "text/plain": [
       "<Figure size 432x288 with 1 Axes>"
      ]
     },
     "metadata": {
      "needs_background": "light"
     },
     "output_type": "display_data"
    }
   ],
   "source": [
    "# Word Cloud viz\n",
    "awc = ArabicWordCloud( background_color = 'white').generate(commonwords)\n",
    "wc = awc.from_text(commonwords)\n",
    "plt.imshow(wc)\n",
    "plt.axis(\"off\")\n",
    "plt.title('Top 30 Common Words', fontsize=15);"
   ]
  },
  {
   "cell_type": "markdown",
   "metadata": {},
   "source": [
    "#### Reference:\n",
    "    NLTK book Chapter1 Language Processing and Python:\n",
    "            https://www.nltk.org/book/ch01.html"
   ]
  }
 ],
 "metadata": {
  "interpreter": {
   "hash": "b636e954a0b6bc7f3d44ba0ea3984fa6b30a3ebf3ff15973f9d3fe28f5ed9b30"
  },
  "kernelspec": {
   "display_name": "Python 3 (ipykernel)",
   "language": "python",
   "name": "python3"
  },
  "language_info": {
   "codemirror_mode": {
    "name": "ipython",
    "version": 3
   },
   "file_extension": ".py",
   "mimetype": "text/x-python",
   "name": "python",
   "nbconvert_exporter": "python",
   "pygments_lexer": "ipython3",
   "version": "3.8.12"
  }
 },
 "nbformat": 4,
 "nbformat_minor": 2
}
