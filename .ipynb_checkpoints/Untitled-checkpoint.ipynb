{
 "cells": [
  {
   "cell_type": "code",
   "execution_count": 1,
   "id": "779d0104",
   "metadata": {},
   "outputs": [],
   "source": [
    "import pandas as pd\n",
    "from sklearn.preprocessing import LabelEncoder\n",
    "from sklearn.feature_extraction.text import CountVectorizer, TfidfVectorizer\n",
    "from sklearn.ensemble import RandomForestClassifier\n",
    "from sklearn.svm import SVC\n",
    "from sklearn.model_selection import train_test_split\n",
    "from sklearn import metrics"
   ]
  },
  {
   "cell_type": "code",
   "execution_count": 3,
   "id": "039d28b3",
   "metadata": {},
   "outputs": [
    {
     "data": {
      "text/html": [
       "<div>\n",
       "<style scoped>\n",
       "    .dataframe tbody tr th:only-of-type {\n",
       "        vertical-align: middle;\n",
       "    }\n",
       "\n",
       "    .dataframe tbody tr th {\n",
       "        vertical-align: top;\n",
       "    }\n",
       "\n",
       "    .dataframe thead th {\n",
       "        text-align: right;\n",
       "    }\n",
       "</style>\n",
       "<table border=\"1\" class=\"dataframe\">\n",
       "  <thead>\n",
       "    <tr style=\"text-align: right;\">\n",
       "      <th></th>\n",
       "      <th>Poem</th>\n",
       "      <th>Label</th>\n",
       "    </tr>\n",
       "  </thead>\n",
       "  <tbody>\n",
       "    <tr>\n",
       "      <th>9840</th>\n",
       "      <td>اليوم قد نالت أعز مرام كانت ترجيه من الأيام عا...</td>\n",
       "      <td>شوق</td>\n",
       "    </tr>\n",
       "    <tr>\n",
       "      <th>5963</th>\n",
       "      <td>باكر يجلو بكرا معيرها من لحاظه السكرا أحور ساج...</td>\n",
       "      <td>رثاء</td>\n",
       "    </tr>\n",
       "    <tr>\n",
       "      <th>10928</th>\n",
       "      <td>حجبت وجهك عن عيني مذ زمن فلو مننت على عيني بال...</td>\n",
       "      <td>شوق</td>\n",
       "    </tr>\n",
       "    <tr>\n",
       "      <th>1807</th>\n",
       "      <td>أعف عنه وقلبي نهب ناظره فما حصلت على وزر ولا و...</td>\n",
       "      <td>فراق</td>\n",
       "    </tr>\n",
       "    <tr>\n",
       "      <th>2120</th>\n",
       "      <td>ودعتني بطرفها ومضت وهي لا تعي يدها فوق خدها وي...</td>\n",
       "      <td>فراق</td>\n",
       "    </tr>\n",
       "    <tr>\n",
       "      <th>5443</th>\n",
       "      <td>تمادى به الهجران واستحسن الهجرا وآلى يمينا لا ...</td>\n",
       "      <td>رثاء</td>\n",
       "    </tr>\n",
       "    <tr>\n",
       "      <th>7041</th>\n",
       "      <td>سيل همومي قد طغى عبابا وجن حتى ملأ الشعابا يا ...</td>\n",
       "      <td>رثاء</td>\n",
       "    </tr>\n",
       "    <tr>\n",
       "      <th>836</th>\n",
       "      <td>وعش سالما ما رنحت بانة صبا وما سبحت في السحب أ...</td>\n",
       "      <td>عتاب</td>\n",
       "    </tr>\n",
       "    <tr>\n",
       "      <th>10032</th>\n",
       "      <td>أكل شاك بداء الحب مضناك ماذا جنته على العشاق ع...</td>\n",
       "      <td>شوق</td>\n",
       "    </tr>\n",
       "    <tr>\n",
       "      <th>1820</th>\n",
       "      <td>أرأيت بي من حادث إشفاقا في الحب إلا أن يكون فر...</td>\n",
       "      <td>فراق</td>\n",
       "    </tr>\n",
       "  </tbody>\n",
       "</table>\n",
       "</div>"
      ],
      "text/plain": [
       "                                                    Poem Label\n",
       "9840   اليوم قد نالت أعز مرام كانت ترجيه من الأيام عا...   شوق\n",
       "5963   باكر يجلو بكرا معيرها من لحاظه السكرا أحور ساج...  رثاء\n",
       "10928  حجبت وجهك عن عيني مذ زمن فلو مننت على عيني بال...   شوق\n",
       "1807   أعف عنه وقلبي نهب ناظره فما حصلت على وزر ولا و...  فراق\n",
       "2120   ودعتني بطرفها ومضت وهي لا تعي يدها فوق خدها وي...  فراق\n",
       "5443   تمادى به الهجران واستحسن الهجرا وآلى يمينا لا ...  رثاء\n",
       "7041   سيل همومي قد طغى عبابا وجن حتى ملأ الشعابا يا ...  رثاء\n",
       "836    وعش سالما ما رنحت بانة صبا وما سبحت في السحب أ...  عتاب\n",
       "10032  أكل شاك بداء الحب مضناك ماذا جنته على العشاق ع...   شوق\n",
       "1820   أرأيت بي من حادث إشفاقا في الحب إلا أن يكون فر...  فراق"
      ]
     },
     "execution_count": 3,
     "metadata": {},
     "output_type": "execute_result"
    }
   ],
   "source": [
    "df = pd.read_excel(\"/Users/muneraalrajhi/Desktop/Capstone Project/CapstoneProject/data/Poems_Cleaned.xlsx\")\n",
    "df = df[[\"Poem\", \"Label\"]]\n",
    "df = df.dropna()\n",
    "df.sample(10)"
   ]
  },
  {
   "cell_type": "code",
   "execution_count": 4,
   "id": "550f0c71",
   "metadata": {},
   "outputs": [],
   "source": [
    "corpus = df[\"Poem\"]\n",
    "y = df[\"Label\"]\n",
    "vectorizer_bow = CountVectorizer()\n",
    "vectorizer_tfidf = TfidfVectorizer()\n",
    "X_bow = vectorizer_bow.fit_transform(corpus)\n",
    "X_tfidf = vectorizer_tfidf.fit_transform(corpus)"
   ]
  },
  {
   "cell_type": "code",
   "execution_count": 5,
   "id": "a7f39939",
   "metadata": {},
   "outputs": [
    {
     "data": {
      "text/plain": [
       "scipy.sparse.csr.csr_matrix"
      ]
     },
     "execution_count": 5,
     "metadata": {},
     "output_type": "execute_result"
    }
   ],
   "source": [
    "type(X_bow)"
   ]
  },
  {
   "cell_type": "code",
   "execution_count": 6,
   "id": "3a8b4f53",
   "metadata": {},
   "outputs": [],
   "source": [
    "X_train, X_test, y_train, y_test = train_test_split(X_bow, y, test_size=0.33, random_state=42)\n",
    "clf_rf_bow = RandomForestClassifier()\n",
    "clf_rf_bow.fit(X_train, y_train)\n",
    "preds_rf_bow = clf_rf_bow.predict(X_test)\n",
    "\n",
    "X_train, X_test, y_train, y_test = train_test_split(X_tfidf, y, test_size=0.33, random_state=42)\n",
    "clf_rf_tfidf = RandomForestClassifier()\n",
    "clf_rf_tfidf.fit(X_train, y_train)\n",
    "preds_rf_tfidf = clf_rf_tfidf.predict(X_test)"
   ]
  },
  {
   "cell_type": "code",
   "execution_count": 7,
   "id": "67343e73",
   "metadata": {},
   "outputs": [
    {
     "name": "stdout",
     "output_type": "stream",
     "text": [
      "Accuracy of BOW is 0.32883435582822085\n"
     ]
    }
   ],
   "source": [
    "print('Accuracy of BOW is {}'.format(metrics.accuracy_score(y_test, preds_rf_bow)))"
   ]
  },
  {
   "cell_type": "code",
   "execution_count": 8,
   "id": "b7bc4ad1",
   "metadata": {},
   "outputs": [
    {
     "name": "stdout",
     "output_type": "stream",
     "text": [
      "Accuracy of TF-IDF is 0.32220858895705523\n"
     ]
    }
   ],
   "source": [
    "print('Accuracy of TF-IDF is {}'.format(metrics.accuracy_score(y_test, preds_rf_tfidf)))"
   ]
  },
  {
   "cell_type": "code",
   "execution_count": 9,
   "id": "83d70ce4",
   "metadata": {},
   "outputs": [
    {
     "name": "stdout",
     "output_type": "stream",
     "text": [
      "Accuracy of SVC is 0.2782822085889571\n"
     ]
    }
   ],
   "source": [
    "clf_svc = SVC()\n",
    "clf_svc.fit(X_train, y_train)\n",
    "preds_svc = clf_svc.predict(X_test)\n",
    "print('Accuracy of SVC is {}'.format(metrics.accuracy_score(y_test, preds_svc)))"
   ]
  },
  {
   "cell_type": "code",
   "execution_count": null,
   "id": "5c839420",
   "metadata": {},
   "outputs": [],
   "source": []
  }
 ],
 "metadata": {
  "kernelspec": {
   "display_name": "Python 3 (ipykernel)",
   "language": "python",
   "name": "python3"
  },
  "language_info": {
   "codemirror_mode": {
    "name": "ipython",
    "version": 3
   },
   "file_extension": ".py",
   "mimetype": "text/x-python",
   "name": "python",
   "nbconvert_exporter": "python",
   "pygments_lexer": "ipython3",
   "version": "3.8.12"
  }
 },
 "nbformat": 4,
 "nbformat_minor": 5
}
