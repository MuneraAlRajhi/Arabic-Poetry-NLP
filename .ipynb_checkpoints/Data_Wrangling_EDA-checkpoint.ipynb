{
 "cells": [
  {
   "cell_type": "markdown",
   "metadata": {},
   "source": [
    "# Data Wrangling and EDA"
   ]
  },
  {
   "cell_type": "code",
   "execution_count": 40,
   "metadata": {
    "scrolled": true
   },
   "outputs": [],
   "source": [
    "# libraries\n",
    "import pandas as pd\n",
    "import numpy as np\n",
    "import missingno as msno\n",
    "import matplotlib.pyplot as plt\n",
    "import seaborn as sns\n",
    "%matplotlib inline\n",
    "\n",
    "import nltk\n",
    "from nltk.corpus import stopwords\n",
    "from nltk.tokenize import word_tokenize\n",
    "from nltk.tokenize import sent_tokenize\n",
    "from nltk.stem.isri import ISRIStemmer\n",
    "from nltk.tokenize.treebank import TreebankWordDetokenizer\n",
    "from nltk.probability import FreqDist\n",
    "from ar_wordcloud import ArabicWordCloud"
   ]
  },
  {
   "cell_type": "markdown",
   "metadata": {},
   "source": [
    "## Data Wrangling"
   ]
  },
  {
   "cell_type": "code",
   "execution_count": 41,
   "metadata": {},
   "outputs": [
    {
     "data": {
      "text/html": [
       "<div>\n",
       "<style scoped>\n",
       "    .dataframe tbody tr th:only-of-type {\n",
       "        vertical-align: middle;\n",
       "    }\n",
       "\n",
       "    .dataframe tbody tr th {\n",
       "        vertical-align: top;\n",
       "    }\n",
       "\n",
       "    .dataframe thead th {\n",
       "        text-align: right;\n",
       "    }\n",
       "</style>\n",
       "<table border=\"1\" class=\"dataframe\">\n",
       "  <thead>\n",
       "    <tr style=\"text-align: right;\">\n",
       "      <th></th>\n",
       "      <th>Poem</th>\n",
       "      <th>Number of Versus</th>\n",
       "      <th>Poet</th>\n",
       "      <th>Century</th>\n",
       "      <th>Label</th>\n",
       "      <th>Type</th>\n",
       "      <th>Metre</th>\n",
       "    </tr>\n",
       "  </thead>\n",
       "  <tbody>\n",
       "    <tr>\n",
       "      <th>0</th>\n",
       "      <td>أصابت سهام الحتف يا حسرة الدهرصريح قريش والخلا...</td>\n",
       "      <td>46.0</td>\n",
       "      <td>أبو المحاسن الكربلائي</td>\n",
       "      <td>العراق</td>\n",
       "      <td>قصائد عتاب</td>\n",
       "      <td>عموديه</td>\n",
       "      <td>بحر الطويل</td>\n",
       "    </tr>\n",
       "    <tr>\n",
       "      <th>1</th>\n",
       "      <td>جئت يا دهر بالرزية بكراغادرت مهجة الهدى وهي حر...</td>\n",
       "      <td>37.0</td>\n",
       "      <td>أبو المحاسن الكربلائي</td>\n",
       "      <td>العراق</td>\n",
       "      <td>قصائد عتاب</td>\n",
       "      <td>عموديه</td>\n",
       "      <td>بحر الخفيف</td>\n",
       "    </tr>\n",
       "    <tr>\n",
       "      <th>2</th>\n",
       "      <td>وشادن أورثني حبهكالائتلافيين حزنا طويلعز علي ا...</td>\n",
       "      <td>14.0</td>\n",
       "      <td>أبو المحاسن الكربلائي</td>\n",
       "      <td>العراق</td>\n",
       "      <td>قصائد عتاب</td>\n",
       "      <td>عموديه</td>\n",
       "      <td>بحر السريع</td>\n",
       "    </tr>\n",
       "    <tr>\n",
       "      <th>3</th>\n",
       "      <td>قد كانت الآمال معقودةفيك وللأمال تضليلواليوم ل...</td>\n",
       "      <td>11.0</td>\n",
       "      <td>أبو المحاسن الكربلائي</td>\n",
       "      <td>العراق</td>\n",
       "      <td>قصائد عتاب</td>\n",
       "      <td>عموديه</td>\n",
       "      <td>بحر السريع</td>\n",
       "    </tr>\n",
       "    <tr>\n",
       "      <th>4</th>\n",
       "      <td>سواي على الضيم يبقى رهيناوغيري يرى ضارعا مستكي...</td>\n",
       "      <td>87.0</td>\n",
       "      <td>أبو المحاسن الكربلائي</td>\n",
       "      <td>العراق</td>\n",
       "      <td>قصائد عتاب</td>\n",
       "      <td>عموديه</td>\n",
       "      <td>بحر المتقارب</td>\n",
       "    </tr>\n",
       "  </tbody>\n",
       "</table>\n",
       "</div>"
      ],
      "text/plain": [
       "                                                Poem  Number of Versus  \\\n",
       "0  أصابت سهام الحتف يا حسرة الدهرصريح قريش والخلا...              46.0   \n",
       "1  جئت يا دهر بالرزية بكراغادرت مهجة الهدى وهي حر...              37.0   \n",
       "2  وشادن أورثني حبهكالائتلافيين حزنا طويلعز علي ا...              14.0   \n",
       "3  قد كانت الآمال معقودةفيك وللأمال تضليلواليوم ل...              11.0   \n",
       "4  سواي على الضيم يبقى رهيناوغيري يرى ضارعا مستكي...              87.0   \n",
       "\n",
       "                    Poet Century       Label    Type         Metre  \n",
       "0  أبو المحاسن الكربلائي  العراق  قصائد عتاب  عموديه    بحر الطويل  \n",
       "1  أبو المحاسن الكربلائي  العراق  قصائد عتاب  عموديه    بحر الخفيف  \n",
       "2  أبو المحاسن الكربلائي  العراق  قصائد عتاب  عموديه    بحر السريع  \n",
       "3  أبو المحاسن الكربلائي  العراق  قصائد عتاب  عموديه    بحر السريع  \n",
       "4  أبو المحاسن الكربلائي  العراق  قصائد عتاب  عموديه  بحر المتقارب  "
      ]
     },
     "execution_count": 41,
     "metadata": {},
     "output_type": "execute_result"
    }
   ],
   "source": [
    "# read dataset\n",
    "df = pd.read_excel(\"/Users/muneraalrajhi/Desktop/Capstone Project/CapstoneProject/data/Poems.xlsx\")\n",
    "df.head()"
   ]
  },
  {
   "cell_type": "code",
   "execution_count": 42,
   "metadata": {},
   "outputs": [
    {
     "data": {
      "text/plain": [
       "(12587, 7)"
      ]
     },
     "execution_count": 42,
     "metadata": {},
     "output_type": "execute_result"
    }
   ],
   "source": [
    "# dataset dimensions  \n",
    "df.shape"
   ]
  },
  {
   "cell_type": "code",
   "execution_count": 43,
   "metadata": {},
   "outputs": [
    {
     "data": {
      "text/plain": [
       "Index(['Poem', 'Number of Versus', 'Poet', 'Century', 'Label', 'Type',\n",
       "       'Metre'],\n",
       "      dtype='object')"
      ]
     },
     "execution_count": 43,
     "metadata": {},
     "output_type": "execute_result"
    }
   ],
   "source": [
    "# column names\n",
    "df.columns"
   ]
  },
  {
   "cell_type": "code",
   "execution_count": 44,
   "metadata": {},
   "outputs": [
    {
     "data": {
      "text/plain": [
       "Poem                12552\n",
       "Number of Versus      155\n",
       "Poet                  435\n",
       "Century                23\n",
       "Label                   9\n",
       "Type                    2\n",
       "Metre                  66\n",
       "dtype: int64"
      ]
     },
     "execution_count": 44,
     "metadata": {},
     "output_type": "execute_result"
    }
   ],
   "source": [
    "df.nunique()"
   ]
  },
  {
   "cell_type": "markdown",
   "metadata": {},
   "source": [
    "Data Dictionary:\n",
    "- Poem: a piece of writing in which the expression of feelings and ideas is given intensity by particular attention to diction (sometimes involving rhyme), rhythm, and imagery.\n",
    "- Number of Versus: how many line in the poem.\n",
    "- Poet: name of the poet.\n",
    "- Century: which century the poem was written.\n",
    "- Type: the way the powm was written.\n",
    "- Metre: the basic rhythmic structure of a poem."
   ]
  },
  {
   "cell_type": "code",
   "execution_count": 45,
   "metadata": {},
   "outputs": [
    {
     "name": "stdout",
     "output_type": "stream",
     "text": [
      "<class 'pandas.core.frame.DataFrame'>\n",
      "RangeIndex: 12587 entries, 0 to 12586\n",
      "Data columns (total 7 columns):\n",
      " #   Column            Non-Null Count  Dtype  \n",
      "---  ------            --------------  -----  \n",
      " 0   Poem              12585 non-null  object \n",
      " 1   Number of Versus  12356 non-null  float64\n",
      " 2   Poet              12587 non-null  object \n",
      " 3   Century           12585 non-null  object \n",
      " 4   Label             12587 non-null  object \n",
      " 5   Type              12587 non-null  object \n",
      " 6   Metre             12587 non-null  object \n",
      "dtypes: float64(1), object(6)\n",
      "memory usage: 688.5+ KB\n"
     ]
    }
   ],
   "source": [
    "# Summary about the dataframe \n",
    "df.info()"
   ]
  },
  {
   "cell_type": "code",
   "execution_count": 46,
   "metadata": {},
   "outputs": [
    {
     "data": {
      "text/plain": [
       "Poem                  2\n",
       "Number of Versus    231\n",
       "Poet                  0\n",
       "Century               2\n",
       "Label                 0\n",
       "Type                  0\n",
       "Metre                 0\n",
       "dtype: int64"
      ]
     },
     "execution_count": 46,
     "metadata": {},
     "output_type": "execute_result"
    }
   ],
   "source": [
    "# check for null values\n",
    "df.isnull().sum()"
   ]
  },
  {
   "cell_type": "code",
   "execution_count": 47,
   "metadata": {},
   "outputs": [
    {
     "data": {
      "text/plain": [
       "5"
      ]
     },
     "execution_count": 47,
     "metadata": {},
     "output_type": "execute_result"
    }
   ],
   "source": [
    "# chech for duplicates\n",
    "df.duplicated().sum()"
   ]
  },
  {
   "cell_type": "markdown",
   "metadata": {},
   "source": [
    "First Impression:\n",
    "- The dataset contains 7 columns and 12587 raws.\n",
    "- The dataset contains 6 object variables, and 1 float64 variable need to be change to object. \n",
    "- The dataset contain 235 null values.\n",
    "- The dataset have 5 duplicated values."
   ]
  },
  {
   "cell_type": "markdown",
   "metadata": {},
   "source": [
    "## handle missing values and duplicates:"
   ]
  },
  {
   "cell_type": "code",
   "execution_count": 48,
   "metadata": {},
   "outputs": [
    {
     "data": {
      "text/plain": [
       "<AxesSubplot:>"
      ]
     },
     "execution_count": 48,
     "metadata": {},
     "output_type": "execute_result"
    },
    {
     "data": {
      "image/png": "[encoded data removed]",
      "text/plain": [
       "<Figure size 1800x720 with 2 Axes>"
      ]
     },
     "metadata": {
      "needs_background": "light"
     },
     "output_type": "display_data"
    }
   ],
   "source": [
    "#plot missing values\n",
    "msno.matrix(df)"
   ]
  },
  {
   "cell_type": "code",
   "execution_count": 49,
   "metadata": {},
   "outputs": [],
   "source": [
    "#drop missing values\n",
    "df = df.dropna()"
   ]
  },
  {
   "cell_type": "code",
   "execution_count": 50,
   "metadata": {},
   "outputs": [],
   "source": [
    "# drop duplicates \n",
    "df = df.drop_duplicates()"
   ]
  },
  {
   "cell_type": "markdown",
   "metadata": {},
   "source": [
    "## Data Cleaning"
   ]
  },
  {
   "cell_type": "code",
   "execution_count": 52,
   "metadata": {},
   "outputs": [],
   "source": [
    "# Convert Number of Versus type to object and remove the decimal\n",
    "df['Number of Versus'] = df['Number of Versus'].astype(str).replace('\\.0', '', regex=True)\n",
    "\n",
    "# Remove punctuations from the content \n",
    "\n",
    "df['Poem'] = df['Poem'].replace(\"\\xa0\",\" \", regex=True)\n",
    "df['Poem'] = df['Poem'].replace('\\n',\" \", regex=True)\n",
    "df['Poem'] = df['Poem'].replace(\"\\t\",\" \", regex=True)\n",
    "df['Poem'] = df['Poem'].replace(\"ًٌٍَُِّْ\",\" \", regex=True)\n",
    "df['Poem'] = df['Poem'].replace(\"ًٌٍَُِّْ\",\" \", regex=True)\n",
    "\n",
    "# Replac non relative Metre to NaN\n",
    "df.loc[df['Metre'].str.contains('قافية',na=False), 'Metre'] = np.nan\n",
    "\n",
    "# Rename the labels \n",
    "df[\"Label\"] = df[\"Label\"].replace(['قصائد رثاء'],'رثاء')\n",
    "df[\"Label\"] = df[\"Label\"].replace(['قصائد مدح'],'مدح')\n",
    "df[\"Label\"] = df[\"Label\"].replace(['قصائد حزينه'],'حزن')\n",
    "df[\"Label\"] = df[\"Label\"].replace(['قصائد عتاب'],'عتاب')\n",
    "df[\"Label\"] = df[\"Label\"].replace(['قصائد شوق'],'شوق')\n",
    "df[\"Label\"] = df[\"Label\"].replace(['قصائد رومنسيه'],'رومنسيه')\n",
    "df[\"Label\"] = df[\"Label\"].replace(['قصائد هجاء'],'هجاء')\n",
    "df[\"Label\"] = df[\"Label\"].replace(['قصائد فراق'],'فراق')\n",
    "df[\"Label\"] = df[\"Label\"].replace(['قصائد غزل'],'غزل')\n",
    "\n"
   ]
  },
  {
   "cell_type": "code",
   "execution_count": 53,
   "metadata": {},
   "outputs": [
    {
     "data": {
      "text/html": [
       "<div>\n",
       "<style scoped>\n",
       "    .dataframe tbody tr th:only-of-type {\n",
       "        vertical-align: middle;\n",
       "    }\n",
       "\n",
       "    .dataframe tbody tr th {\n",
       "        vertical-align: top;\n",
       "    }\n",
       "\n",
       "    .dataframe thead th {\n",
       "        text-align: right;\n",
       "    }\n",
       "</style>\n",
       "<table border=\"1\" class=\"dataframe\">\n",
       "  <thead>\n",
       "    <tr style=\"text-align: right;\">\n",
       "      <th></th>\n",
       "      <th>Poem</th>\n",
       "      <th>Number of Versus</th>\n",
       "      <th>Poet</th>\n",
       "      <th>Century</th>\n",
       "      <th>Label</th>\n",
       "      <th>Type</th>\n",
       "      <th>Metre</th>\n",
       "    </tr>\n",
       "  </thead>\n",
       "  <tbody>\n",
       "    <tr>\n",
       "      <th>7232</th>\n",
       "      <td>هي الدار موقوف عليك بكاها فلا تعدها يوما تؤم س...</td>\n",
       "      <td>49</td>\n",
       "      <td>الشريف المرتضى</td>\n",
       "      <td>العصر المملوكي</td>\n",
       "      <td>رثاء</td>\n",
       "      <td>عموديه</td>\n",
       "      <td>بحر الطويل</td>\n",
       "    </tr>\n",
       "    <tr>\n",
       "      <th>1617</th>\n",
       "      <td>غودرت مذ قيل الفراق غدا ذا حيرة لا أملك الجلدا...</td>\n",
       "      <td>37</td>\n",
       "      <td>الأبله البغدادي</td>\n",
       "      <td>العصر الايوبي</td>\n",
       "      <td>فراق</td>\n",
       "      <td>عموديه</td>\n",
       "      <td>بحر الكامل</td>\n",
       "    </tr>\n",
       "    <tr>\n",
       "      <th>7503</th>\n",
       "      <td>لله ظبي بقلبي من حاجبيه نبال يدعونه بحسين في ا...</td>\n",
       "      <td>2</td>\n",
       "      <td>علي الغراب الصفاقسي</td>\n",
       "      <td>العصر العثماني</td>\n",
       "      <td>رومنسيه</td>\n",
       "      <td>عموديه</td>\n",
       "      <td>بحر المجتث</td>\n",
       "    </tr>\n",
       "    <tr>\n",
       "      <th>10448</th>\n",
       "      <td>وأجوف معشوق الأنين مخفف تحرك من إطرابنا حركاته...</td>\n",
       "      <td>9</td>\n",
       "      <td>كشاجم</td>\n",
       "      <td>العصر العباسي</td>\n",
       "      <td>شوق</td>\n",
       "      <td>عموديه</td>\n",
       "      <td>بحر الطويل</td>\n",
       "    </tr>\n",
       "    <tr>\n",
       "      <th>9986</th>\n",
       "      <td>كم قلت وخطه على الماء نقش ما ضر لو الماء على ن...</td>\n",
       "      <td>2</td>\n",
       "      <td>نظام الدين الأصفهاني</td>\n",
       "      <td>العصر المملوكي</td>\n",
       "      <td>شوق</td>\n",
       "      <td>عموديه</td>\n",
       "      <td>بحر الدوبيت</td>\n",
       "    </tr>\n",
       "    <tr>\n",
       "      <th>5304</th>\n",
       "      <td>الجسم تذيبه حقوق الخدمه والقلب عذابه علو الهمه...</td>\n",
       "      <td>2</td>\n",
       "      <td>ابن دقيق العيد</td>\n",
       "      <td>العصر المملوكي</td>\n",
       "      <td>رثاء</td>\n",
       "      <td>عموديه</td>\n",
       "      <td>بحر الدوبيت</td>\n",
       "    </tr>\n",
       "    <tr>\n",
       "      <th>7549</th>\n",
       "      <td>قضى الله يا أسماء أن لست زائلا أحبك حتى يغمض ا...</td>\n",
       "      <td>7</td>\n",
       "      <td>الحسين بن مطير الأسدي</td>\n",
       "      <td>العصر العباسي</td>\n",
       "      <td>رومنسيه</td>\n",
       "      <td>عموديه</td>\n",
       "      <td>بحر الطويل</td>\n",
       "    </tr>\n",
       "    <tr>\n",
       "      <th>4899</th>\n",
       "      <td>أين البيان عساي أشرح ما بي لك يا شهيد العلم وا...</td>\n",
       "      <td>51</td>\n",
       "      <td>أحمد الكاشف</td>\n",
       "      <td>مصر</td>\n",
       "      <td>رثاء</td>\n",
       "      <td>عموديه</td>\n",
       "      <td>بحر الكامل</td>\n",
       "    </tr>\n",
       "    <tr>\n",
       "      <th>6484</th>\n",
       "      <td>أستشعر اليأس من الناس فالروح والراحة في الياس ...</td>\n",
       "      <td>5</td>\n",
       "      <td>أبو هلال العسكري</td>\n",
       "      <td>العصر العباسي</td>\n",
       "      <td>رثاء</td>\n",
       "      <td>عموديه</td>\n",
       "      <td>بحر السريع</td>\n",
       "    </tr>\n",
       "    <tr>\n",
       "      <th>4867</th>\n",
       "      <td>بكى الشرق يا خير الصدور الاعاظمعليك بمنهل الدم...</td>\n",
       "      <td>38</td>\n",
       "      <td>أبو المحاسن الكربلائي</td>\n",
       "      <td>العراق</td>\n",
       "      <td>رثاء</td>\n",
       "      <td>عموديه</td>\n",
       "      <td>بحر الطويل</td>\n",
       "    </tr>\n",
       "  </tbody>\n",
       "</table>\n",
       "</div>"
      ],
      "text/plain": [
       "                                                    Poem Number of Versus  \\\n",
       "7232   هي الدار موقوف عليك بكاها فلا تعدها يوما تؤم س...               49   \n",
       "1617   غودرت مذ قيل الفراق غدا ذا حيرة لا أملك الجلدا...               37   \n",
       "7503   لله ظبي بقلبي من حاجبيه نبال يدعونه بحسين في ا...                2   \n",
       "10448  وأجوف معشوق الأنين مخفف تحرك من إطرابنا حركاته...                9   \n",
       "9986   كم قلت وخطه على الماء نقش ما ضر لو الماء على ن...                2   \n",
       "5304   الجسم تذيبه حقوق الخدمه والقلب عذابه علو الهمه...                2   \n",
       "7549   قضى الله يا أسماء أن لست زائلا أحبك حتى يغمض ا...                7   \n",
       "4899   أين البيان عساي أشرح ما بي لك يا شهيد العلم وا...               51   \n",
       "6484   أستشعر اليأس من الناس فالروح والراحة في الياس ...                5   \n",
       "4867   بكى الشرق يا خير الصدور الاعاظمعليك بمنهل الدم...               38   \n",
       "\n",
       "                        Poet         Century    Label    Type        Metre  \n",
       "7232          الشريف المرتضى  العصر المملوكي     رثاء  عموديه   بحر الطويل  \n",
       "1617         الأبله البغدادي   العصر الايوبي     فراق  عموديه   بحر الكامل  \n",
       "7503     علي الغراب الصفاقسي  العصر العثماني  رومنسيه  عموديه   بحر المجتث  \n",
       "10448                  كشاجم   العصر العباسي      شوق  عموديه   بحر الطويل  \n",
       "9986    نظام الدين الأصفهاني  العصر المملوكي      شوق  عموديه  بحر الدوبيت  \n",
       "5304          ابن دقيق العيد  العصر المملوكي     رثاء  عموديه  بحر الدوبيت  \n",
       "7549   الحسين بن مطير الأسدي   العصر العباسي  رومنسيه  عموديه   بحر الطويل  \n",
       "4899             أحمد الكاشف             مصر     رثاء  عموديه   بحر الكامل  \n",
       "6484        أبو هلال العسكري   العصر العباسي     رثاء  عموديه   بحر السريع  \n",
       "4867   أبو المحاسن الكربلائي          العراق     رثاء  عموديه   بحر الطويل  "
      ]
     },
     "execution_count": 53,
     "metadata": {},
     "output_type": "execute_result"
    }
   ],
   "source": [
    "df.sample(10)"
   ]
  },
  {
   "cell_type": "code",
   "execution_count": 62,
   "metadata": {},
   "outputs": [],
   "source": [
    "#save the clean dataset\n",
    "df.to_excel('Poems_Cleaned.xlsx',index=False)"
   ]
  },
  {
   "cell_type": "markdown",
   "metadata": {},
   "source": [
    "## Data visualization"
   ]
  },
  {
   "cell_type": "code",
   "execution_count": 54,
   "metadata": {},
   "outputs": [
    {
     "data": {
      "text/plain": [
       "Label\n",
       "حزن        1363\n",
       "رثاء       2451\n",
       "رومنسيه    1111\n",
       "شوق        1295\n",
       "عتاب       1359\n",
       "غزل        1358\n",
       "فراق        910\n",
       "مدح        1454\n",
       "هجاء       1047\n",
       "dtype: int64"
      ]
     },
     "execution_count": 54,
     "metadata": {},
     "output_type": "execute_result"
    }
   ],
   "source": [
    "poemsperlabel = df.groupby('Label').size()\n",
    "poemsperlabel"
   ]
  },
  {
   "cell_type": "code",
   "execution_count": 55,
   "metadata": {},
   "outputs": [
    {
     "data": {
      "image/png": "[encoded data removed]",
      "text/plain": [
       "<Figure size 576x576 with 1 Axes>"
      ]
     },
     "metadata": {
      "needs_background": "light"
     },
     "output_type": "display_data"
    }
   ],
   "source": [
    "# Number of poems per label\n",
    "ax = df['Label'].value_counts().plot(kind='bar',figsize=(8,8),title=\"Poems per label\")\n",
    "ax.set_xlabel('Label')\n",
    "ax.set_ylabel('Count');"
   ]
  },
  {
   "cell_type": "code",
   "execution_count": 56,
   "metadata": {},
   "outputs": [
    {
     "data": {
      "text/plain": [
       "Metre\n",
       "بحر أحذ الكامل         113\n",
       "بحر البسيط            1691\n",
       "بحر الخفيف             963\n",
       "بحر الدوبيت            404\n",
       "بحر الرجز              286\n",
       "بحر الرمل              252\n",
       "بحر السريع             554\n",
       "بحر السلسلة              4\n",
       "بحر الطويل            2901\n",
       "بحر القوما               1\n",
       "بحر الكامل            1769\n",
       "بحر المتدارك            17\n",
       "بحر المتقارب           480\n",
       "بحر المجتث             148\n",
       "بحر المديد              68\n",
       "بحر المضارع              1\n",
       "بحر المقتضب              4\n",
       "بحر المنسرح            276\n",
       "بحر المواليا            15\n",
       "بحر الهزج               55\n",
       "بحر الوافر             977\n",
       "بحر مجزوء البسيط        13\n",
       "بحر مجزوء الخفيف        58\n",
       "بحر مجزوء الدوبيت        1\n",
       "بحر مجزوء الرجز        114\n",
       "بحر مجزوء الرمل        202\n",
       "بحر مجزوء السريع         1\n",
       "بحر مجزوء الطويل         1\n",
       "بحر مجزوء الكامل       339\n",
       "بحر مجزوء المتقارب       9\n",
       "بحر مجزوء المجتث         2\n",
       "بحر مجزوء المديد         1\n",
       "بحر مجزوء الوافر        59\n",
       "بحر مجزوء موشح           3\n",
       "بحر مخلع البسيط        165\n",
       "بحر مخلع الكامل          1\n",
       "بحر مشطور الرجز          5\n",
       "بحر منهوك المنسرح        2\n",
       "بحر موشح                95\n",
       "dtype: int64"
      ]
     },
     "execution_count": 56,
     "metadata": {},
     "output_type": "execute_result"
    }
   ],
   "source": [
    "poemsperpoet = df.groupby('Metre').size()\n",
    "poemsperpoet"
   ]
  },
  {
   "cell_type": "code",
   "execution_count": 57,
   "metadata": {},
   "outputs": [
    {
     "data": {
      "image/png": "[encoded data removed]",
      "text/plain": [
       "<Figure size 720x720 with 1 Axes>"
      ]
     },
     "metadata": {
      "needs_background": "light"
     },
     "output_type": "display_data"
    }
   ],
   "source": [
    "# Number of poems per label\n",
    "poemsperpoet.sort_values().plot(kind='barh',figsize=(10,10))\n",
    "plt.title(('Number of poems per label'))\n",
    "plt.xlabel(\"Labels\");"
   ]
  },
  {
   "cell_type": "code",
   "execution_count": 58,
   "metadata": {},
   "outputs": [
    {
     "data": {
      "text/plain": [
       "Century\n",
       "الأردن              23\n",
       "الجزائر             11\n",
       "السعودية             6\n",
       "العراق             453\n",
       "العصر الأندلسي     826\n",
       "العصر الاسلامي       9\n",
       "العصر الاموي       799\n",
       "العصر الايوبي      648\n",
       "العصر الجاهلي       79\n",
       "العصر العباسي     3417\n",
       "العصر العثماني     934\n",
       "العصر المملوكي    1812\n",
       "المخضرمون          273\n",
       "المغرب              49\n",
       "اليمن               55\n",
       "تونس               116\n",
       "سوريا              292\n",
       "عمان               156\n",
       "فلسطين              20\n",
       "لبنان             1010\n",
       "ليبيا               30\n",
       "مصر               1325\n",
       "موريتانيا            5\n",
       "dtype: int64"
      ]
     },
     "execution_count": 58,
     "metadata": {},
     "output_type": "execute_result"
    }
   ],
   "source": [
    "poemsperCentury = df.groupby('Century').size()\n",
    "poemsperCentury"
   ]
  },
  {
   "cell_type": "code",
   "execution_count": 59,
   "metadata": {},
   "outputs": [
    {
     "data": {
      "image/png": "[encoded data removed]",
      "text/plain": [
       "<Figure size 720x720 with 1 Axes>"
      ]
     },
     "metadata": {
      "needs_background": "light"
     },
     "output_type": "display_data"
    }
   ],
   "source": [
    "# Number of poems per label\n",
    "poemsperCentury.sort_values().plot(kind='bar',figsize=(10,10))\n",
    "plt.title(('Number of poems per label'))\n",
    "plt.xlabel(\"Labels\");"
   ]
  },
  {
   "cell_type": "markdown",
   "metadata": {},
   "source": [
    "## NLTK and Text Processing"
   ]
  },
  {
   "cell_type": "code",
   "execution_count": 60,
   "metadata": {},
   "outputs": [
    {
     "name": "stderr",
     "output_type": "stream",
     "text": [
      "[nltk_data] Downloading package stopwords to\n",
      "[nltk_data]     /Users/muneraalrajhi/nltk_data...\n",
      "[nltk_data]   Package stopwords is already up-to-date!\n"
     ]
    },
    {
     "data": {
      "text/html": [
       "<div>\n",
       "<style scoped>\n",
       "    .dataframe tbody tr th:only-of-type {\n",
       "        vertical-align: middle;\n",
       "    }\n",
       "\n",
       "    .dataframe tbody tr th {\n",
       "        vertical-align: top;\n",
       "    }\n",
       "\n",
       "    .dataframe thead th {\n",
       "        text-align: right;\n",
       "    }\n",
       "</style>\n",
       "<table border=\"1\" class=\"dataframe\">\n",
       "  <thead>\n",
       "    <tr style=\"text-align: right;\">\n",
       "      <th></th>\n",
       "      <th>Poem</th>\n",
       "      <th>Number of Versus</th>\n",
       "      <th>Poet</th>\n",
       "      <th>Century</th>\n",
       "      <th>Label</th>\n",
       "      <th>Type</th>\n",
       "      <th>Metre</th>\n",
       "      <th>filtered_poems</th>\n",
       "    </tr>\n",
       "  </thead>\n",
       "  <tbody>\n",
       "    <tr>\n",
       "      <th>1948</th>\n",
       "      <td>قالوا الفراق غدا فهل يغنيني عن طول نوحي فيه طو...</td>\n",
       "      <td>12</td>\n",
       "      <td>شاعر الحمراء</td>\n",
       "      <td>المغرب</td>\n",
       "      <td>فراق</td>\n",
       "      <td>عموديه</td>\n",
       "      <td>NaN</td>\n",
       "      <td>[قال, فرق, فهل, يغن, طول, نوح, طول, حني, اغد, ...</td>\n",
       "    </tr>\n",
       "    <tr>\n",
       "      <th>3978</th>\n",
       "      <td>يا سعيد الدهر يا غيث الأنام يا مليك العصر يا ل...</td>\n",
       "      <td>8</td>\n",
       "      <td>صالح مجدي بك</td>\n",
       "      <td>مصر</td>\n",
       "      <td>مدح</td>\n",
       "      <td>عموديه</td>\n",
       "      <td>بحر الرمل</td>\n",
       "      <td>[سعد, دهر, غيث, انم, ليك, عصر, ليث, زحم, شعر, ...</td>\n",
       "    </tr>\n",
       "    <tr>\n",
       "      <th>9414</th>\n",
       "      <td>بين أهوال وأخطا ر صباحا ومساء حالة الجندي في ا...</td>\n",
       "      <td>30</td>\n",
       "      <td>إبراهيم الأسطى</td>\n",
       "      <td>ليبيا</td>\n",
       "      <td>حزن</td>\n",
       "      <td>عموديه</td>\n",
       "      <td>بحر مجزوء الرمل</td>\n",
       "      <td>[هول, أخط, صبح, ساء, حلة, جند, الم, دان, يأس, ...</td>\n",
       "    </tr>\n",
       "    <tr>\n",
       "      <th>4796</th>\n",
       "      <td>أحلت عما عهدت من أدبك أم لك ملكا فتهت في كتبك ...</td>\n",
       "      <td>7</td>\n",
       "      <td>عبدالصمد العبدي</td>\n",
       "      <td>العصر العباسي</td>\n",
       "      <td>مدح</td>\n",
       "      <td>عموديه</td>\n",
       "      <td>بحر المنسرح</td>\n",
       "      <td>[احل, عهد, ادب, لكا, فته, كتب, ترى, نصف, خون, ...</td>\n",
       "    </tr>\n",
       "    <tr>\n",
       "      <th>4416</th>\n",
       "      <td>لك المبارك من حب وتسليم والصادق الحق من حمد وت...</td>\n",
       "      <td>17</td>\n",
       "      <td>أحمد الكاشف</td>\n",
       "      <td>مصر</td>\n",
       "      <td>مدح</td>\n",
       "      <td>عموديه</td>\n",
       "      <td>بحر البسيط</td>\n",
       "      <td>[برك, حب, سلم, صدق, لحق, حمد, كرم, دعك, بنء, ق...</td>\n",
       "    </tr>\n",
       "    <tr>\n",
       "      <th>11881</th>\n",
       "      <td>أظهر جمالك للعيون وأبده وصل الوداد لمن رضاك بو...</td>\n",
       "      <td>52</td>\n",
       "      <td>ابن حجر العسقلاني</td>\n",
       "      <td>العصر المملوكي</td>\n",
       "      <td>غزل</td>\n",
       "      <td>عموديه</td>\n",
       "      <td>بحر الكامل</td>\n",
       "      <td>[ظهر, جمل, عين, أبد, وصل, ودد, لمن, رضك, بود, ...</td>\n",
       "    </tr>\n",
       "    <tr>\n",
       "      <th>4872</th>\n",
       "      <td>يا دار غيرها التقادم والبلى بين السليل ومأزمي ...</td>\n",
       "      <td>4</td>\n",
       "      <td>أبو حية النميري</td>\n",
       "      <td>العصر العباسي</td>\n",
       "      <td>رثاء</td>\n",
       "      <td>عموديه</td>\n",
       "      <td>بحر الكامل</td>\n",
       "      <td>[دار, غير, قدم, بلى, سلل, أزم, كبد, لزل, خفض, ...</td>\n",
       "    </tr>\n",
       "    <tr>\n",
       "      <th>10954</th>\n",
       "      <td>فؤادي إلى لقياكم الدهر مشتاق وقلب وإن وجد النو...</td>\n",
       "      <td>28</td>\n",
       "      <td>الأمير الصنعاني</td>\n",
       "      <td>العصر العثماني</td>\n",
       "      <td>شوق</td>\n",
       "      <td>عموديه</td>\n",
       "      <td>بحر الطويل</td>\n",
       "      <td>[فؤد, لقا, دهر, شتق, قلب, نوى, خفق, وعن, جرت, ...</td>\n",
       "    </tr>\n",
       "    <tr>\n",
       "      <th>2690</th>\n",
       "      <td>فتى لا يبالي المدلجون بنوره إلى ما به ألا تضيء...</td>\n",
       "      <td>2</td>\n",
       "      <td>أبو الطمحان القيني</td>\n",
       "      <td>المخضرمون</td>\n",
       "      <td>هجاء</td>\n",
       "      <td>عموديه</td>\n",
       "      <td>بحر الطويل</td>\n",
       "      <td>[فتى, يبل, دلج, بنر, تضء, ككب, حجب, امر, يشن, ...</td>\n",
       "    </tr>\n",
       "    <tr>\n",
       "      <th>5160</th>\n",
       "      <td>جاءني يحلف أي أن ي محب وشفيق يظهر البر وفي الب...</td>\n",
       "      <td>20</td>\n",
       "      <td>الخطيب الحصكفي</td>\n",
       "      <td>العصر المملوكي</td>\n",
       "      <td>رثاء</td>\n",
       "      <td>عموديه</td>\n",
       "      <td>بحر مجزوء الكامل</td>\n",
       "      <td>[جاء, حلف, محب, شفق, ظهر, لبر, الب, طن, خبث, ع...</td>\n",
       "    </tr>\n",
       "  </tbody>\n",
       "</table>\n",
       "</div>"
      ],
      "text/plain": [
       "                                                    Poem Number of Versus  \\\n",
       "1948   قالوا الفراق غدا فهل يغنيني عن طول نوحي فيه طو...               12   \n",
       "3978   يا سعيد الدهر يا غيث الأنام يا مليك العصر يا ل...                8   \n",
       "9414   بين أهوال وأخطا ر صباحا ومساء حالة الجندي في ا...               30   \n",
       "4796   أحلت عما عهدت من أدبك أم لك ملكا فتهت في كتبك ...                7   \n",
       "4416   لك المبارك من حب وتسليم والصادق الحق من حمد وت...               17   \n",
       "11881  أظهر جمالك للعيون وأبده وصل الوداد لمن رضاك بو...               52   \n",
       "4872   يا دار غيرها التقادم والبلى بين السليل ومأزمي ...                4   \n",
       "10954  فؤادي إلى لقياكم الدهر مشتاق وقلب وإن وجد النو...               28   \n",
       "2690   فتى لا يبالي المدلجون بنوره إلى ما به ألا تضيء...                2   \n",
       "5160   جاءني يحلف أي أن ي محب وشفيق يظهر البر وفي الب...               20   \n",
       "\n",
       "                     Poet         Century Label    Type             Metre  \\\n",
       "1948         شاعر الحمراء          المغرب  فراق  عموديه               NaN   \n",
       "3978         صالح مجدي بك             مصر   مدح  عموديه         بحر الرمل   \n",
       "9414       إبراهيم الأسطى           ليبيا   حزن  عموديه   بحر مجزوء الرمل   \n",
       "4796      عبدالصمد العبدي   العصر العباسي   مدح  عموديه       بحر المنسرح   \n",
       "4416          أحمد الكاشف             مصر   مدح  عموديه        بحر البسيط   \n",
       "11881   ابن حجر العسقلاني  العصر المملوكي   غزل  عموديه        بحر الكامل   \n",
       "4872      أبو حية النميري   العصر العباسي  رثاء  عموديه        بحر الكامل   \n",
       "10954     الأمير الصنعاني  العصر العثماني   شوق  عموديه        بحر الطويل   \n",
       "2690   أبو الطمحان القيني       المخضرمون  هجاء  عموديه        بحر الطويل   \n",
       "5160       الخطيب الحصكفي  العصر المملوكي  رثاء  عموديه  بحر مجزوء الكامل   \n",
       "\n",
       "                                          filtered_poems  \n",
       "1948   [قال, فرق, فهل, يغن, طول, نوح, طول, حني, اغد, ...  \n",
       "3978   [سعد, دهر, غيث, انم, ليك, عصر, ليث, زحم, شعر, ...  \n",
       "9414   [هول, أخط, صبح, ساء, حلة, جند, الم, دان, يأس, ...  \n",
       "4796   [احل, عهد, ادب, لكا, فته, كتب, ترى, نصف, خون, ...  \n",
       "4416   [برك, حب, سلم, صدق, لحق, حمد, كرم, دعك, بنء, ق...  \n",
       "11881  [ظهر, جمل, عين, أبد, وصل, ودد, لمن, رضك, بود, ...  \n",
       "4872   [دار, غير, قدم, بلى, سلل, أزم, كبد, لزل, خفض, ...  \n",
       "10954  [فؤد, لقا, دهر, شتق, قلب, نوى, خفق, وعن, جرت, ...  \n",
       "2690   [فتى, يبل, دلج, بنر, تضء, ككب, حجب, امر, يشن, ...  \n",
       "5160   [جاء, حلف, محب, شفق, ظهر, لبر, الب, طن, خبث, ع...  "
      ]
     },
     "execution_count": 60,
     "metadata": {},
     "output_type": "execute_result"
    }
   ],
   "source": [
    "# Stop Words\n",
    "nltk.download(\"stopwords\")\n",
    "arabic_stopwords = set(nltk.corpus.stopwords.words(\"arabic\"))\n",
    "\n",
    "# Expande Arabic StopWords\n",
    "data = []\n",
    "with open('/Users/muneraalrajhi/Desktop/Capstone Project/CapstoneProject/data/arabic_stop_words.txt','r') as myfile:\n",
    "    for line in myfile:\n",
    "        data.extend(map(str, line.rstrip('\\n').split(',')))\n",
    "arabic_stopwords.update(data)\n",
    "\n",
    "# Tokenaization\n",
    "df['filtered_poems'] = df['Poem'].map(word_tokenize)\n",
    "\n",
    "# Remove Stop Words\n",
    "df['filtered_poems']= df['filtered_poems'].apply(lambda x: [item for item in x if item not in arabic_stopwords])\n",
    "\n",
    "# Arabic Stemmer\n",
    "st = ISRIStemmer()\n",
    "df['filtered_poems'] = df['filtered_poems'].apply(lambda x: [st.stem(y) for y in x])\n",
    "\n",
    "df.sample(10)"
   ]
  },
  {
   "cell_type": "code",
   "execution_count": 61,
   "metadata": {},
   "outputs": [],
   "source": [
    "#save the clean dataset\n",
    "df.to_excel('Poems_Cleaned_TopicModeling.xlsx',index=False)"
   ]
  },
  {
   "cell_type": "code",
   "execution_count": 62,
   "metadata": {},
   "outputs": [],
   "source": [
    "# calculate the most 50 common words\n",
    "fdist1 = FreqDist(sum(df['filtered_poems'], []))"
   ]
  },
  {
   "cell_type": "code",
   "execution_count": 63,
   "metadata": {},
   "outputs": [
    {
     "data": {
      "text/plain": [
       "[('قلب', 6280),\n",
       " ('علم', 4110),\n",
       " ('حسن', 3827),\n",
       " ('دهر', 3724),\n",
       " ('كرم', 3656),\n",
       " ('بعد', 3639),\n",
       " ('ليل', 3504),\n",
       " ('دمع', 3378),\n",
       " ('عين', 3336),\n",
       " ('نفس', 3194),\n",
       " ('سلم', 3081),\n",
       " ('فضل', 2962),\n",
       " ('ذكر', 2900),\n",
       " ('امر', 2810),\n",
       " ('فرق', 2686),\n",
       " ('قبل', 2674),\n",
       " ('بدر', 2657),\n",
       " ('علي', 2568),\n",
       " ('هوى', 2565),\n",
       " ('سعد', 2560),\n",
       " ('حمد', 2558),\n",
       " ('نظر', 2540),\n",
       " ('زمن', 2472),\n",
       " ('خلق', 2430),\n",
       " ('وجد', 2372),\n",
       " ('عرف', 2370),\n",
       " ('جمع', 2335),\n",
       " ('كنت', 2314),\n",
       " ('وصل', 2280),\n",
       " ('قوم', 2257),\n",
       " ('شمس', 2255),\n",
       " ('ناس', 2233),\n",
       " ('لقد', 2197),\n",
       " ('خير', 2147),\n",
       " ('ملك', 2127),\n",
       " ('ارض', 2122),\n",
       " ('وجه', 2103),\n",
       " ('شعر', 2074),\n",
       " ('صبح', 2045),\n",
       " ('مجد', 2042),\n",
       " ('عند', 2032),\n",
       " ('عهد', 2007),\n",
       " ('جمل', 2000),\n",
       " ('عمر', 1998),\n",
       " ('بين', 1951),\n",
       " ('بحر', 1947),\n",
       " ('قرب', 1926),\n",
       " ('حكم', 1905),\n",
       " ('ورد', 1905),\n",
       " ('عرض', 1897)]"
      ]
     },
     "execution_count": 63,
     "metadata": {},
     "output_type": "execute_result"
    }
   ],
   "source": [
    "fdist1.most_common(50)"
   ]
  },
  {
   "cell_type": "code",
   "execution_count": 69,
   "metadata": {},
   "outputs": [
    {
     "data": {
      "image/png": "[encoded data removed]",
      "text/plain": [
       "<Figure size 720x720 with 1 Axes>"
      ]
     },
     "metadata": {
      "needs_background": "light"
     },
     "output_type": "display_data"
    }
   ],
   "source": [
    "#the 50 most common word viz\n",
    "all_fdist = fdist1.most_common(50)\n",
    "\n",
    "all_fdist = pd.Series(dict(all_fdist))\n",
    "fig, ax = plt.subplots(figsize=(10,10))\n",
    "\n",
    "all_plot = sns.barplot(x=all_fdist.index, y=all_fdist.values, ax=ax)\n",
    "plt.xticks(rotation=30);"
   ]
  },
  {
   "cell_type": "code",
   "execution_count": 64,
   "metadata": {},
   "outputs": [],
   "source": [
    "commonwords = str(fdist1.most_common(50))"
   ]
  },
  {
   "cell_type": "code",
   "execution_count": 68,
   "metadata": {},
   "outputs": [
    {
     "data": {
      "image/png": "[encoded data removed]",
      "text/plain": [
       "<Figure size 432x288 with 1 Axes>"
      ]
     },
     "metadata": {
      "needs_background": "light"
     },
     "output_type": "display_data"
    }
   ],
   "source": [
    "# Word Cloud viz\n",
    "awc = ArabicWordCloud( background_color = 'white').generate(commonwords)\n",
    "wc = awc.from_text(commonwords)\n",
    "plt.imshow(wc)\n",
    "plt.axis(\"off\")\n",
    "plt.title('Top 50 Common Words', fontsize=15);"
   ]
  },
  {
   "cell_type": "markdown",
   "metadata": {},
   "source": [
    "Source:\n",
    "    NLTK book Chapter1 Language Processing and Python:\n",
    "            https://www.nltk.org/book/ch01.html"
   ]
  }
 ],
 "metadata": {
  "interpreter": {
   "hash": "b636e954a0b6bc7f3d44ba0ea3984fa6b30a3ebf3ff15973f9d3fe28f5ed9b30"
  },
  "kernelspec": {
   "display_name": "Python 3 (ipykernel)",
   "language": "python",
   "name": "python3"
  },
  "language_info": {
   "codemirror_mode": {
    "name": "ipython",
    "version": 3
   },
   "file_extension": ".py",
   "mimetype": "text/x-python",
   "name": "python",
   "nbconvert_exporter": "python",
   "pygments_lexer": "ipython3",
   "version": "3.8.12"
  }
 },
 "nbformat": 4,
 "nbformat_minor": 2
}
